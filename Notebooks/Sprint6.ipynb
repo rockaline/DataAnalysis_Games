{
 "cells": [
  {
   "cell_type": "markdown",
   "metadata": {},
   "source": [
    "# Revisão de código \n",
    "\n",
    "Olá! \n",
    "\n",
    "Meu nome é Suelen. Estou feliz em revisar seu projeto hoje!\n",
    "\n",
    "Quando vejo um erro pela primeira vez, apenas aponto. Deixarei você encontrá-lo e corrigi-lo sozinho. Além disso, ao longo do texto, farei algumas observações sobre melhorias no código e também farei comentários sobre suas percepções sobre o assunto. Mas se você ainda não consegue lidar com essa tarefa, darei uma dica mais precisa na próxima iteração e também alguns exemplos práticos. Estarei aberta a feedbacks e discussões sobre o tema.\n",
    "\n",
    "Você pode encontrar meus comentários em caixas verdes, amarelas ou vermelhas como estas:\n",
    "\n",
    "\n",
    "<div class=\"alert alert-block alert-success\">\n",
    "<b>Comentário: </b> <a class=\"tocSkip\"></a>\n",
    "\n",
    "Sucesso. Tudo está correto.\n",
    "</div>\n",
    "\n",
    "<div class=\"alert alert-block alert-warning\">\n",
    "<b>Comentário: </b> <a class=\"tocSkip\"></a>\n",
    "\n",
    "Observações. Algumas recomendações.\n",
    "</div>\n",
    "\n",
    "<div class=\"alert alert-block alert-danger\">\n",
    "\n",
    "<b>Comentário: </b> <a class=\"tocSkip\"></a>\n",
    "\n",
    "O bloco requer algumas correções. O trabalho não pode ser aceito com os comentários vermelhos.\n",
    "</div>\n",
    "\n",
    "Você pode me responder usando isto:\n",
    "\n",
    "<div class=\"alert alert-block alert-info\">\n",
    "<b>Resposta do aluno</b> <a class=\"tocSkip\"></a>\n",
    "</div>\n",
    "\n"
   ]
  },
  {
   "cell_type": "code",
   "execution_count": null,
   "metadata": {},
   "outputs": [],
   "source": []
  },
  {
   "cell_type": "markdown",
   "metadata": {},
   "source": [
    "<div class=\"alert alert-block alert-success\">\n",
    "<b>Comentário geral: </b> <a class=\"tocSkip\"></a>\n",
    "\n",
    "Parabéns pela conclusão do projeto, Aline!👏🚀\n",
    "\n",
    "O seu trabalho demonstra alta qualidade, com código bem estruturado e comentários relevantes em cada etapa. Vi seu comentário no final do projeto onde você solicitou dicas de otimizar o código. Então adicionei apenas algumas sugestões que podem contribuir para elevar ainda mais a qualidade do projeto.\n",
    "\n",
    "O projeto está aprovado! Continue com o excelente trabalho!\n",
    "\n",
    "</div>"
   ]
  },
  {
   "cell_type": "markdown",
   "metadata": {},
   "source": [
    "# Sprint 6 - Projeto Integrado 1 "
   ]
  },
  {
   "cell_type": "markdown",
   "metadata": {},
   "source": [
    "## Abrir o arquivo de dados e estudar as informações gerais"
   ]
  },
  {
   "cell_type": "code",
   "execution_count": 1,
   "metadata": {},
   "outputs": [
    {
     "name": "stdout",
     "output_type": "stream",
     "text": [
      "                        Name Platform  Year_of_Release         Genre  \\\n",
      "0                 Wii Sports      Wii           2006.0        Sports   \n",
      "1          Super Mario Bros.      NES           1985.0      Platform   \n",
      "2             Mario Kart Wii      Wii           2008.0        Racing   \n",
      "3          Wii Sports Resort      Wii           2009.0        Sports   \n",
      "4   Pokemon Red/Pokemon Blue       GB           1996.0  Role-Playing   \n",
      "5                     Tetris       GB           1989.0        Puzzle   \n",
      "6      New Super Mario Bros.       DS           2006.0      Platform   \n",
      "7                   Wii Play      Wii           2006.0          Misc   \n",
      "8  New Super Mario Bros. Wii      Wii           2009.0      Platform   \n",
      "9                  Duck Hunt      NES           1984.0       Shooter   \n",
      "\n",
      "   NA_sales  EU_sales  JP_sales  Other_sales  Critic_Score User_Score Rating  \n",
      "0     41.36     28.96      3.77         8.45          76.0          8      E  \n",
      "1     29.08      3.58      6.81         0.77           NaN        NaN    NaN  \n",
      "2     15.68     12.76      3.79         3.29          82.0        8.3      E  \n",
      "3     15.61     10.93      3.28         2.95          80.0          8      E  \n",
      "4     11.27      8.89     10.22         1.00           NaN        NaN    NaN  \n",
      "5     23.20      2.26      4.22         0.58           NaN        NaN    NaN  \n",
      "6     11.28      9.14      6.50         2.88          89.0        8.5      E  \n",
      "7     13.96      9.18      2.93         2.84          58.0        6.6      E  \n",
      "8     14.44      6.94      4.70         2.24          87.0        8.4      E  \n",
      "9     26.93      0.63      0.28         0.47           NaN        NaN    NaN  \n",
      "<class 'pandas.core.frame.DataFrame'>\n",
      "RangeIndex: 16715 entries, 0 to 16714\n",
      "Data columns (total 11 columns):\n",
      " #   Column           Non-Null Count  Dtype  \n",
      "---  ------           --------------  -----  \n",
      " 0   Name             16713 non-null  object \n",
      " 1   Platform         16715 non-null  object \n",
      " 2   Year_of_Release  16446 non-null  float64\n",
      " 3   Genre            16713 non-null  object \n",
      " 4   NA_sales         16715 non-null  float64\n",
      " 5   EU_sales         16715 non-null  float64\n",
      " 6   JP_sales         16715 non-null  float64\n",
      " 7   Other_sales      16715 non-null  float64\n",
      " 8   Critic_Score     8137 non-null   float64\n",
      " 9   User_Score       10014 non-null  object \n",
      " 10  Rating           9949 non-null   object \n",
      "dtypes: float64(6), object(5)\n",
      "memory usage: 1.4+ MB\n"
     ]
    }
   ],
   "source": [
    "# Importar bibliotecas\n",
    "import pandas as pd\n",
    "import numpy as np\n",
    "import matplotlib.pyplot as plt\n",
    "from scipy import stats as st\n",
    "import seaborn as sns\n",
    "\n",
    "# Ler dataframe\n",
    "df = pd.read_csv('/datasets/games.csv')\n",
    "\n",
    "# Obter uma visão geral dos dados\n",
    "print(df.head(10))\n",
    "df.info()"
   ]
  },
  {
   "cell_type": "markdown",
   "metadata": {},
   "source": [
    "## Preparar os dados"
   ]
  },
  {
   "cell_type": "markdown",
   "metadata": {},
   "source": [
    "### Formatar títulos das colunas para que fiquem com as letras minúsculas"
   ]
  },
  {
   "cell_type": "code",
   "execution_count": 2,
   "metadata": {},
   "outputs": [
    {
     "name": "stdout",
     "output_type": "stream",
     "text": [
      "Index(['name', 'platform', 'year_of_release', 'genre', 'na_sales', 'eu_sales',\n",
      "       'jp_sales', 'other_sales', 'critic_score', 'user_score', 'rating'],\n",
      "      dtype='object')\n"
     ]
    }
   ],
   "source": [
    "df.columns = (\n",
    " df.columns\n",
    " .str\n",
    " .lower()\n",
    ")\n",
    "\n",
    "print (df.columns)"
   ]
  },
  {
   "cell_type": "markdown",
   "metadata": {},
   "source": [
    "### Alterar tipos dos dados armazenados na coluna 'year_of_release' para inteiro "
   ]
  },
  {
   "cell_type": "code",
   "execution_count": 3,
   "metadata": {},
   "outputs": [
    {
     "name": "stdout",
     "output_type": "stream",
     "text": [
      "<class 'pandas.core.frame.DataFrame'>\n",
      "Int64Index: 16446 entries, 0 to 16714\n",
      "Data columns (total 11 columns):\n",
      " #   Column           Non-Null Count  Dtype  \n",
      "---  ------           --------------  -----  \n",
      " 0   name             16444 non-null  object \n",
      " 1   platform         16446 non-null  object \n",
      " 2   year_of_release  16446 non-null  int64  \n",
      " 3   genre            16444 non-null  object \n",
      " 4   na_sales         16446 non-null  float64\n",
      " 5   eu_sales         16446 non-null  float64\n",
      " 6   jp_sales         16446 non-null  float64\n",
      " 7   other_sales      16446 non-null  float64\n",
      " 8   critic_score     7983 non-null   float64\n",
      " 9   user_score       9839 non-null   object \n",
      " 10  rating           9768 non-null   object \n",
      "dtypes: float64(5), int64(1), object(5)\n",
      "memory usage: 1.5+ MB\n"
     ]
    }
   ],
   "source": [
    "# Como existem valores vazios na coluna e o tipo de dados de números inteiros não aceita valores vazios na \n",
    "# coluna, e como as análises de vendas serão feitas com base nos anos, as linhas são excluídas do dataframe.\n",
    "df = df.dropna(subset=['year_of_release'])\n",
    "\n",
    "# Então, os valores são convertidos de float para int.\n",
    "df['year_of_release'] = (\n",
    "  df['year_of_release']\n",
    "  .astype(int)\n",
    ")\n",
    "\n",
    "df.info()"
   ]
  },
  {
   "cell_type": "markdown",
   "metadata": {},
   "source": [
    "<div class=\"alert alert-block alert-warning\">\n",
    "<b>Comentário: </b> <a class=\"tocSkip\"></a>\n",
    "\n",
    "Sugestão: É possível preencher os dados nulos da coluna `Year_of_Release` da seguinte maneira:\n",
    "```python \n",
    "\n",
    "# Preenchendo valores vazios da coluna 'Year_of_Release'\n",
    "\n",
    "#Remover os jogos sem nome\n",
    "df_games.dropna(subset=['Name'], inplace=True)\n",
    "\n",
    "# Preenche os valores vazios de 'Year_of_Release' agrupando por 'Name' e 'Platform' e preenchendo com o valor mínimo encontrado para cada grupo.\n",
    "df_games['Year_of_Release'] = df_games.groupby(['Name', 'Platform'])['Year_of_Release'].transform(lambda x: x.fillna(x.min()))\n",
    "\n",
    "# Preenche os valores vazios restantes de 'Year_of_Release' agrupando apenas por 'Name' e preenchendo com o valor mínimo encontrado para cada grupo.\n",
    "df_games['Year_of_Release'] = df_games.groupby(['Name'])['Year_of_Release'].transform(lambda x: x.fillna(x.min()))\n",
    "\n",
    "# Preenche quaisquer valores vazios remanescentes de 'Year_of_Release' agrupando apenas por 'Platform' e preenchendo com o valor mínimo encontrado para cada grupo.\n",
    "df_games['Year_of_Release'] = df_games.groupby(['Platform'])['Year_of_Release'].transform(lambda x: x.fillna(x.min()))\n",
    "\n",
    "```\n",
    "</div>"
   ]
  },
  {
   "cell_type": "markdown",
   "metadata": {},
   "source": [
    "### Alterar tipos dos dados armazenados na coluna 'user_score' para decimais"
   ]
  },
  {
   "cell_type": "code",
   "execution_count": 4,
   "metadata": {},
   "outputs": [
    {
     "name": "stdout",
     "output_type": "stream",
     "text": [
      "                                 name platform  year_of_release       genre  \\\n",
      "119                     Zumba Fitness      Wii             2010      Sports   \n",
      "301    Namco Museum: 50th Anniversary      PS2             2005        Misc   \n",
      "520                   Zumba Fitness 2      Wii             2011      Sports   \n",
      "645                      uDraw Studio      Wii             2010        Misc   \n",
      "718                   Just Dance Kids      Wii             2010        Misc   \n",
      "...                               ...      ...              ...         ...   \n",
      "16695                 Planet Monsters      GBA             2001      Action   \n",
      "16697                Bust-A-Move 3000       GC             2003      Puzzle   \n",
      "16698                Mega Brain Boost       DS             2008      Puzzle   \n",
      "16704                        Plushees       DS             2008  Simulation   \n",
      "16706   Men in Black II: Alien Escape       GC             2003     Shooter   \n",
      "\n",
      "       na_sales  eu_sales  jp_sales  other_sales  critic_score user_score  \\\n",
      "119        3.45      2.59       0.0         0.66           NaN        tbd   \n",
      "301        2.08      1.35       0.0         0.54          61.0        tbd   \n",
      "520        1.51      1.03       0.0         0.27           NaN        tbd   \n",
      "645        1.65      0.57       0.0         0.20          71.0        tbd   \n",
      "718        1.52      0.54       0.0         0.18           NaN        tbd   \n",
      "...         ...       ...       ...          ...           ...        ...   \n",
      "16695      0.01      0.00       0.0         0.00          67.0        tbd   \n",
      "16697      0.01      0.00       0.0         0.00          53.0        tbd   \n",
      "16698      0.01      0.00       0.0         0.00          48.0        tbd   \n",
      "16704      0.01      0.00       0.0         0.00           NaN        tbd   \n",
      "16706      0.01      0.00       0.0         0.00           NaN        tbd   \n",
      "\n",
      "      rating  \n",
      "119        E  \n",
      "301     E10+  \n",
      "520        T  \n",
      "645        E  \n",
      "718        E  \n",
      "...      ...  \n",
      "16695      E  \n",
      "16697      E  \n",
      "16698      E  \n",
      "16704      E  \n",
      "16706      T  \n",
      "\n",
      "[2376 rows x 11 columns]\n"
     ]
    }
   ],
   "source": [
    "# Como 'user_score' contém 2376 valores 'tbd' (to be determined), a conversão não é possível diretamente. \n",
    "tbdb = df[df['user_score'] == 'tbd'] \n",
    "print(tbdb)\n",
    "\n",
    "# Para realizar a alteração dos tipos de dados da coluna user_score de object para float, primeiro os valores \n",
    "#'tbd' são substituídos por NaN\n",
    "df['user_score'] = (\n",
    "  df['user_score']\n",
    "  .replace('tbd', np.nan)\n",
    ")\n",
    "\n",
    "# Converter a coluna 'user_score' de object para float\n",
    "df['user_score'] = (\n",
    "  df['user_score']\n",
    "  .astype(float)\n",
    ")"
   ]
  },
  {
   "cell_type": "markdown",
   "metadata": {},
   "source": [
    "### Lidar com valores ausentes na coluna 'nome'"
   ]
  },
  {
   "cell_type": "code",
   "execution_count": 5,
   "metadata": {},
   "outputs": [
    {
     "name": "stdout",
     "output_type": "stream",
     "text": [
      "      name platform  year_of_release genre  na_sales  eu_sales  jp_sales  \\\n",
      "659    NaN      GEN             1993   NaN      1.78      0.53      0.00   \n",
      "14244  NaN      GEN             1993   NaN      0.00      0.00      0.03   \n",
      "\n",
      "       other_sales  critic_score  user_score rating  \n",
      "659           0.08           NaN         NaN    NaN  \n",
      "14244         0.00           NaN         NaN    NaN  \n",
      "<class 'pandas.core.frame.DataFrame'>\n",
      "Int64Index: 16444 entries, 0 to 16714\n",
      "Data columns (total 11 columns):\n",
      " #   Column           Non-Null Count  Dtype  \n",
      "---  ------           --------------  -----  \n",
      " 0   name             16444 non-null  object \n",
      " 1   platform         16444 non-null  object \n",
      " 2   year_of_release  16444 non-null  int64  \n",
      " 3   genre            16444 non-null  object \n",
      " 4   na_sales         16444 non-null  float64\n",
      " 5   eu_sales         16444 non-null  float64\n",
      " 6   jp_sales         16444 non-null  float64\n",
      " 7   other_sales      16444 non-null  float64\n",
      " 8   critic_score     7983 non-null   float64\n",
      " 9   user_score       7463 non-null   float64\n",
      " 10  rating           9768 non-null   object \n",
      "dtypes: float64(6), int64(1), object(4)\n",
      "memory usage: 1.5+ MB\n"
     ]
    }
   ],
   "source": [
    "# Filtrar dataframe para mostrar apenas as linhas sem dados na coluna 'nome'\n",
    "no_name = (\n",
    "  df[df['name']\n",
    "  .isna()]\n",
    ")\n",
    "\n",
    "print(no_name)\n",
    "\n",
    "# Excluir as 2 linhas do dataframe sem dados na coluna 'nome', que são as mesmas sem dados na coluna 'genre'\n",
    "df = df.dropna(subset=['name'])\n",
    "df.info()"
   ]
  },
  {
   "cell_type": "markdown",
   "metadata": {},
   "source": [
    "### Adicionar coluna com o total de vendas"
   ]
  },
  {
   "cell_type": "code",
   "execution_count": 6,
   "metadata": {},
   "outputs": [
    {
     "data": {
      "text/html": [
       "<div>\n",
       "<style scoped>\n",
       "    .dataframe tbody tr th:only-of-type {\n",
       "        vertical-align: middle;\n",
       "    }\n",
       "\n",
       "    .dataframe tbody tr th {\n",
       "        vertical-align: top;\n",
       "    }\n",
       "\n",
       "    .dataframe thead th {\n",
       "        text-align: right;\n",
       "    }\n",
       "</style>\n",
       "<table border=\"1\" class=\"dataframe\">\n",
       "  <thead>\n",
       "    <tr style=\"text-align: right;\">\n",
       "      <th></th>\n",
       "      <th>name</th>\n",
       "      <th>platform</th>\n",
       "      <th>year_of_release</th>\n",
       "      <th>genre</th>\n",
       "      <th>na_sales</th>\n",
       "      <th>eu_sales</th>\n",
       "      <th>jp_sales</th>\n",
       "      <th>other_sales</th>\n",
       "      <th>critic_score</th>\n",
       "      <th>user_score</th>\n",
       "      <th>rating</th>\n",
       "      <th>total_sales</th>\n",
       "    </tr>\n",
       "  </thead>\n",
       "  <tbody>\n",
       "    <tr>\n",
       "      <th>0</th>\n",
       "      <td>Wii Sports</td>\n",
       "      <td>Wii</td>\n",
       "      <td>2006</td>\n",
       "      <td>Sports</td>\n",
       "      <td>41.36</td>\n",
       "      <td>28.96</td>\n",
       "      <td>3.77</td>\n",
       "      <td>8.45</td>\n",
       "      <td>76.0</td>\n",
       "      <td>8.0</td>\n",
       "      <td>E</td>\n",
       "      <td>82.54</td>\n",
       "    </tr>\n",
       "    <tr>\n",
       "      <th>1</th>\n",
       "      <td>Super Mario Bros.</td>\n",
       "      <td>NES</td>\n",
       "      <td>1985</td>\n",
       "      <td>Platform</td>\n",
       "      <td>29.08</td>\n",
       "      <td>3.58</td>\n",
       "      <td>6.81</td>\n",
       "      <td>0.77</td>\n",
       "      <td>NaN</td>\n",
       "      <td>NaN</td>\n",
       "      <td>NaN</td>\n",
       "      <td>40.24</td>\n",
       "    </tr>\n",
       "    <tr>\n",
       "      <th>2</th>\n",
       "      <td>Mario Kart Wii</td>\n",
       "      <td>Wii</td>\n",
       "      <td>2008</td>\n",
       "      <td>Racing</td>\n",
       "      <td>15.68</td>\n",
       "      <td>12.76</td>\n",
       "      <td>3.79</td>\n",
       "      <td>3.29</td>\n",
       "      <td>82.0</td>\n",
       "      <td>8.3</td>\n",
       "      <td>E</td>\n",
       "      <td>35.52</td>\n",
       "    </tr>\n",
       "    <tr>\n",
       "      <th>3</th>\n",
       "      <td>Wii Sports Resort</td>\n",
       "      <td>Wii</td>\n",
       "      <td>2009</td>\n",
       "      <td>Sports</td>\n",
       "      <td>15.61</td>\n",
       "      <td>10.93</td>\n",
       "      <td>3.28</td>\n",
       "      <td>2.95</td>\n",
       "      <td>80.0</td>\n",
       "      <td>8.0</td>\n",
       "      <td>E</td>\n",
       "      <td>32.77</td>\n",
       "    </tr>\n",
       "    <tr>\n",
       "      <th>4</th>\n",
       "      <td>Pokemon Red/Pokemon Blue</td>\n",
       "      <td>GB</td>\n",
       "      <td>1996</td>\n",
       "      <td>Role-Playing</td>\n",
       "      <td>11.27</td>\n",
       "      <td>8.89</td>\n",
       "      <td>10.22</td>\n",
       "      <td>1.00</td>\n",
       "      <td>NaN</td>\n",
       "      <td>NaN</td>\n",
       "      <td>NaN</td>\n",
       "      <td>31.38</td>\n",
       "    </tr>\n",
       "  </tbody>\n",
       "</table>\n",
       "</div>"
      ],
      "text/plain": [
       "                       name platform  year_of_release         genre  na_sales  \\\n",
       "0                Wii Sports      Wii             2006        Sports     41.36   \n",
       "1         Super Mario Bros.      NES             1985      Platform     29.08   \n",
       "2            Mario Kart Wii      Wii             2008        Racing     15.68   \n",
       "3         Wii Sports Resort      Wii             2009        Sports     15.61   \n",
       "4  Pokemon Red/Pokemon Blue       GB             1996  Role-Playing     11.27   \n",
       "\n",
       "   eu_sales  jp_sales  other_sales  critic_score  user_score rating  \\\n",
       "0     28.96      3.77         8.45          76.0         8.0      E   \n",
       "1      3.58      6.81         0.77           NaN         NaN    NaN   \n",
       "2     12.76      3.79         3.29          82.0         8.3      E   \n",
       "3     10.93      3.28         2.95          80.0         8.0      E   \n",
       "4      8.89     10.22         1.00           NaN         NaN    NaN   \n",
       "\n",
       "   total_sales  \n",
       "0        82.54  \n",
       "1        40.24  \n",
       "2        35.52  \n",
       "3        32.77  \n",
       "4        31.38  "
      ]
     },
     "execution_count": 6,
     "metadata": {},
     "output_type": "execute_result"
    }
   ],
   "source": [
    "df['total_sales'] = (\n",
    "  df['na_sales'] \n",
    "  + df['eu_sales'] \n",
    "  + df['jp_sales']\n",
    "  + df['other_sales']\n",
    ")\n",
    "df.head(5)"
   ]
  },
  {
   "cell_type": "markdown",
   "metadata": {},
   "source": []
  },
  {
   "cell_type": "markdown",
   "metadata": {},
   "source": [
    "### Comentários"
   ]
  },
  {
   "cell_type": "markdown",
   "metadata": {},
   "source": [
    "1. Explique por que você preencheu os valores ausentes da forma que você fez ou por que você decidiu deixá-los em branco.\n",
    "R: As linhas com valores ausentes das colunas 'name', 'genre' e 'year_of_release' foram excluídas. Os valores ausentes das colunas 'critic_score', 'user_score' e 'rating' serão deixados vazios, por enquanto. As colunas 'year_of_release' e 'user_score' foram alteradas para inteiro e float, respectivamente.\n",
    "\n",
    "2.\tPor que acha que os valores estão ausentes? Dê possíveis razões.\n",
    "R: Os valores das últimas três colunas estão vazios possivelmente porque não era obrigatório dar notas para os jogos. \n",
    "\n",
    "3.\tPreste atenção à abreviação TBD (a ser determinada). Especifique como pretende lidar com esses casos.\n",
    "R: Os valores 'tbd' presentes na coluna 'user_score' foram excluídos e deixados vazios (Nan).\n",
    "\n",
    "4. Foi adicionada uma coluna com a soma das vendas de cada jogo."
   ]
  },
  {
   "cell_type": "markdown",
   "metadata": {},
   "source": [
    "<div class=\"alert alert-block alert-success\">\n",
    "<b>Comentário: </b> <a class=\"tocSkip\"></a>\n",
    "    \n",
    "- Os dados foram processados corretamente\n",
    "- Comentários pertinentes a análise foram adicionados\n",
    "</div>"
   ]
  },
  {
   "cell_type": "markdown",
   "metadata": {},
   "source": [
    "## Analisar os dados"
   ]
  },
  {
   "cell_type": "markdown",
   "metadata": {},
   "source": [
    "### Quantidade de jogos lançados por ano"
   ]
  },
  {
   "cell_type": "code",
   "execution_count": 7,
   "metadata": {
    "scrolled": true
   },
   "outputs": [
    {
     "name": "stdout",
     "output_type": "stream",
     "text": [
      "1980       9\n",
      "1981      46\n",
      "1982      36\n",
      "1983      17\n",
      "1984      14\n",
      "1985      14\n",
      "1986      21\n",
      "1987      16\n",
      "1988      15\n",
      "1989      17\n",
      "1990      16\n",
      "1991      41\n",
      "1992      43\n",
      "1993      60\n",
      "1994     121\n",
      "1995     219\n",
      "1996     263\n",
      "1997     289\n",
      "1998     379\n",
      "1999     338\n",
      "2000     350\n",
      "2001     482\n",
      "2002     829\n",
      "2003     775\n",
      "2004     762\n",
      "2005     939\n",
      "2006    1006\n",
      "2007    1197\n",
      "2008    1427\n",
      "2009    1426\n",
      "2010    1255\n",
      "2011    1136\n",
      "2012     653\n",
      "2013     544\n",
      "2014     581\n",
      "2015     606\n",
      "2016     502\n",
      "Name: year_of_release, dtype: int64\n"
     ]
    },
    {
     "data": {
      "image/png": "[encoded data removed]",
      "text/plain": [
       "<Figure size 1000x600 with 1 Axes>"
      ]
     },
     "metadata": {},
     "output_type": "display_data"
    }
   ],
   "source": [
    "# Quantidade de jogos lançados por ano\n",
    "games_releases_per_year = (\n",
    "  df['year_of_release']\n",
    "  .value_counts()\n",
    "  .sort_index()\n",
    ")\n",
    "\n",
    "print(games_releases_per_year)\n",
    "\n",
    "# Criar um gráfico de barras simples\n",
    "plt.figure(figsize=(10, 6))\n",
    "games_releases_per_year.plot(kind='bar', color='skyblue')\n",
    "\n",
    "# Adicionar título e rótulos aos eixos\n",
    "plt.title('Número de Jogos Lançados por Ano', fontsize=16)\n",
    "plt.xlabel('Ano de Lançamento', fontsize=12)\n",
    "plt.ylabel('Quantidade de Jogos', fontsize=12)\n",
    "\n",
    "# Mostrar o gráfico\n",
    "plt.show()"
   ]
  },
  {
   "cell_type": "markdown",
   "metadata": {},
   "source": [
    "### Comentários\n",
    "O período entre os anos de 2002 e 2011 foi especialmente importante, no que tange a quantidade de jogos lançados."
   ]
  },
  {
   "cell_type": "markdown",
   "metadata": {},
   "source": [
    "### Vendas totais por plataforma"
   ]
  },
  {
   "cell_type": "code",
   "execution_count": 8,
   "metadata": {},
   "outputs": [
    {
     "data": {
      "text/html": [
       "<div>\n",
       "<style scoped>\n",
       "    .dataframe tbody tr th:only-of-type {\n",
       "        vertical-align: middle;\n",
       "    }\n",
       "\n",
       "    .dataframe tbody tr th {\n",
       "        vertical-align: top;\n",
       "    }\n",
       "\n",
       "    .dataframe thead th {\n",
       "        text-align: right;\n",
       "    }\n",
       "</style>\n",
       "<table border=\"1\" class=\"dataframe\">\n",
       "  <thead>\n",
       "    <tr style=\"text-align: right;\">\n",
       "      <th></th>\n",
       "      <th>platform</th>\n",
       "      <th>total_sales</th>\n",
       "    </tr>\n",
       "  </thead>\n",
       "  <tbody>\n",
       "    <tr>\n",
       "      <th>16</th>\n",
       "      <td>PS2</td>\n",
       "      <td>1233.56</td>\n",
       "    </tr>\n",
       "    <tr>\n",
       "      <th>28</th>\n",
       "      <td>X360</td>\n",
       "      <td>961.24</td>\n",
       "    </tr>\n",
       "    <tr>\n",
       "      <th>17</th>\n",
       "      <td>PS3</td>\n",
       "      <td>931.34</td>\n",
       "    </tr>\n",
       "    <tr>\n",
       "      <th>26</th>\n",
       "      <td>Wii</td>\n",
       "      <td>891.18</td>\n",
       "    </tr>\n",
       "    <tr>\n",
       "      <th>4</th>\n",
       "      <td>DS</td>\n",
       "      <td>802.78</td>\n",
       "    </tr>\n",
       "    <tr>\n",
       "      <th>15</th>\n",
       "      <td>PS</td>\n",
       "      <td>727.58</td>\n",
       "    </tr>\n",
       "    <tr>\n",
       "      <th>18</th>\n",
       "      <td>PS4</td>\n",
       "      <td>314.14</td>\n",
       "    </tr>\n",
       "    <tr>\n",
       "      <th>6</th>\n",
       "      <td>GBA</td>\n",
       "      <td>312.88</td>\n",
       "    </tr>\n",
       "    <tr>\n",
       "      <th>19</th>\n",
       "      <td>PSP</td>\n",
       "      <td>289.53</td>\n",
       "    </tr>\n",
       "    <tr>\n",
       "      <th>2</th>\n",
       "      <td>3DS</td>\n",
       "      <td>257.81</td>\n",
       "    </tr>\n",
       "    <tr>\n",
       "      <th>13</th>\n",
       "      <td>PC</td>\n",
       "      <td>255.76</td>\n",
       "    </tr>\n",
       "    <tr>\n",
       "      <th>5</th>\n",
       "      <td>GB</td>\n",
       "      <td>254.43</td>\n",
       "    </tr>\n",
       "    <tr>\n",
       "      <th>29</th>\n",
       "      <td>XB</td>\n",
       "      <td>251.57</td>\n",
       "    </tr>\n",
       "    <tr>\n",
       "      <th>11</th>\n",
       "      <td>NES</td>\n",
       "      <td>251.05</td>\n",
       "    </tr>\n",
       "    <tr>\n",
       "      <th>10</th>\n",
       "      <td>N64</td>\n",
       "      <td>218.01</td>\n",
       "    </tr>\n",
       "    <tr>\n",
       "      <th>23</th>\n",
       "      <td>SNES</td>\n",
       "      <td>200.04</td>\n",
       "    </tr>\n",
       "    <tr>\n",
       "      <th>7</th>\n",
       "      <td>GC</td>\n",
       "      <td>196.73</td>\n",
       "    </tr>\n",
       "    <tr>\n",
       "      <th>30</th>\n",
       "      <td>XOne</td>\n",
       "      <td>159.32</td>\n",
       "    </tr>\n",
       "    <tr>\n",
       "      <th>0</th>\n",
       "      <td>2600</td>\n",
       "      <td>86.48</td>\n",
       "    </tr>\n",
       "    <tr>\n",
       "      <th>27</th>\n",
       "      <td>WiiU</td>\n",
       "      <td>82.19</td>\n",
       "    </tr>\n",
       "    <tr>\n",
       "      <th>20</th>\n",
       "      <td>PSV</td>\n",
       "      <td>53.81</td>\n",
       "    </tr>\n",
       "    <tr>\n",
       "      <th>21</th>\n",
       "      <td>SAT</td>\n",
       "      <td>33.59</td>\n",
       "    </tr>\n",
       "    <tr>\n",
       "      <th>8</th>\n",
       "      <td>GEN</td>\n",
       "      <td>28.35</td>\n",
       "    </tr>\n",
       "    <tr>\n",
       "      <th>3</th>\n",
       "      <td>DC</td>\n",
       "      <td>15.95</td>\n",
       "    </tr>\n",
       "    <tr>\n",
       "      <th>22</th>\n",
       "      <td>SCD</td>\n",
       "      <td>1.86</td>\n",
       "    </tr>\n",
       "    <tr>\n",
       "      <th>12</th>\n",
       "      <td>NG</td>\n",
       "      <td>1.44</td>\n",
       "    </tr>\n",
       "    <tr>\n",
       "      <th>25</th>\n",
       "      <td>WS</td>\n",
       "      <td>1.42</td>\n",
       "    </tr>\n",
       "    <tr>\n",
       "      <th>24</th>\n",
       "      <td>TG16</td>\n",
       "      <td>0.16</td>\n",
       "    </tr>\n",
       "    <tr>\n",
       "      <th>1</th>\n",
       "      <td>3DO</td>\n",
       "      <td>0.10</td>\n",
       "    </tr>\n",
       "    <tr>\n",
       "      <th>9</th>\n",
       "      <td>GG</td>\n",
       "      <td>0.04</td>\n",
       "    </tr>\n",
       "    <tr>\n",
       "      <th>14</th>\n",
       "      <td>PCFX</td>\n",
       "      <td>0.03</td>\n",
       "    </tr>\n",
       "  </tbody>\n",
       "</table>\n",
       "</div>"
      ],
      "text/plain": [
       "   platform  total_sales\n",
       "16      PS2      1233.56\n",
       "28     X360       961.24\n",
       "17      PS3       931.34\n",
       "26      Wii       891.18\n",
       "4        DS       802.78\n",
       "15       PS       727.58\n",
       "18      PS4       314.14\n",
       "6       GBA       312.88\n",
       "19      PSP       289.53\n",
       "2       3DS       257.81\n",
       "13       PC       255.76\n",
       "5        GB       254.43\n",
       "29       XB       251.57\n",
       "11      NES       251.05\n",
       "10      N64       218.01\n",
       "23     SNES       200.04\n",
       "7        GC       196.73\n",
       "30     XOne       159.32\n",
       "0      2600        86.48\n",
       "27     WiiU        82.19\n",
       "20      PSV        53.81\n",
       "21      SAT        33.59\n",
       "8       GEN        28.35\n",
       "3        DC        15.95\n",
       "22      SCD         1.86\n",
       "12       NG         1.44\n",
       "25       WS         1.42\n",
       "24     TG16         0.16\n",
       "1       3DO         0.10\n",
       "9        GG         0.04\n",
       "14     PCFX         0.03"
      ]
     },
     "execution_count": 8,
     "metadata": {},
     "output_type": "execute_result"
    }
   ],
   "source": [
    "# Veja como as vendas variaram de plataforma para plataforma. \n",
    "\n",
    "# Quantidade de vendas por plataforma \n",
    "total_sales_per_platform = (\n",
    "  df.groupby('platform')['total_sales']\n",
    "  .sum()\n",
    "  .reset_index()\n",
    "  .sort_values('total_sales', ascending = False)\n",
    ")\n",
    "\n",
    "total_sales_per_platform"
   ]
  },
  {
   "cell_type": "markdown",
   "metadata": {},
   "source": [
    "### Comentários\n",
    "As 5 plataformas com mais vendas foram PS2, X360, PS3, Wii, DS."
   ]
  },
  {
   "cell_type": "code",
   "execution_count": 9,
   "metadata": {},
   "outputs": [
    {
     "name": "stdout",
     "output_type": "stream",
     "text": [
      "   platform  year_of_release  total_sales\n",
      "0       PS2             2000        39.17\n",
      "1       PS2             2001       166.43\n",
      "2       PS2             2002       205.38\n",
      "3       PS2             2003       184.31\n",
      "4       PS2             2004       211.81\n",
      "5       PS2             2005       160.66\n",
      "6       PS2             2006       103.42\n",
      "7       PS2             2007        75.99\n",
      "8       PS2             2008        53.90\n",
      "9       PS2             2009        26.40\n",
      "10      PS2             2010         5.64\n",
      "11      PS2             2011         0.45\n",
      "12      PS3             2006        20.96\n",
      "13      PS3             2007        73.19\n",
      "14      PS3             2008       118.52\n",
      "15      PS3             2009       130.93\n",
      "16      PS3             2010       142.17\n",
      "17      PS3             2011       156.78\n",
      "18      PS3             2012       107.36\n",
      "19      PS3             2013       113.25\n",
      "20      PS3             2014        47.76\n",
      "21      PS3             2015        16.82\n",
      "22      PS3             2016         3.60\n",
      "23     X360             2005         8.25\n",
      "24     X360             2006        51.62\n",
      "25     X360             2007        95.41\n",
      "26     X360             2008       135.26\n",
      "27     X360             2009       120.29\n",
      "28     X360             2010       170.03\n",
      "29     X360             2011       143.84\n",
      "30     X360             2012        99.74\n",
      "31     X360             2013        88.58\n",
      "32     X360             2014        34.74\n",
      "33     X360             2015        11.96\n",
      "34     X360             2016         1.52\n"
     ]
    },
    {
     "data": {
      "image/png": "[encoded data removed]",
      "text/plain": [
       "<Figure size 1000x600 with 1 Axes>"
      ]
     },
     "metadata": {},
     "output_type": "display_data"
    }
   ],
   "source": [
    "# Escolha as plataformas com as maiores vendas totais e construa uma distribuição com base em dados para cada ano.\n",
    "\n",
    "# Criar um dataframe com os dados das 3 plataformas mais vendidas\n",
    "top3_platforms = (\n",
    "  df[df['platform'].isin(['PS2', 'X360', 'PS3'])]\n",
    "  .groupby(['platform', 'year_of_release'])['total_sales']\n",
    "  .sum()\n",
    "  .reset_index()\n",
    ")\n",
    "\n",
    "print(top3_platforms)\n",
    "\n",
    "# Criar um gráfico de linhas com os dados\n",
    "plt.figure(figsize = (10, 6))\n",
    "sns.lineplot(data = top3_platforms, x = 'year_of_release', y = 'total_sales', hue = 'platform', marker = 'o')\n",
    "\n",
    "# Ajustar o título e os rótulos\n",
    "plt.title('Vendas Totais por Ano e Plataforma')\n",
    "plt.xlabel('Ano de Lançamento')\n",
    "plt.ylabel('Vendas Totais (em milhões)')\n",
    "plt.xticks(top3_platforms['year_of_release'].unique())  # Ajusta os rótulos do eixo x para anos distintos\n",
    "\n",
    "# Mostrar o gráfico\n",
    "plt.tight_layout()\n",
    "plt.show()"
   ]
  },
  {
   "cell_type": "markdown",
   "metadata": {},
   "source": [
    "### Comentários\n",
    "Considerando as plataformas 'PS2', 'X360', 'PS3', a plataforma PS2 é mais antiga e teve seu pico de vendas no ano 2004, enquanto X360 vendeu mais em 2010 e PS3 em 2011. "
   ]
  },
  {
   "cell_type": "markdown",
   "metadata": {},
   "source": [
    "### Plataformas populares antes de 2000 e após 2000\n",
    "#### Solução 1"
   ]
  },
  {
   "cell_type": "code",
   "execution_count": 10,
   "metadata": {},
   "outputs": [
    {
     "name": "stdout",
     "output_type": "stream",
     "text": [
      "    platform  year_of_release  total_sales  release_year  finish_year  \\\n",
      "0       2600             1980        11.38          1980         1989   \n",
      "1       2600             1981        35.68          1980         1989   \n",
      "2       2600             1982        28.88          1980         1989   \n",
      "3       2600             1983         5.84          1980         1989   \n",
      "4       2600             1984         0.27          1980         1989   \n",
      "..       ...              ...          ...           ...          ...   \n",
      "233       XB             2008         0.18          2000         2008   \n",
      "234     XOne             2013        18.96          2013         2016   \n",
      "235     XOne             2014        54.07          2013         2016   \n",
      "236     XOne             2015        60.14          2013         2016   \n",
      "237     XOne             2016        26.15          2013         2016   \n",
      "\n",
      "     lifespan  \n",
      "0           9  \n",
      "1           9  \n",
      "2           9  \n",
      "3           9  \n",
      "4           9  \n",
      "..        ...  \n",
      "233         8  \n",
      "234         3  \n",
      "235         3  \n",
      "236         3  \n",
      "237         3  \n",
      "\n",
      "[238 rows x 6 columns]\n",
      "   platform  lifespan  release_year  total_sales\n",
      "4       NES        11          1983       251.05\n",
      "9      SNES         9          1990       200.04\n",
      "0      2600         9          1980        86.48\n",
      "7       SAT         5          1994        33.59\n",
      "2       GEN         4          1990        28.35\n",
      "8       SCD         1          1993         1.86\n",
      "5        NG         3          1993         1.44\n",
      "10     TG16         0          1995         0.16\n",
      "1       3DO         1          1994         0.10\n",
      "3        GG         0          1992         0.04\n",
      "6      PCFX         0          1996         0.03\n",
      "   platform  release_year  total_sales\n",
      "9       PS2          2000      1233.56\n",
      "17     X360          2005       961.24\n",
      "10      PS3          2006       931.34\n",
      "15      Wii          2006       891.18\n",
      "2        DS          1985       802.78\n",
      "8        PS          1994       727.58\n",
      "11      PS4          2013       314.14\n",
      "4       GBA          2000       312.88\n",
      "12      PSP          2004       289.53\n",
      "0       3DS          2011       257.81\n",
      "7        PC          1985       255.76\n",
      "3        GB          1988       254.43\n",
      "18       XB          2000       251.57\n",
      "6       N64          1996       218.01\n",
      "5        GC          2001       196.73\n",
      "19     XOne          2013       159.32\n",
      "16     WiiU          2012        82.19\n",
      "13      PSV          2011        53.81\n",
      "1        DC          1998        15.95\n",
      "14       WS          1999         1.42\n"
     ]
    }
   ],
   "source": [
    "# Encontre as plataformas que costumavam ser populares, mas agora não têm vendas. \n",
    "# Quanto tempo leva para as novas plataformas aparecerem e as antigas desaparecerem?\n",
    "\n",
    "# 1.0 Criar DataFrame total_sales_by_year, que contém as vendas totais (total_sales) agrupadas por plataforma e ano de lançamento.\n",
    "total_sales_by_year = (\n",
    "  df\n",
    "  .groupby(['platform', 'year_of_release'])\n",
    "  .agg(\n",
    "    total_sales = pd.NamedAgg(column = 'total_sales', aggfunc = 'sum')\n",
    "  )\n",
    "  .reset_index()\n",
    ")\n",
    "\n",
    "# 2.0 Criar DataFrame platform_by_year, que contém os anos de lançamento e final de cada plataforma.\n",
    "platform_by_year = (\n",
    "  df\n",
    "  .groupby(['platform'])\n",
    "  .agg(\n",
    "    release_year = pd.NamedAgg(column = 'year_of_release', aggfunc = 'min'),\n",
    "    finish_year = pd.NamedAgg(column = 'year_of_release', aggfunc = 'max'),\n",
    "  )\n",
    "  .reset_index()\n",
    ") \n",
    "\n",
    "# 3.0 Criar coluna no dataframe platform_by_year que contem os anos de vida de cada plataforma\n",
    "platform_by_year['lifespan'] = platform_by_year['finish_year'] - platform_by_year['release_year']\n",
    "\n",
    "# 4.0 Unir os dois dataframes anteriores e criar uma coluna com os anos de vida de cada plataforma\n",
    "merged_plat_sales_year = (\n",
    "  total_sales_by_year\n",
    "  .merge(\n",
    "    platform_by_year,\n",
    "    on = 'platform',\n",
    "    how = 'left',\n",
    "  ).drop_duplicates()\n",
    ")\n",
    "\n",
    "print(merged_plat_sales_year)\n",
    "\n",
    "\n",
    "# 5.0 Criar dataframe para jogos populares antes de 2000\n",
    "# Filtrar as plataformas cujo 'finish_year' seja menor ou igual a 2000\n",
    "old_popular_platforms = (\n",
    "  merged_plat_sales_year[merged_plat_sales_year['finish_year'] <= 2000]\n",
    ")\n",
    " \n",
    "# Agrupar por plataforma e somar as vendas totais, mantendo uma coluna adicional \n",
    "sales_old = (\n",
    "  old_popular_platforms.groupby(['platform', 'lifespan', 'release_year'])['total_sales']\n",
    "  .sum()\n",
    "  .reset_index()\n",
    ")\n",
    "\n",
    "# Ordenar as plataformas pela soma das vendas totais\n",
    "sales_old_sorted = sales_old.sort_values(by = 'total_sales', ascending=False)\n",
    "\n",
    "# Exibir o resultado final\n",
    "print(sales_old_sorted)\n",
    "\n",
    "\n",
    "# 6.0 Criar dataframe para jogos populares após 2000\n",
    "# Criar um dataframe com plataformas cujo ano de lançamento foi maior que 2000\n",
    "new_popular_platforms = (\n",
    "  merged_plat_sales_year[merged_plat_sales_year['finish_year'] > 2000]\n",
    ")\n",
    " \n",
    "# Agrupar por plataforma e somar as vendas totais, mantendo uma coluna adicional \n",
    "sales_new = (\n",
    "  new_popular_platforms.groupby(['platform', 'release_year'])['total_sales']\n",
    "  .sum()\n",
    "  .reset_index()\n",
    ")\n",
    "\n",
    "# Ordenar as plataformas pela soma das vendas totais\n",
    "sales_new_sorted = sales_new.sort_values(by = 'total_sales', ascending = False)\n",
    "\n",
    "# Exibir o resultado final\n",
    "print(sales_new_sorted)\n"
   ]
  },
  {
   "cell_type": "markdown",
   "metadata": {},
   "source": [
    "#### Comentários:\n",
    "- Nesta solução, foi criado um dataframe com o total de vendas por plataforma e por ano, com colunas adicionais com informações sobre o ano de lançamento, o ano final de venda e a diferença entre eles (tempo de vida da plataforma).\n",
    "- Para a análise, criei um dataframe cujos anos finais eram menores que 2000. Agrupei os dados por plataforma e somei as vendas. \n",
    "- A conclusão foi a de que as plataformas NES, SNES e 2600 foram as antigas que mais venderam. Elas tiveram cerca de 10 anos de vida. \n",
    "- Comparando as 3 plataformas mais populares de antes de 2000 com as 3 mais populares após o ano de 2000, existe um gap de cerca de 15 anos entre os lançamentos. \n"
   ]
  },
  {
   "cell_type": "markdown",
   "metadata": {},
   "source": [
    "#### Solução 2"
   ]
  },
  {
   "cell_type": "code",
   "execution_count": 11,
   "metadata": {},
   "outputs": [
    {
     "name": "stdout",
     "output_type": "stream",
     "text": [
      "    platform  year_of_release  total_sales\n",
      "0       2600             1980        11.38\n",
      "1       2600             1981        35.68\n",
      "2       2600             1982        28.88\n",
      "3       2600             1983         5.84\n",
      "4       2600             1984         0.27\n",
      "..       ...              ...          ...\n",
      "233       XB             2008         0.18\n",
      "234     XOne             2013        18.96\n",
      "235     XOne             2014        54.07\n",
      "236     XOne             2015        60.14\n",
      "237     XOne             2016        26.15\n",
      "\n",
      "[238 rows x 3 columns]\n"
     ]
    },
    {
     "data": {
      "image/png": "[encoded data removed]",
      "text/plain": [
       "<Figure size 640x480 with 1 Axes>"
      ]
     },
     "metadata": {},
     "output_type": "display_data"
    },
    {
     "data": {
      "image/png": "[encoded data removed]",
      "text/plain": [
       "<Figure size 640x480 with 1 Axes>"
      ]
     },
     "metadata": {},
     "output_type": "display_data"
    }
   ],
   "source": [
    "# Encontre as plataformas que costumavam ser populares, mas agora não têm vendas. \n",
    "# Quanto tempo leva para as novas plataformas aparecerem e as antigas desaparecerem?\n",
    "\n",
    "# Agrupar por plataforma e ano de lançamento\n",
    "sales_by_platform_per_year = (\n",
    "  df.groupby(['platform', 'year_of_release'])['total_sales']\n",
    "  .sum()\n",
    "  .reset_index()\n",
    ")\n",
    "print(sales_by_platform_per_year)\n",
    "\n",
    "# Selecionar metade dos dados\n",
    "first_half_data = sales_by_platform_per_year.iloc[:len(sales_by_platform_per_year) // 2]\n",
    "second_half_data = sales_by_platform_per_year.iloc[len(sales_by_platform_per_year) // 2:]\n",
    "\n",
    "# Plotar o primeiro gráfico (primeira metade dos dados)\n",
    "sns.lineplot(x = first_half_data['year_of_release'], y = first_half_data['total_sales'], hue = first_half_data['platform'])\n",
    "plt.tight_layout()\n",
    "plt.show()\n",
    "\n",
    "# Plotar o segundo gráfico (segunda metade dos dados)\n",
    "sns.lineplot(x = second_half_data['year_of_release'], y = second_half_data['total_sales'], hue = second_half_data['platform'])\n",
    "plt.tight_layout()\n",
    "plt.show()"
   ]
  },
  {
   "cell_type": "markdown",
   "metadata": {},
   "source": [
    "<div class=\"alert alert-block alert-warning\">\n",
    "<b>Comentário: </b> <a class=\"tocSkip\"></a>\n",
    "    \n",
    "Entendo o motivo para dividir os dados em dois DataFrames para facilitar a visualização. No entanto, para garantir uma comparação mais consistente, sugiro manter o eixo y igual para ambos os gráficos (por exemplo, o primeiro gráfico varia de 0 a 140, enquanto o segundo varia de 0 a 200). Para gráficos de linha que envolvem muitos dados, prefiro usar a biblioteca Plotly devido às suas capacidades interativas, que melhoram a visualização por meio da interatividade. Adicionei um código abaixo para sua referência (passe o mouse em cima de cada linha para visualizar os valores)"
   ]
  },
  {
   "cell_type": "code",
   "execution_count": 24,
   "metadata": {},
   "outputs": [
    {
     "data": {
      "application/vnd.plotly.v1+json": {
       "config": {
        "plotlyServerURL": "https://plot.ly"
       },
       "data": [
        {
         "hoverinfo": "text",
         "hovertext": "Produto 1<br>Vendas: [222 153 137 243 131 198 225 293  82  81 164 214]",
         "line": {
          "dash": "solid"
         },
         "marker": {
          "size": 8
         },
         "mode": "lines+markers",
         "name": "Produto 1",
         "type": "scatter",
         "x": [
          "2023-01-31T00:00:00",
          "2023-02-28T00:00:00",
          "2023-03-31T00:00:00",
          "2023-04-30T00:00:00",
          "2023-05-31T00:00:00",
          "2023-06-30T00:00:00",
          "2023-07-31T00:00:00",
          "2023-08-31T00:00:00",
          "2023-09-30T00:00:00",
          "2023-10-31T00:00:00",
          "2023-11-30T00:00:00",
          "2023-12-31T00:00:00"
         ],
         "y": [
          222,
          153,
          137,
          243,
          131,
          198,
          225,
          293,
          82,
          81,
          164,
          214
         ]
        },
        {
         "hoverinfo": "text",
         "hovertext": "Produto 2<br>Vendas: [ 97  59 120 280 215 165 242  79 243 252 233 103]",
         "line": {
          "dash": "dash"
         },
         "marker": {
          "size": 8
         },
         "mode": "lines+markers",
         "name": "Produto 2",
         "type": "scatter",
         "x": [
          "2023-01-31T00:00:00",
          "2023-02-28T00:00:00",
          "2023-03-31T00:00:00",
          "2023-04-30T00:00:00",
          "2023-05-31T00:00:00",
          "2023-06-30T00:00:00",
          "2023-07-31T00:00:00",
          "2023-08-31T00:00:00",
          "2023-09-30T00:00:00",
          "2023-10-31T00:00:00",
          "2023-11-30T00:00:00",
          "2023-12-31T00:00:00"
         ],
         "y": [
          97,
          59,
          120,
          280,
          215,
          165,
          242,
          79,
          243,
          252,
          233,
          103
         ]
        },
        {
         "hoverinfo": "text",
         "hovertext": "Produto 3<br>Vendas: [167 261 266  89  75 258 132 197  59 294  78 183]",
         "line": {
          "dash": "solid"
         },
         "marker": {
          "size": 8
         },
         "mode": "lines+markers",
         "name": "Produto 3",
         "type": "scatter",
         "x": [
          "2023-01-31T00:00:00",
          "2023-02-28T00:00:00",
          "2023-03-31T00:00:00",
          "2023-04-30T00:00:00",
          "2023-05-31T00:00:00",
          "2023-06-30T00:00:00",
          "2023-07-31T00:00:00",
          "2023-08-31T00:00:00",
          "2023-09-30T00:00:00",
          "2023-10-31T00:00:00",
          "2023-11-30T00:00:00",
          "2023-12-31T00:00:00"
         ],
         "y": [
          167,
          261,
          266,
          89,
          75,
          258,
          132,
          197,
          59,
          294,
          78,
          183
         ]
        },
        {
         "hoverinfo": "text",
         "hovertext": "Produto 4<br>Vendas: [242  71 138 137 127 293 149 197 235 201  84  88]",
         "line": {
          "dash": "dash"
         },
         "marker": {
          "size": 8
         },
         "mode": "lines+markers",
         "name": "Produto 4",
         "type": "scatter",
         "x": [
          "2023-01-31T00:00:00",
          "2023-02-28T00:00:00",
          "2023-03-31T00:00:00",
          "2023-04-30T00:00:00",
          "2023-05-31T00:00:00",
          "2023-06-30T00:00:00",
          "2023-07-31T00:00:00",
          "2023-08-31T00:00:00",
          "2023-09-30T00:00:00",
          "2023-10-31T00:00:00",
          "2023-11-30T00:00:00",
          "2023-12-31T00:00:00"
         ],
         "y": [
          242,
          71,
          138,
          137,
          127,
          293,
          149,
          197,
          235,
          201,
          84,
          88
         ]
        },
        {
         "hoverinfo": "text",
         "hovertext": "Produto 5<br>Vendas: [117 292 190 224 122 247 266 192 177 213 178 282]",
         "line": {
          "dash": "solid"
         },
         "marker": {
          "size": 8
         },
         "mode": "lines+markers",
         "name": "Produto 5",
         "type": "scatter",
         "x": [
          "2023-01-31T00:00:00",
          "2023-02-28T00:00:00",
          "2023-03-31T00:00:00",
          "2023-04-30T00:00:00",
          "2023-05-31T00:00:00",
          "2023-06-30T00:00:00",
          "2023-07-31T00:00:00",
          "2023-08-31T00:00:00",
          "2023-09-30T00:00:00",
          "2023-10-31T00:00:00",
          "2023-11-30T00:00:00",
          "2023-12-31T00:00:00"
         ],
         "y": [
          117,
          292,
          190,
          224,
          122,
          247,
          266,
          192,
          177,
          213,
          178,
          282
         ]
        },
        {
         "hoverinfo": "text",
         "hovertext": "Produto 6<br>Vendas: [245  86 108 138  59 129 227 217  82 253 178 294]",
         "line": {
          "dash": "dash"
         },
         "marker": {
          "size": 8
         },
         "mode": "lines+markers",
         "name": "Produto 6",
         "type": "scatter",
         "x": [
          "2023-01-31T00:00:00",
          "2023-02-28T00:00:00",
          "2023-03-31T00:00:00",
          "2023-04-30T00:00:00",
          "2023-05-31T00:00:00",
          "2023-06-30T00:00:00",
          "2023-07-31T00:00:00",
          "2023-08-31T00:00:00",
          "2023-09-30T00:00:00",
          "2023-10-31T00:00:00",
          "2023-11-30T00:00:00",
          "2023-12-31T00:00:00"
         ],
         "y": [
          245,
          86,
          108,
          138,
          59,
          129,
          227,
          217,
          82,
          253,
          178,
          294
         ]
        }
       ],
       "layout": {
        "template": {
         "data": {
          "bar": [
           {
            "error_x": {
             "color": "#2a3f5f"
            },
            "error_y": {
             "color": "#2a3f5f"
            },
            "marker": {
             "line": {
              "color": "#E5ECF6",
              "width": 0.5
             },
             "pattern": {
              "fillmode": "overlay",
              "size": 10,
              "solidity": 0.2
             }
            },
            "type": "bar"
           }
          ],
          "barpolar": [
           {
            "marker": {
             "line": {
              "color": "#E5ECF6",
              "width": 0.5
             },
             "pattern": {
              "fillmode": "overlay",
              "size": 10,
              "solidity": 0.2
             }
            },
            "type": "barpolar"
           }
          ],
          "carpet": [
           {
            "aaxis": {
             "endlinecolor": "#2a3f5f",
             "gridcolor": "white",
             "linecolor": "white",
             "minorgridcolor": "white",
             "startlinecolor": "#2a3f5f"
            },
            "baxis": {
             "endlinecolor": "#2a3f5f",
             "gridcolor": "white",
             "linecolor": "white",
             "minorgridcolor": "white",
             "startlinecolor": "#2a3f5f"
            },
            "type": "carpet"
           }
          ],
          "choropleth": [
           {
            "colorbar": {
             "outlinewidth": 0,
             "ticks": ""
            },
            "type": "choropleth"
           }
          ],
          "contour": [
           {
            "colorbar": {
             "outlinewidth": 0,
             "ticks": ""
            },
            "colorscale": [
             [
              0,
              "#0d0887"
             ],
             [
              0.1111111111111111,
              "#46039f"
             ],
             [
              0.2222222222222222,
              "#7201a8"
             ],
             [
              0.3333333333333333,
              "#9c179e"
             ],
             [
              0.4444444444444444,
              "#bd3786"
             ],
             [
              0.5555555555555556,
              "#d8576b"
             ],
             [
              0.6666666666666666,
              "#ed7953"
             ],
             [
              0.7777777777777778,
              "#fb9f3a"
             ],
             [
              0.8888888888888888,
              "#fdca26"
             ],
             [
              1,
              "#f0f921"
             ]
            ],
            "type": "contour"
           }
          ],
          "contourcarpet": [
           {
            "colorbar": {
             "outlinewidth": 0,
             "ticks": ""
            },
            "type": "contourcarpet"
           }
          ],
          "heatmap": [
           {
            "colorbar": {
             "outlinewidth": 0,
             "ticks": ""
            },
            "colorscale": [
             [
              0,
              "#0d0887"
             ],
             [
              0.1111111111111111,
              "#46039f"
             ],
             [
              0.2222222222222222,
              "#7201a8"
             ],
             [
              0.3333333333333333,
              "#9c179e"
             ],
             [
              0.4444444444444444,
              "#bd3786"
             ],
             [
              0.5555555555555556,
              "#d8576b"
             ],
             [
              0.6666666666666666,
              "#ed7953"
             ],
             [
              0.7777777777777778,
              "#fb9f3a"
             ],
             [
              0.8888888888888888,
              "#fdca26"
             ],
             [
              1,
              "#f0f921"
             ]
            ],
            "type": "heatmap"
           }
          ],
          "heatmapgl": [
           {
            "colorbar": {
             "outlinewidth": 0,
             "ticks": ""
            },
            "colorscale": [
             [
              0,
              "#0d0887"
             ],
             [
              0.1111111111111111,
              "#46039f"
             ],
             [
              0.2222222222222222,
              "#7201a8"
             ],
             [
              0.3333333333333333,
              "#9c179e"
             ],
             [
              0.4444444444444444,
              "#bd3786"
             ],
             [
              0.5555555555555556,
              "#d8576b"
             ],
             [
              0.6666666666666666,
              "#ed7953"
             ],
             [
              0.7777777777777778,
              "#fb9f3a"
             ],
             [
              0.8888888888888888,
              "#fdca26"
             ],
             [
              1,
              "#f0f921"
             ]
            ],
            "type": "heatmapgl"
           }
          ],
          "histogram": [
           {
            "marker": {
             "pattern": {
              "fillmode": "overlay",
              "size": 10,
              "solidity": 0.2
             }
            },
            "type": "histogram"
           }
          ],
          "histogram2d": [
           {
            "colorbar": {
             "outlinewidth": 0,
             "ticks": ""
            },
            "colorscale": [
             [
              0,
              "#0d0887"
             ],
             [
              0.1111111111111111,
              "#46039f"
             ],
             [
              0.2222222222222222,
              "#7201a8"
             ],
             [
              0.3333333333333333,
              "#9c179e"
             ],
             [
              0.4444444444444444,
              "#bd3786"
             ],
             [
              0.5555555555555556,
              "#d8576b"
             ],
             [
              0.6666666666666666,
              "#ed7953"
             ],
             [
              0.7777777777777778,
              "#fb9f3a"
             ],
             [
              0.8888888888888888,
              "#fdca26"
             ],
             [
              1,
              "#f0f921"
             ]
            ],
            "type": "histogram2d"
           }
          ],
          "histogram2dcontour": [
           {
            "colorbar": {
             "outlinewidth": 0,
             "ticks": ""
            },
            "colorscale": [
             [
              0,
              "#0d0887"
             ],
             [
              0.1111111111111111,
              "#46039f"
             ],
             [
              0.2222222222222222,
              "#7201a8"
             ],
             [
              0.3333333333333333,
              "#9c179e"
             ],
             [
              0.4444444444444444,
              "#bd3786"
             ],
             [
              0.5555555555555556,
              "#d8576b"
             ],
             [
              0.6666666666666666,
              "#ed7953"
             ],
             [
              0.7777777777777778,
              "#fb9f3a"
             ],
             [
              0.8888888888888888,
              "#fdca26"
             ],
             [
              1,
              "#f0f921"
             ]
            ],
            "type": "histogram2dcontour"
           }
          ],
          "mesh3d": [
           {
            "colorbar": {
             "outlinewidth": 0,
             "ticks": ""
            },
            "type": "mesh3d"
           }
          ],
          "parcoords": [
           {
            "line": {
             "colorbar": {
              "outlinewidth": 0,
              "ticks": ""
             }
            },
            "type": "parcoords"
           }
          ],
          "pie": [
           {
            "automargin": true,
            "type": "pie"
           }
          ],
          "scatter": [
           {
            "marker": {
             "colorbar": {
              "outlinewidth": 0,
              "ticks": ""
             }
            },
            "type": "scatter"
           }
          ],
          "scatter3d": [
           {
            "line": {
             "colorbar": {
              "outlinewidth": 0,
              "ticks": ""
             }
            },
            "marker": {
             "colorbar": {
              "outlinewidth": 0,
              "ticks": ""
             }
            },
            "type": "scatter3d"
           }
          ],
          "scattercarpet": [
           {
            "marker": {
             "colorbar": {
              "outlinewidth": 0,
              "ticks": ""
             }
            },
            "type": "scattercarpet"
           }
          ],
          "scattergeo": [
           {
            "marker": {
             "colorbar": {
              "outlinewidth": 0,
              "ticks": ""
             }
            },
            "type": "scattergeo"
           }
          ],
          "scattergl": [
           {
            "marker": {
             "colorbar": {
              "outlinewidth": 0,
              "ticks": ""
             }
            },
            "type": "scattergl"
           }
          ],
          "scattermapbox": [
           {
            "marker": {
             "colorbar": {
              "outlinewidth": 0,
              "ticks": ""
             }
            },
            "type": "scattermapbox"
           }
          ],
          "scatterpolar": [
           {
            "marker": {
             "colorbar": {
              "outlinewidth": 0,
              "ticks": ""
             }
            },
            "type": "scatterpolar"
           }
          ],
          "scatterpolargl": [
           {
            "marker": {
             "colorbar": {
              "outlinewidth": 0,
              "ticks": ""
             }
            },
            "type": "scatterpolargl"
           }
          ],
          "scatterternary": [
           {
            "marker": {
             "colorbar": {
              "outlinewidth": 0,
              "ticks": ""
             }
            },
            "type": "scatterternary"
           }
          ],
          "surface": [
           {
            "colorbar": {
             "outlinewidth": 0,
             "ticks": ""
            },
            "colorscale": [
             [
              0,
              "#0d0887"
             ],
             [
              0.1111111111111111,
              "#46039f"
             ],
             [
              0.2222222222222222,
              "#7201a8"
             ],
             [
              0.3333333333333333,
              "#9c179e"
             ],
             [
              0.4444444444444444,
              "#bd3786"
             ],
             [
              0.5555555555555556,
              "#d8576b"
             ],
             [
              0.6666666666666666,
              "#ed7953"
             ],
             [
              0.7777777777777778,
              "#fb9f3a"
             ],
             [
              0.8888888888888888,
              "#fdca26"
             ],
             [
              1,
              "#f0f921"
             ]
            ],
            "type": "surface"
           }
          ],
          "table": [
           {
            "cells": {
             "fill": {
              "color": "#EBF0F8"
             },
             "line": {
              "color": "white"
             }
            },
            "header": {
             "fill": {
              "color": "#C8D4E3"
             },
             "line": {
              "color": "white"
             }
            },
            "type": "table"
           }
          ]
         },
         "layout": {
          "annotationdefaults": {
           "arrowcolor": "#2a3f5f",
           "arrowhead": 0,
           "arrowwidth": 1
          },
          "autotypenumbers": "strict",
          "coloraxis": {
           "colorbar": {
            "outlinewidth": 0,
            "ticks": ""
           }
          },
          "colorscale": {
           "diverging": [
            [
             0,
             "#8e0152"
            ],
            [
             0.1,
             "#c51b7d"
            ],
            [
             0.2,
             "#de77ae"
            ],
            [
             0.3,
             "#f1b6da"
            ],
            [
             0.4,
             "#fde0ef"
            ],
            [
             0.5,
             "#f7f7f7"
            ],
            [
             0.6,
             "#e6f5d0"
            ],
            [
             0.7,
             "#b8e186"
            ],
            [
             0.8,
             "#7fbc41"
            ],
            [
             0.9,
             "#4d9221"
            ],
            [
             1,
             "#276419"
            ]
           ],
           "sequential": [
            [
             0,
             "#0d0887"
            ],
            [
             0.1111111111111111,
             "#46039f"
            ],
            [
             0.2222222222222222,
             "#7201a8"
            ],
            [
             0.3333333333333333,
             "#9c179e"
            ],
            [
             0.4444444444444444,
             "#bd3786"
            ],
            [
             0.5555555555555556,
             "#d8576b"
            ],
            [
             0.6666666666666666,
             "#ed7953"
            ],
            [
             0.7777777777777778,
             "#fb9f3a"
            ],
            [
             0.8888888888888888,
             "#fdca26"
            ],
            [
             1,
             "#f0f921"
            ]
           ],
           "sequentialminus": [
            [
             0,
             "#0d0887"
            ],
            [
             0.1111111111111111,
             "#46039f"
            ],
            [
             0.2222222222222222,
             "#7201a8"
            ],
            [
             0.3333333333333333,
             "#9c179e"
            ],
            [
             0.4444444444444444,
             "#bd3786"
            ],
            [
             0.5555555555555556,
             "#d8576b"
            ],
            [
             0.6666666666666666,
             "#ed7953"
            ],
            [
             0.7777777777777778,
             "#fb9f3a"
            ],
            [
             0.8888888888888888,
             "#fdca26"
            ],
            [
             1,
             "#f0f921"
            ]
           ]
          },
          "colorway": [
           "#636efa",
           "#EF553B",
           "#00cc96",
           "#ab63fa",
           "#FFA15A",
           "#19d3f3",
           "#FF6692",
           "#B6E880",
           "#FF97FF",
           "#FECB52"
          ],
          "font": {
           "color": "#2a3f5f"
          },
          "geo": {
           "bgcolor": "white",
           "lakecolor": "white",
           "landcolor": "#E5ECF6",
           "showlakes": true,
           "showland": true,
           "subunitcolor": "white"
          },
          "hoverlabel": {
           "align": "left"
          },
          "hovermode": "closest",
          "mapbox": {
           "style": "light"
          },
          "paper_bgcolor": "white",
          "plot_bgcolor": "#E5ECF6",
          "polar": {
           "angularaxis": {
            "gridcolor": "white",
            "linecolor": "white",
            "ticks": ""
           },
           "bgcolor": "#E5ECF6",
           "radialaxis": {
            "gridcolor": "white",
            "linecolor": "white",
            "ticks": ""
           }
          },
          "scene": {
           "xaxis": {
            "backgroundcolor": "#E5ECF6",
            "gridcolor": "white",
            "gridwidth": 2,
            "linecolor": "white",
            "showbackground": true,
            "ticks": "",
            "zerolinecolor": "white"
           },
           "yaxis": {
            "backgroundcolor": "#E5ECF6",
            "gridcolor": "white",
            "gridwidth": 2,
            "linecolor": "white",
            "showbackground": true,
            "ticks": "",
            "zerolinecolor": "white"
           },
           "zaxis": {
            "backgroundcolor": "#E5ECF6",
            "gridcolor": "white",
            "gridwidth": 2,
            "linecolor": "white",
            "showbackground": true,
            "ticks": "",
            "zerolinecolor": "white"
           }
          },
          "shapedefaults": {
           "line": {
            "color": "#2a3f5f"
           }
          },
          "ternary": {
           "aaxis": {
            "gridcolor": "white",
            "linecolor": "white",
            "ticks": ""
           },
           "baxis": {
            "gridcolor": "white",
            "linecolor": "white",
            "ticks": ""
           },
           "bgcolor": "#E5ECF6",
           "caxis": {
            "gridcolor": "white",
            "linecolor": "white",
            "ticks": ""
           }
          },
          "title": {
           "x": 0.05
          },
          "xaxis": {
           "automargin": true,
           "gridcolor": "white",
           "linecolor": "white",
           "ticks": "",
           "title": {
            "standoff": 15
           },
           "zerolinecolor": "white",
           "zerolinewidth": 2
          },
          "yaxis": {
           "automargin": true,
           "gridcolor": "white",
           "linecolor": "white",
           "ticks": "",
           "title": {
            "standoff": 15
           },
           "zerolinecolor": "white",
           "zerolinewidth": 2
          }
         }
        },
        "title": {
         "text": "Dados Mensais de Vendas para 6 Produtos"
        },
        "xaxis": {
         "title": {
          "text": "Data"
         }
        },
        "yaxis": {
         "title": {
          "text": "Vendas"
         }
        }
       }
      },
      "text/html": [
       "<div>                            <div id=\"bd163e51-29a5-4a98-b6ec-0c39e913102b\" class=\"plotly-graph-div\" style=\"height:525px; width:100%;\"></div>            <script type=\"text/javascript\">                require([\"plotly\"], function(Plotly) {                    window.PLOTLYENV=window.PLOTLYENV || {};                                    if (document.getElementById(\"bd163e51-29a5-4a98-b6ec-0c39e913102b\")) {                    Plotly.newPlot(                        \"bd163e51-29a5-4a98-b6ec-0c39e913102b\",                        [{\"hoverinfo\":\"text\",\"hovertext\":\"Produto 1<br>Vendas: [222 153 137 243 131 198 225 293  82  81 164 214]\",\"line\":{\"dash\":\"solid\"},\"marker\":{\"size\":8},\"mode\":\"lines+markers\",\"name\":\"Produto 1\",\"x\":[\"2023-01-31T00:00:00\",\"2023-02-28T00:00:00\",\"2023-03-31T00:00:00\",\"2023-04-30T00:00:00\",\"2023-05-31T00:00:00\",\"2023-06-30T00:00:00\",\"2023-07-31T00:00:00\",\"2023-08-31T00:00:00\",\"2023-09-30T00:00:00\",\"2023-10-31T00:00:00\",\"2023-11-30T00:00:00\",\"2023-12-31T00:00:00\"],\"y\":[222,153,137,243,131,198,225,293,82,81,164,214],\"type\":\"scatter\"},{\"hoverinfo\":\"text\",\"hovertext\":\"Produto 2<br>Vendas: [ 97  59 120 280 215 165 242  79 243 252 233 103]\",\"line\":{\"dash\":\"dash\"},\"marker\":{\"size\":8},\"mode\":\"lines+markers\",\"name\":\"Produto 2\",\"x\":[\"2023-01-31T00:00:00\",\"2023-02-28T00:00:00\",\"2023-03-31T00:00:00\",\"2023-04-30T00:00:00\",\"2023-05-31T00:00:00\",\"2023-06-30T00:00:00\",\"2023-07-31T00:00:00\",\"2023-08-31T00:00:00\",\"2023-09-30T00:00:00\",\"2023-10-31T00:00:00\",\"2023-11-30T00:00:00\",\"2023-12-31T00:00:00\"],\"y\":[97,59,120,280,215,165,242,79,243,252,233,103],\"type\":\"scatter\"},{\"hoverinfo\":\"text\",\"hovertext\":\"Produto 3<br>Vendas: [167 261 266  89  75 258 132 197  59 294  78 183]\",\"line\":{\"dash\":\"solid\"},\"marker\":{\"size\":8},\"mode\":\"lines+markers\",\"name\":\"Produto 3\",\"x\":[\"2023-01-31T00:00:00\",\"2023-02-28T00:00:00\",\"2023-03-31T00:00:00\",\"2023-04-30T00:00:00\",\"2023-05-31T00:00:00\",\"2023-06-30T00:00:00\",\"2023-07-31T00:00:00\",\"2023-08-31T00:00:00\",\"2023-09-30T00:00:00\",\"2023-10-31T00:00:00\",\"2023-11-30T00:00:00\",\"2023-12-31T00:00:00\"],\"y\":[167,261,266,89,75,258,132,197,59,294,78,183],\"type\":\"scatter\"},{\"hoverinfo\":\"text\",\"hovertext\":\"Produto 4<br>Vendas: [242  71 138 137 127 293 149 197 235 201  84  88]\",\"line\":{\"dash\":\"dash\"},\"marker\":{\"size\":8},\"mode\":\"lines+markers\",\"name\":\"Produto 4\",\"x\":[\"2023-01-31T00:00:00\",\"2023-02-28T00:00:00\",\"2023-03-31T00:00:00\",\"2023-04-30T00:00:00\",\"2023-05-31T00:00:00\",\"2023-06-30T00:00:00\",\"2023-07-31T00:00:00\",\"2023-08-31T00:00:00\",\"2023-09-30T00:00:00\",\"2023-10-31T00:00:00\",\"2023-11-30T00:00:00\",\"2023-12-31T00:00:00\"],\"y\":[242,71,138,137,127,293,149,197,235,201,84,88],\"type\":\"scatter\"},{\"hoverinfo\":\"text\",\"hovertext\":\"Produto 5<br>Vendas: [117 292 190 224 122 247 266 192 177 213 178 282]\",\"line\":{\"dash\":\"solid\"},\"marker\":{\"size\":8},\"mode\":\"lines+markers\",\"name\":\"Produto 5\",\"x\":[\"2023-01-31T00:00:00\",\"2023-02-28T00:00:00\",\"2023-03-31T00:00:00\",\"2023-04-30T00:00:00\",\"2023-05-31T00:00:00\",\"2023-06-30T00:00:00\",\"2023-07-31T00:00:00\",\"2023-08-31T00:00:00\",\"2023-09-30T00:00:00\",\"2023-10-31T00:00:00\",\"2023-11-30T00:00:00\",\"2023-12-31T00:00:00\"],\"y\":[117,292,190,224,122,247,266,192,177,213,178,282],\"type\":\"scatter\"},{\"hoverinfo\":\"text\",\"hovertext\":\"Produto 6<br>Vendas: [245  86 108 138  59 129 227 217  82 253 178 294]\",\"line\":{\"dash\":\"dash\"},\"marker\":{\"size\":8},\"mode\":\"lines+markers\",\"name\":\"Produto 6\",\"x\":[\"2023-01-31T00:00:00\",\"2023-02-28T00:00:00\",\"2023-03-31T00:00:00\",\"2023-04-30T00:00:00\",\"2023-05-31T00:00:00\",\"2023-06-30T00:00:00\",\"2023-07-31T00:00:00\",\"2023-08-31T00:00:00\",\"2023-09-30T00:00:00\",\"2023-10-31T00:00:00\",\"2023-11-30T00:00:00\",\"2023-12-31T00:00:00\"],\"y\":[245,86,108,138,59,129,227,217,82,253,178,294],\"type\":\"scatter\"}],                        {\"template\":{\"data\":{\"bar\":[{\"error_x\":{\"color\":\"#2a3f5f\"},\"error_y\":{\"color\":\"#2a3f5f\"},\"marker\":{\"line\":{\"color\":\"#E5ECF6\",\"width\":0.5},\"pattern\":{\"fillmode\":\"overlay\",\"size\":10,\"solidity\":0.2}},\"type\":\"bar\"}],\"barpolar\":[{\"marker\":{\"line\":{\"color\":\"#E5ECF6\",\"width\":0.5},\"pattern\":{\"fillmode\":\"overlay\",\"size\":10,\"solidity\":0.2}},\"type\":\"barpolar\"}],\"carpet\":[{\"aaxis\":{\"endlinecolor\":\"#2a3f5f\",\"gridcolor\":\"white\",\"linecolor\":\"white\",\"minorgridcolor\":\"white\",\"startlinecolor\":\"#2a3f5f\"},\"baxis\":{\"endlinecolor\":\"#2a3f5f\",\"gridcolor\":\"white\",\"linecolor\":\"white\",\"minorgridcolor\":\"white\",\"startlinecolor\":\"#2a3f5f\"},\"type\":\"carpet\"}],\"choropleth\":[{\"colorbar\":{\"outlinewidth\":0,\"ticks\":\"\"},\"type\":\"choropleth\"}],\"contour\":[{\"colorbar\":{\"outlinewidth\":0,\"ticks\":\"\"},\"colorscale\":[[0.0,\"#0d0887\"],[0.1111111111111111,\"#46039f\"],[0.2222222222222222,\"#7201a8\"],[0.3333333333333333,\"#9c179e\"],[0.4444444444444444,\"#bd3786\"],[0.5555555555555556,\"#d8576b\"],[0.6666666666666666,\"#ed7953\"],[0.7777777777777778,\"#fb9f3a\"],[0.8888888888888888,\"#fdca26\"],[1.0,\"#f0f921\"]],\"type\":\"contour\"}],\"contourcarpet\":[{\"colorbar\":{\"outlinewidth\":0,\"ticks\":\"\"},\"type\":\"contourcarpet\"}],\"heatmap\":[{\"colorbar\":{\"outlinewidth\":0,\"ticks\":\"\"},\"colorscale\":[[0.0,\"#0d0887\"],[0.1111111111111111,\"#46039f\"],[0.2222222222222222,\"#7201a8\"],[0.3333333333333333,\"#9c179e\"],[0.4444444444444444,\"#bd3786\"],[0.5555555555555556,\"#d8576b\"],[0.6666666666666666,\"#ed7953\"],[0.7777777777777778,\"#fb9f3a\"],[0.8888888888888888,\"#fdca26\"],[1.0,\"#f0f921\"]],\"type\":\"heatmap\"}],\"heatmapgl\":[{\"colorbar\":{\"outlinewidth\":0,\"ticks\":\"\"},\"colorscale\":[[0.0,\"#0d0887\"],[0.1111111111111111,\"#46039f\"],[0.2222222222222222,\"#7201a8\"],[0.3333333333333333,\"#9c179e\"],[0.4444444444444444,\"#bd3786\"],[0.5555555555555556,\"#d8576b\"],[0.6666666666666666,\"#ed7953\"],[0.7777777777777778,\"#fb9f3a\"],[0.8888888888888888,\"#fdca26\"],[1.0,\"#f0f921\"]],\"type\":\"heatmapgl\"}],\"histogram\":[{\"marker\":{\"pattern\":{\"fillmode\":\"overlay\",\"size\":10,\"solidity\":0.2}},\"type\":\"histogram\"}],\"histogram2d\":[{\"colorbar\":{\"outlinewidth\":0,\"ticks\":\"\"},\"colorscale\":[[0.0,\"#0d0887\"],[0.1111111111111111,\"#46039f\"],[0.2222222222222222,\"#7201a8\"],[0.3333333333333333,\"#9c179e\"],[0.4444444444444444,\"#bd3786\"],[0.5555555555555556,\"#d8576b\"],[0.6666666666666666,\"#ed7953\"],[0.7777777777777778,\"#fb9f3a\"],[0.8888888888888888,\"#fdca26\"],[1.0,\"#f0f921\"]],\"type\":\"histogram2d\"}],\"histogram2dcontour\":[{\"colorbar\":{\"outlinewidth\":0,\"ticks\":\"\"},\"colorscale\":[[0.0,\"#0d0887\"],[0.1111111111111111,\"#46039f\"],[0.2222222222222222,\"#7201a8\"],[0.3333333333333333,\"#9c179e\"],[0.4444444444444444,\"#bd3786\"],[0.5555555555555556,\"#d8576b\"],[0.6666666666666666,\"#ed7953\"],[0.7777777777777778,\"#fb9f3a\"],[0.8888888888888888,\"#fdca26\"],[1.0,\"#f0f921\"]],\"type\":\"histogram2dcontour\"}],\"mesh3d\":[{\"colorbar\":{\"outlinewidth\":0,\"ticks\":\"\"},\"type\":\"mesh3d\"}],\"parcoords\":[{\"line\":{\"colorbar\":{\"outlinewidth\":0,\"ticks\":\"\"}},\"type\":\"parcoords\"}],\"pie\":[{\"automargin\":true,\"type\":\"pie\"}],\"scatter\":[{\"marker\":{\"colorbar\":{\"outlinewidth\":0,\"ticks\":\"\"}},\"type\":\"scatter\"}],\"scatter3d\":[{\"line\":{\"colorbar\":{\"outlinewidth\":0,\"ticks\":\"\"}},\"marker\":{\"colorbar\":{\"outlinewidth\":0,\"ticks\":\"\"}},\"type\":\"scatter3d\"}],\"scattercarpet\":[{\"marker\":{\"colorbar\":{\"outlinewidth\":0,\"ticks\":\"\"}},\"type\":\"scattercarpet\"}],\"scattergeo\":[{\"marker\":{\"colorbar\":{\"outlinewidth\":0,\"ticks\":\"\"}},\"type\":\"scattergeo\"}],\"scattergl\":[{\"marker\":{\"colorbar\":{\"outlinewidth\":0,\"ticks\":\"\"}},\"type\":\"scattergl\"}],\"scattermapbox\":[{\"marker\":{\"colorbar\":{\"outlinewidth\":0,\"ticks\":\"\"}},\"type\":\"scattermapbox\"}],\"scatterpolar\":[{\"marker\":{\"colorbar\":{\"outlinewidth\":0,\"ticks\":\"\"}},\"type\":\"scatterpolar\"}],\"scatterpolargl\":[{\"marker\":{\"colorbar\":{\"outlinewidth\":0,\"ticks\":\"\"}},\"type\":\"scatterpolargl\"}],\"scatterternary\":[{\"marker\":{\"colorbar\":{\"outlinewidth\":0,\"ticks\":\"\"}},\"type\":\"scatterternary\"}],\"surface\":[{\"colorbar\":{\"outlinewidth\":0,\"ticks\":\"\"},\"colorscale\":[[0.0,\"#0d0887\"],[0.1111111111111111,\"#46039f\"],[0.2222222222222222,\"#7201a8\"],[0.3333333333333333,\"#9c179e\"],[0.4444444444444444,\"#bd3786\"],[0.5555555555555556,\"#d8576b\"],[0.6666666666666666,\"#ed7953\"],[0.7777777777777778,\"#fb9f3a\"],[0.8888888888888888,\"#fdca26\"],[1.0,\"#f0f921\"]],\"type\":\"surface\"}],\"table\":[{\"cells\":{\"fill\":{\"color\":\"#EBF0F8\"},\"line\":{\"color\":\"white\"}},\"header\":{\"fill\":{\"color\":\"#C8D4E3\"},\"line\":{\"color\":\"white\"}},\"type\":\"table\"}]},\"layout\":{\"annotationdefaults\":{\"arrowcolor\":\"#2a3f5f\",\"arrowhead\":0,\"arrowwidth\":1},\"autotypenumbers\":\"strict\",\"coloraxis\":{\"colorbar\":{\"outlinewidth\":0,\"ticks\":\"\"}},\"colorscale\":{\"diverging\":[[0,\"#8e0152\"],[0.1,\"#c51b7d\"],[0.2,\"#de77ae\"],[0.3,\"#f1b6da\"],[0.4,\"#fde0ef\"],[0.5,\"#f7f7f7\"],[0.6,\"#e6f5d0\"],[0.7,\"#b8e186\"],[0.8,\"#7fbc41\"],[0.9,\"#4d9221\"],[1,\"#276419\"]],\"sequential\":[[0.0,\"#0d0887\"],[0.1111111111111111,\"#46039f\"],[0.2222222222222222,\"#7201a8\"],[0.3333333333333333,\"#9c179e\"],[0.4444444444444444,\"#bd3786\"],[0.5555555555555556,\"#d8576b\"],[0.6666666666666666,\"#ed7953\"],[0.7777777777777778,\"#fb9f3a\"],[0.8888888888888888,\"#fdca26\"],[1.0,\"#f0f921\"]],\"sequentialminus\":[[0.0,\"#0d0887\"],[0.1111111111111111,\"#46039f\"],[0.2222222222222222,\"#7201a8\"],[0.3333333333333333,\"#9c179e\"],[0.4444444444444444,\"#bd3786\"],[0.5555555555555556,\"#d8576b\"],[0.6666666666666666,\"#ed7953\"],[0.7777777777777778,\"#fb9f3a\"],[0.8888888888888888,\"#fdca26\"],[1.0,\"#f0f921\"]]},\"colorway\":[\"#636efa\",\"#EF553B\",\"#00cc96\",\"#ab63fa\",\"#FFA15A\",\"#19d3f3\",\"#FF6692\",\"#B6E880\",\"#FF97FF\",\"#FECB52\"],\"font\":{\"color\":\"#2a3f5f\"},\"geo\":{\"bgcolor\":\"white\",\"lakecolor\":\"white\",\"landcolor\":\"#E5ECF6\",\"showlakes\":true,\"showland\":true,\"subunitcolor\":\"white\"},\"hoverlabel\":{\"align\":\"left\"},\"hovermode\":\"closest\",\"mapbox\":{\"style\":\"light\"},\"paper_bgcolor\":\"white\",\"plot_bgcolor\":\"#E5ECF6\",\"polar\":{\"angularaxis\":{\"gridcolor\":\"white\",\"linecolor\":\"white\",\"ticks\":\"\"},\"bgcolor\":\"#E5ECF6\",\"radialaxis\":{\"gridcolor\":\"white\",\"linecolor\":\"white\",\"ticks\":\"\"}},\"scene\":{\"xaxis\":{\"backgroundcolor\":\"#E5ECF6\",\"gridcolor\":\"white\",\"gridwidth\":2,\"linecolor\":\"white\",\"showbackground\":true,\"ticks\":\"\",\"zerolinecolor\":\"white\"},\"yaxis\":{\"backgroundcolor\":\"#E5ECF6\",\"gridcolor\":\"white\",\"gridwidth\":2,\"linecolor\":\"white\",\"showbackground\":true,\"ticks\":\"\",\"zerolinecolor\":\"white\"},\"zaxis\":{\"backgroundcolor\":\"#E5ECF6\",\"gridcolor\":\"white\",\"gridwidth\":2,\"linecolor\":\"white\",\"showbackground\":true,\"ticks\":\"\",\"zerolinecolor\":\"white\"}},\"shapedefaults\":{\"line\":{\"color\":\"#2a3f5f\"}},\"ternary\":{\"aaxis\":{\"gridcolor\":\"white\",\"linecolor\":\"white\",\"ticks\":\"\"},\"baxis\":{\"gridcolor\":\"white\",\"linecolor\":\"white\",\"ticks\":\"\"},\"bgcolor\":\"#E5ECF6\",\"caxis\":{\"gridcolor\":\"white\",\"linecolor\":\"white\",\"ticks\":\"\"}},\"title\":{\"x\":0.05},\"xaxis\":{\"automargin\":true,\"gridcolor\":\"white\",\"linecolor\":\"white\",\"ticks\":\"\",\"title\":{\"standoff\":15},\"zerolinecolor\":\"white\",\"zerolinewidth\":2},\"yaxis\":{\"automargin\":true,\"gridcolor\":\"white\",\"linecolor\":\"white\",\"ticks\":\"\",\"title\":{\"standoff\":15},\"zerolinecolor\":\"white\",\"zerolinewidth\":2}}},\"title\":{\"text\":\"Dados Mensais de Vendas para 6 Produtos\"},\"xaxis\":{\"title\":{\"text\":\"Data\"}},\"yaxis\":{\"title\":{\"text\":\"Vendas\"}}},                        {\"responsive\": true}                    ).then(function(){\n",
       "                            \n",
       "var gd = document.getElementById('bd163e51-29a5-4a98-b6ec-0c39e913102b');\n",
       "var x = new MutationObserver(function (mutations, observer) {{\n",
       "        var display = window.getComputedStyle(gd).display;\n",
       "        if (!display || display === 'none') {{\n",
       "            console.log([gd, 'removed!']);\n",
       "            Plotly.purge(gd);\n",
       "            observer.disconnect();\n",
       "        }}\n",
       "}});\n",
       "\n",
       "// Listen for the removal of the full notebook cells\n",
       "var notebookContainer = gd.closest('#notebook-container');\n",
       "if (notebookContainer) {{\n",
       "    x.observe(notebookContainer, {childList: true});\n",
       "}}\n",
       "\n",
       "// Listen for the clearing of the current output cell\n",
       "var outputEl = gd.closest('.output');\n",
       "if (outputEl) {{\n",
       "    x.observe(outputEl, {childList: true});\n",
       "}}\n",
       "\n",
       "                        })                };                });            </script>        </div>"
      ]
     },
     "metadata": {},
     "output_type": "display_data"
    }
   ],
   "source": [
    "#Código gerado pela revisora \n",
    "\n",
    "import plotly.graph_objects as go\n",
    "import pandas as pd\n",
    "import numpy as np\n",
    "\n",
    "# Criar um conjunto de dados fictício\n",
    "np.random.seed(0)  # Para reprodutibilidade\n",
    "dates = pd.date_range(start='2023-01-01', periods=12, freq='M')  # Dados mensais por um ano\n",
    "sales_data = np.random.randint(50, 300, size=(len(dates), 6))  # 6 produtos\n",
    "\n",
    "# Criar a figura\n",
    "fig = go.Figure()\n",
    "product_names = [f'Produto {i+1}' for i in range(6)]  # Nomes dos produtos\n",
    "\n",
    "# Adicionar linhas para cada produto\n",
    "for i, product in enumerate(product_names):\n",
    "    fig.add_trace(go.Scatter(\n",
    "        x=dates, y=sales_data[:, i], mode='lines+markers', name=product,\n",
    "        line=dict(dash='solid' if i % 2 == 0 else 'dash'),  # Estilo da linha alternado\n",
    "        marker=dict(size=8),  # Tamanho dos marcadores\n",
    "        hoverinfo='text', hovertext=f'{product}<br>Vendas: {sales_data[:, i]}'  # Informações ao passar o mouse\n",
    "    ))\n",
    "\n",
    "# Atualizar layout\n",
    "fig.update_layout(title='Dados Mensais de Vendas para 6 Produtos', \n",
    "                  xaxis_title='Data', \n",
    "                  yaxis_title='Vendas')\n",
    "fig.show()  # Mostrar a figura\n"
   ]
  },
  {
   "cell_type": "markdown",
   "metadata": {},
   "source": [
    "#### Comentários: \n",
    "- Baseado em uma análise visual apenas, as plataformas NES, SNES e 2600 tiveram muitas vendas no anos anteriores, mas agora não são mais populares. \n",
    "- As plataformas mencionadas duraram cerca de 10 anos. \n",
    "- As plataformas PS2, X360, PS3 (populares após 2000), elas demoram cerca de 10 anos para aparecerem e desaparecem e a cada 5 anos uma nova plataforma é lançada."
   ]
  },
  {
   "cell_type": "markdown",
   "metadata": {},
   "source": [
    "### Determinação de um período para análise dos dados \n",
    "- Eu utilizei os dados do período de 2000 a 2015, pois engloba grandes plataformas, como PS2, PS3, WII, X360, mas também outras plataformas menos populares, além de estar relativamente próximo do ano de 2017, o que poderia pegar algum comportamento de consumo mais recente dos usuários."
   ]
  },
  {
   "cell_type": "markdown",
   "metadata": {},
   "source": [
    "<div class=\"alert alert-block alert-warning\">\n",
    "\n",
    "<b>Comentário: </b> <a class=\"tocSkip\"></a>\n",
    "\n",
    "Sugestão: É raro utilizar dados de mais de 2-3 anos para prever as vendas do próximo ano, mesmo em negócios tradicionais. Na indústria dinâmica de jogos de computador, evitar períodos mais longos é ainda mais importante, pois você pode acabar rastreando tendências obsoletas. No entanto, também não é aconselhável usar um período muito curto. **O ideal seria usar um intervalo de 2-3 anos, como 2014-2016, 2015-2016 ou 2013-2016.** \n",
    "\n",
    "</div>"
   ]
  },
  {
   "cell_type": "code",
   "execution_count": 13,
   "metadata": {},
   "outputs": [
    {
     "name": "stdout",
     "output_type": "stream",
     "text": [
      "       index                           name platform  year_of_release  \\\n",
      "0          0                     Wii Sports      Wii             2006   \n",
      "1          2                 Mario Kart Wii      Wii             2008   \n",
      "2          3              Wii Sports Resort      Wii             2009   \n",
      "3          6          New Super Mario Bros.       DS             2006   \n",
      "4          7                       Wii Play      Wii             2006   \n",
      "...      ...                            ...      ...              ...   \n",
      "14465  16710  Samurai Warriors: Sanada Maru      PS3             2016   \n",
      "14466  16711               LMA Manager 2007     X360             2006   \n",
      "14467  16712        Haitaka no Psychedelica      PSV             2016   \n",
      "14468  16713               Spirits & Spells      GBA             2003   \n",
      "14469  16714            Winning Post 8 2016      PSV             2016   \n",
      "\n",
      "            genre  na_sales  eu_sales  jp_sales  other_sales  critic_score  \\\n",
      "0          Sports     41.36     28.96      3.77         8.45          76.0   \n",
      "1          Racing     15.68     12.76      3.79         3.29          82.0   \n",
      "2          Sports     15.61     10.93      3.28         2.95          80.0   \n",
      "3        Platform     11.28      9.14      6.50         2.88          89.0   \n",
      "4            Misc     13.96      9.18      2.93         2.84          58.0   \n",
      "...           ...       ...       ...       ...          ...           ...   \n",
      "14465      Action      0.00      0.00      0.01         0.00           NaN   \n",
      "14466      Sports      0.00      0.01      0.00         0.00           NaN   \n",
      "14467   Adventure      0.00      0.00      0.01         0.00           NaN   \n",
      "14468    Platform      0.01      0.00      0.00         0.00           NaN   \n",
      "14469  Simulation      0.00      0.00      0.01         0.00           NaN   \n",
      "\n",
      "       user_score rating  total_sales  \n",
      "0             8.0      E        82.54  \n",
      "1             8.3      E        35.52  \n",
      "2             8.0      E        32.77  \n",
      "3             8.5      E        29.80  \n",
      "4             6.6      E        28.91  \n",
      "...           ...    ...          ...  \n",
      "14465         NaN    NaN         0.01  \n",
      "14466         NaN    NaN         0.01  \n",
      "14467         NaN    NaN         0.01  \n",
      "14468         NaN    NaN         0.01  \n",
      "14469         NaN    NaN         0.01  \n",
      "\n",
      "[14470 rows x 13 columns]\n"
     ]
    }
   ],
   "source": [
    "# Criar um dataframe novo a partir do original com dados após 2000\n",
    "filtered_df = df[df['year_of_release'] >= 2000].reset_index()\n",
    "print(filtered_df)"
   ]
  },
  {
   "cell_type": "markdown",
   "metadata": {},
   "source": [
    "### Plataformas líderes em vendas"
   ]
  },
  {
   "cell_type": "code",
   "execution_count": 14,
   "metadata": {},
   "outputs": [
    {
     "name": "stdout",
     "output_type": "stream",
     "text": [
      "platform\n",
      "PS2     1233.56\n",
      "X360     961.24\n",
      "PS3      931.34\n",
      "Wii      891.18\n",
      "DS       802.76\n",
      "PS4      314.14\n",
      "GBA      312.88\n",
      "PSP      289.53\n",
      "3DS      257.81\n",
      "XB       251.57\n",
      "PC       205.72\n",
      "GC       196.73\n",
      "XOne     159.32\n",
      "PS       140.70\n",
      "WiiU      82.19\n",
      "PSV       53.81\n",
      "N64       37.30\n",
      "GB        29.00\n",
      "DC         7.41\n",
      "WS         0.96\n",
      "Name: total_sales, dtype: float64\n",
      "   platform  year_of_release  total_sales\n",
      "0       3DS             2011        63.20\n",
      "1       3DS             2012        51.36\n",
      "2       3DS             2013        56.57\n",
      "3       3DS             2014        43.76\n",
      "4       3DS             2015        27.78\n",
      "..      ...              ...          ...\n",
      "90       XB             2004        65.42\n",
      "91       XB             2005        49.08\n",
      "92       XB             2006        10.04\n",
      "93       XB             2007         0.55\n",
      "94       XB             2008         0.18\n",
      "\n",
      "[95 rows x 3 columns]\n"
     ]
    },
    {
     "data": {
      "image/png": "[encoded data removed]",
      "text/plain": [
       "<Figure size 640x480 with 1 Axes>"
      ]
     },
     "metadata": {},
     "output_type": "display_data"
    }
   ],
   "source": [
    "# Quais plataformas estão liderando em vendas? \n",
    "# Quais estão crescendo ou diminuindo? \n",
    "# Selecione várias plataformas potencialmente lucrativas.\n",
    "\n",
    "# Agrupar o dataframe do item anterior por plataforma, somar o total de vendas e ordenar o resultado.\n",
    "grouped_platforms = filtered_df.groupby('platform')['total_sales'].sum().sort_values(ascending = False)\n",
    "print(grouped_platforms)\n",
    "\n",
    "# Selecione plataformas potencialmente lucrativas.\n",
    "potential_lucrative = (\n",
    " filtered_df[filtered_df['platform'].isin(['PS2', 'X360', 'PS3', 'Wii', 'DS', 'PS4', 'GBA', 'PSP', '3DS', 'XB'])]\n",
    " .groupby(['platform', 'year_of_release'])['total_sales']\n",
    " .sum()\n",
    " .reset_index()\n",
    ")\n",
    "\n",
    "print(potential_lucrative)\n",
    "\n",
    "# Plotar gráficos\n",
    "sns.lineplot(\n",
    "    x = potential_lucrative['year_of_release'], \n",
    "    y = potential_lucrative['total_sales'], \n",
    "    hue = potential_lucrative['platform']\n",
    ")\n",
    "plt.tight_layout()\n",
    "plt.show()"
   ]
  },
  {
   "cell_type": "markdown",
   "metadata": {},
   "source": [
    "### Comentários:\n",
    "- As plataformas que lideraram as vendas no período foram X360, PS3, Wii. Outras plataformas com vendas altas também foram selecionadas e suas curvas de vendas por ano estão mostradas no gráfico acima. "
   ]
  },
  {
   "cell_type": "markdown",
   "metadata": {},
   "source": [
    "### Vendas globais por plataforma"
   ]
  },
  {
   "cell_type": "code",
   "execution_count": 15,
   "metadata": {},
   "outputs": [
    {
     "data": {
      "image/png": "[encoded data removed]",
      "text/plain": [
       "<Figure size 1200x600 with 1 Axes>"
      ]
     },
     "metadata": {},
     "output_type": "display_data"
    },
    {
     "data": {
      "text/plain": [
       "platform\n",
       "PS2     102.796667\n",
       "PS3      84.667273\n",
       "Wii      81.016364\n",
       "DS       80.276000\n",
       "X360     80.103333\n",
       "PS4      78.535000\n",
       "3DS      42.968333\n",
       "GBA      39.110000\n",
       "XB       27.952222\n",
       "PSP      24.127500\n",
       "Name: total_sales, dtype: float64"
      ]
     },
     "execution_count": 15,
     "metadata": {},
     "output_type": "execute_result"
    }
   ],
   "source": [
    "# Construa um diagrama de caixa para as vendas globais de todos os jogos, divididos por plataforma. \n",
    "# As diferenças nas vendas são significativas? \n",
    "# E quanto às vendas médias em várias plataformas? Descreva suas descobertas.\n",
    "\n",
    "# 1.0 Construir um diagrama de caixa (boxplot) para as vendas globais por plataforma, considerando as 10 plataformas recentes potencialmente lucrativas\n",
    "plt.figure(figsize=(12, 6))  # Ajustar o tamanho do gráfico\n",
    "sns.boxplot(\n",
    " x = potential_lucrative['platform'],\n",
    " y = potential_lucrative['total_sales'],\n",
    " data = df\n",
    ")\n",
    "plt.show()\n",
    "\n",
    "# 2.0 Média de vendas anuais por plataforma\n",
    "mean_potential_lucrative = (\n",
    " potential_lucrative.groupby(['platform'])['total_sales']\n",
    " .mean()\n",
    " .sort_values(ascending = False)\n",
    ")\n",
    "\n",
    "mean_potential_lucrative"
   ]
  },
  {
   "cell_type": "markdown",
   "metadata": {},
   "source": [
    "### Comentários\n",
    "- Se compararmos os diagramas das 10 plataformas mais vendidas após 2000, fica claro que as vendas são discrepantes. \n",
    "- Um fato curioso é o de que, em termos de vendas totais, as mais populares são 'PS2', 'X360', 'PS3', 'Wii', 'DS'. Em termos de média de vendas anuais, a ordem é diferente."
   ]
  },
  {
   "cell_type": "markdown",
   "metadata": {},
   "source": [
    "### Avaliações de usuários e profissionais"
   ]
  },
  {
   "cell_type": "code",
   "execution_count": 16,
   "metadata": {},
   "outputs": [
    {
     "name": "stdout",
     "output_type": "stream",
     "text": [
      "                                          name platform  year_of_release  \\\n",
      "16                          Grand Theft Auto V      PS3             2013   \n",
      "34                  Call of Duty: Black Ops II      PS3             2012   \n",
      "37              Call of Duty: Modern Warfare 3      PS3             2011   \n",
      "41                     Call of Duty: Black Ops      PS3             2010   \n",
      "54                              Gran Turismo 5      PS3             2010   \n",
      "...                                        ...      ...              ...   \n",
      "16639  WSC REAL 09: World Snooker Championship      PS3             2009   \n",
      "16674            Tsukigime Ranko's Longest Day      PS3             2014   \n",
      "16676                         G1 Jockey 4 2008      PS3             2008   \n",
      "16691             Dynasty Warriors: Eiketsuden      PS3             2016   \n",
      "16710            Samurai Warriors: Sanada Maru      PS3             2016   \n",
      "\n",
      "         genre  na_sales  eu_sales  jp_sales  other_sales  critic_score  \\\n",
      "16      Action      7.02      9.09      0.98         3.96          97.0   \n",
      "34     Shooter      4.99      5.73      0.65         2.42          83.0   \n",
      "37     Shooter      5.54      5.73      0.49         1.57          88.0   \n",
      "41     Shooter      5.99      4.37      0.48         1.79          88.0   \n",
      "54      Racing      2.96      4.82      0.81         2.11          84.0   \n",
      "...        ...       ...       ...       ...          ...           ...   \n",
      "16639   Sports      0.00      0.01      0.00         0.00           NaN   \n",
      "16674   Action      0.00      0.01      0.00         0.00           NaN   \n",
      "16676   Sports      0.00      0.00      0.00         0.00           NaN   \n",
      "16691   Action      0.00      0.00      0.01         0.00           NaN   \n",
      "16710   Action      0.00      0.00      0.01         0.00           NaN   \n",
      "\n",
      "       user_score rating  total_sales  \n",
      "16            8.2      M        21.05  \n",
      "34            5.3      M        13.79  \n",
      "37            3.2      M        13.33  \n",
      "41            6.4      M        12.63  \n",
      "54            7.5      E        10.70  \n",
      "...           ...    ...          ...  \n",
      "16639         NaN    NaN         0.01  \n",
      "16674         NaN    NaN         0.01  \n",
      "16676         NaN    NaN         0.00  \n",
      "16691         NaN    NaN         0.01  \n",
      "16710         NaN    NaN         0.01  \n",
      "\n",
      "[1306 rows x 12 columns]\n"
     ]
    },
    {
     "data": {
      "image/png": "[encoded data removed]",
      "text/plain": [
       "<Figure size 1000x600 with 1 Axes>"
      ]
     },
     "metadata": {},
     "output_type": "display_data"
    },
    {
     "data": {
      "image/png": "[encoded data removed]",
      "text/plain": [
       "<Figure size 1000x600 with 1 Axes>"
      ]
     },
     "metadata": {},
     "output_type": "display_data"
    },
    {
     "name": "stdout",
     "output_type": "stream",
     "text": [
      "Correlação entre User Score e Vendas Totais: 0.13\n",
      "Correlação entre Critic Score e Vendas Totais: 0.43\n"
     ]
    }
   ],
   "source": [
    "# Veja como as avaliações de usuários e profissionais afetam as vendas de uma plataforma popular (você escolhe). \n",
    "# Construa um gráfico de dispersão e calcule a correlação entre revisões e vendas. Tire conclusões.\n",
    "\n",
    "# 1.0 Criar novo dataframe apenas com dados da plataforma PS3\n",
    "df_PS3 = df[df['platform'] == 'PS3']\n",
    "print(df_PS3)\n",
    "\n",
    "# 2.0 Criar gráfico de dispersão para user-score e total_sales\n",
    "# Criar gráfico\n",
    "plt.figure(figsize=(10, 6)) \n",
    "sns.scatterplot(x = 'user_score', y = 'total_sales', data = df_PS3)\n",
    "\n",
    "# Ajustar o título e os rótulos\n",
    "plt.title('Dispersão entre User Score e Vendas Totais (PS3)')\n",
    "plt.xlabel('Users Score')\n",
    "plt.ylabel('Vendas Totais (em milhões)')\n",
    "\n",
    "# Mostrar o gráfico\n",
    "plt.tight_layout()\n",
    "plt.show()\n",
    "\n",
    "\n",
    "# 3.0 Criar um gráfico de dispersão entre critic_score e total_sales\n",
    "# Criar gráfico\n",
    "plt.figure(figsize=(10, 6)) \n",
    "sns.scatterplot(x = 'critic_score', y = 'total_sales', data = df_PS3)\n",
    "\n",
    "# Ajustar o título e os rótulos\n",
    "plt.title('Dispersão entre Critic Score e Vendas Totais (PS3)')\n",
    "plt.xlabel('Critic Score')\n",
    "plt.ylabel('Vendas Totais (em milhões)')\n",
    "\n",
    "# Mostrar o gráfico\n",
    "plt.tight_layout()\n",
    "plt.show()\n",
    "\n",
    "\n",
    "# 4.0 Calcular a correlação entre user_score e total_sales\n",
    "correlation = df_PS3['user_score'].corr(df_PS3['total_sales'])\n",
    "print(f'Correlação entre User Score e Vendas Totais: {correlation:.2f}')\n",
    "\n",
    "# 5.0 Calcular a correlação entre critic_score e total_sales\n",
    "correlation = df_PS3['critic_score'].corr(df_PS3['total_sales'])\n",
    "print(f'Correlação entre Critic Score e Vendas Totais: {correlation:.2f}')"
   ]
  },
  {
   "cell_type": "markdown",
   "metadata": {},
   "source": [
    "### Comentários:\n",
    "- Não existe correlação entre a nota dos usuários e as vendas, e a correlação entre as avaliações profissionais é baixa. Ou seja, existe uma grande dispersão nessas variáveis. "
   ]
  },
  {
   "cell_type": "code",
   "execution_count": 17,
   "metadata": {},
   "outputs": [
    {
     "name": "stdout",
     "output_type": "stream",
     "text": [
      "Correlação entre Critic Score e Vendas Totais: 0.39\n",
      "Correlação entre User Score e Vendas Totais: 0.18\n",
      "Correlação entre Critic Score e Vendas Totais: 0.39\n",
      "Correlação entre User Score e Vendas Totais: 0.11\n"
     ]
    }
   ],
   "source": [
    "# Com essas conclusões em mente, compare as vendas em outras plataformas.\n",
    "\n",
    "# 1.0 Criar novo dataframe apenas com dados da plataforma PS2\n",
    "df_PS2 = df[df['platform'] == 'PS2']\n",
    "\n",
    "# 2.0 Calcular a correlação entre critic_score e total_sales\n",
    "correlation = df_PS2['critic_score'].corr(df_PS2['total_sales'])\n",
    "print(f'Correlação entre Critic Score e Vendas Totais: {correlation:.2f}')\n",
    "\n",
    "# 3.0 Calcular a correlação entre user_score e total_sales\n",
    "correlation = df_PS2['user_score'].corr(df_PS2['total_sales'])\n",
    "print(f'Correlação entre User Score e Vendas Totais: {correlation:.2f}')\n",
    "\n",
    "# 4.0 Criar novo dataframe apenas com dados da plataforma X360\n",
    "df_X360 = df[df['platform'] == 'X360']\n",
    "\n",
    "# 5.0 Calcular a correlação entre critic_score e total_sales\n",
    "correlation = df_X360['critic_score'].corr(df_X360['total_sales'])\n",
    "print(f'Correlação entre Critic Score e Vendas Totais: {correlation:.2f}')\n",
    "\n",
    "# 6.0 Calcular a correlação entre user_score e total_sales\n",
    "correlation = df_X360['user_score'].corr(df_X360['total_sales'])\n",
    "print(f'Correlação entre User Score e Vendas Totais: {correlation:.2f}')"
   ]
  },
  {
   "cell_type": "markdown",
   "metadata": {},
   "source": [
    "### Comentários\n",
    "- As correlações de outras plataformas importantes foram ainda mais baixas que a escolhida anteriormente.\n",
    "- As tendencias gerais foram as mesmas. "
   ]
  },
  {
   "cell_type": "markdown",
   "metadata": {},
   "source": [
    "### Análise em relação aos gêneros dos jogos "
   ]
  },
  {
   "cell_type": "code",
   "execution_count": 18,
   "metadata": {},
   "outputs": [
    {
     "data": {
      "text/html": [
       "<div>\n",
       "<style scoped>\n",
       "    .dataframe tbody tr th:only-of-type {\n",
       "        vertical-align: middle;\n",
       "    }\n",
       "\n",
       "    .dataframe tbody tr th {\n",
       "        vertical-align: top;\n",
       "    }\n",
       "\n",
       "    .dataframe thead th {\n",
       "        text-align: right;\n",
       "    }\n",
       "</style>\n",
       "<table border=\"1\" class=\"dataframe\">\n",
       "  <thead>\n",
       "    <tr style=\"text-align: right;\">\n",
       "      <th></th>\n",
       "      <th>genre</th>\n",
       "      <th>total_sales</th>\n",
       "      <th>games_count</th>\n",
       "    </tr>\n",
       "  </thead>\n",
       "  <tbody>\n",
       "    <tr>\n",
       "      <th>0</th>\n",
       "      <td>Action</td>\n",
       "      <td>1716.52</td>\n",
       "      <td>3307</td>\n",
       "    </tr>\n",
       "    <tr>\n",
       "      <th>1</th>\n",
       "      <td>Sports</td>\n",
       "      <td>1309.67</td>\n",
       "      <td>2306</td>\n",
       "    </tr>\n",
       "    <tr>\n",
       "      <th>2</th>\n",
       "      <td>Shooter</td>\n",
       "      <td>1041.36</td>\n",
       "      <td>1296</td>\n",
       "    </tr>\n",
       "    <tr>\n",
       "      <th>3</th>\n",
       "      <td>Role-Playing</td>\n",
       "      <td>931.08</td>\n",
       "      <td>1481</td>\n",
       "    </tr>\n",
       "    <tr>\n",
       "      <th>4</th>\n",
       "      <td>Platform</td>\n",
       "      <td>825.55</td>\n",
       "      <td>878</td>\n",
       "    </tr>\n",
       "    <tr>\n",
       "      <th>5</th>\n",
       "      <td>Misc</td>\n",
       "      <td>790.29</td>\n",
       "      <td>1721</td>\n",
       "    </tr>\n",
       "    <tr>\n",
       "      <th>6</th>\n",
       "      <td>Racing</td>\n",
       "      <td>723.49</td>\n",
       "      <td>1226</td>\n",
       "    </tr>\n",
       "    <tr>\n",
       "      <th>7</th>\n",
       "      <td>Fighting</td>\n",
       "      <td>442.66</td>\n",
       "      <td>837</td>\n",
       "    </tr>\n",
       "    <tr>\n",
       "      <th>8</th>\n",
       "      <td>Simulation</td>\n",
       "      <td>387.96</td>\n",
       "      <td>857</td>\n",
       "    </tr>\n",
       "    <tr>\n",
       "      <th>9</th>\n",
       "      <td>Puzzle</td>\n",
       "      <td>239.89</td>\n",
       "      <td>569</td>\n",
       "    </tr>\n",
       "    <tr>\n",
       "      <th>10</th>\n",
       "      <td>Adventure</td>\n",
       "      <td>233.33</td>\n",
       "      <td>1293</td>\n",
       "    </tr>\n",
       "    <tr>\n",
       "      <th>11</th>\n",
       "      <td>Strategy</td>\n",
       "      <td>172.57</td>\n",
       "      <td>673</td>\n",
       "    </tr>\n",
       "  </tbody>\n",
       "</table>\n",
       "</div>"
      ],
      "text/plain": [
       "           genre  total_sales  games_count\n",
       "0         Action      1716.52         3307\n",
       "1         Sports      1309.67         2306\n",
       "2        Shooter      1041.36         1296\n",
       "3   Role-Playing       931.08         1481\n",
       "4       Platform       825.55          878\n",
       "5           Misc       790.29         1721\n",
       "6         Racing       723.49         1226\n",
       "7       Fighting       442.66          837\n",
       "8     Simulation       387.96          857\n",
       "9         Puzzle       239.89          569\n",
       "10     Adventure       233.33         1293\n",
       "11      Strategy       172.57          673"
      ]
     },
     "execution_count": 18,
     "metadata": {},
     "output_type": "execute_result"
    }
   ],
   "source": [
    "# Dê uma olhada na distribuição geral de jogos por gênero. \n",
    "# O que podemos dizer sobre os gêneros mais lucrativos? \n",
    "# Você pode generalizar sobre gêneros com vendas altas e baixas?\n",
    "\n",
    "# Contar quantidade de jogos por genero\n",
    "games_per_genre = (\n",
    "  df['genre']\n",
    "  .value_counts()\n",
    "  .reset_index()\n",
    ")\n",
    "\n",
    "# Renomear as colunas para futuro merge\n",
    "games_per_genre.columns = ['genre', 'games_count']\n",
    "\n",
    "# Criar um dataframe filtrado por genero\n",
    "sales_per_genre = (\n",
    "  df\n",
    "  .groupby(['genre'])\n",
    "  .agg(\n",
    "    total_sales = pd.NamedAgg(column = 'total_sales', aggfunc = 'sum')\n",
    "  )\n",
    "  .reset_index()\n",
    "  .sort_values(by = 'total_sales', ascending = False)\n",
    ")\n",
    "\n",
    "# Juntar os dois dataframes\n",
    "merged_genre_df = (\n",
    "  sales_per_genre\n",
    "  .merge(\n",
    "    games_per_genre,\n",
    "    on = 'genre',\n",
    "    how = 'left'\n",
    "  )\n",
    ")\n",
    "\n",
    "(merged_genre_df)\n"
   ]
  },
  {
   "cell_type": "markdown",
   "metadata": {},
   "source": [
    "### Comentários\n",
    "- Os dois gêneros mais lucrativos, action e sports, possuem a maior quantidade de jogos. Para os demais gêneros esta relação não é direta."
   ]
  },
  {
   "cell_type": "markdown",
   "metadata": {},
   "source": [
    "### Análise por região"
   ]
  },
  {
   "cell_type": "code",
   "execution_count": 19,
   "metadata": {},
   "outputs": [
    {
     "name": "stdout",
     "output_type": "stream",
     "text": [
      "As 5 principais plataformas da América do Norte, em termos de vendas são:\n",
      "  platform  na_sales\n",
      "0     X360    595.74\n",
      "1      PS2    572.92\n",
      "2      Wii    486.87\n",
      "3      PS3    390.13\n",
      "4       DS    380.31\n",
      "As 5 principais plataformas da Europa, em termos de vendas são:\n",
      "  platform  eu_sales\n",
      "0      PS2    332.63\n",
      "1      PS3    327.21\n",
      "2     X360    268.32\n",
      "3      Wii    258.32\n",
      "4       PS    212.39\n",
      "As 5 principais plataformas do Japão, em termos de vendas são:\n",
      "  platform  jp_sales\n",
      "0       DS    175.02\n",
      "1       PS    139.78\n",
      "2      PS2    137.54\n",
      "3     SNES    116.55\n",
      "4      3DS    100.62\n"
     ]
    }
   ],
   "source": [
    "# Para cada região (AN, UE, JP), determine: As cinco plataformas principais. \n",
    "\n",
    "# 1.0 América do Norte\n",
    "na_sales_per_platform = (\n",
    "  df.groupby('platform')['na_sales']\n",
    "  .sum()\n",
    "  .reset_index()\n",
    ")\n",
    "top5_platforms_na = (\n",
    "  na_sales_per_platform\n",
    "  .nlargest(5, 'na_sales')\n",
    "  .reset_index(drop = True)\n",
    ")\n",
    "print('As 5 principais plataformas da América do Norte, em termos de vendas são:')\n",
    "print(top5_platforms_na)\n",
    "\n",
    "# Europa\n",
    "eu_sales_per_platform = (\n",
    "  df.groupby('platform')['eu_sales']\n",
    "  .sum()\n",
    "  .reset_index()\n",
    ")\n",
    "top5_platforms_eu = (\n",
    "  eu_sales_per_platform\n",
    "  .nlargest(5, 'eu_sales')\n",
    "  .reset_index(drop = True)\n",
    ")\n",
    "print('As 5 principais plataformas da Europa, em termos de vendas são:')\n",
    "print(top5_platforms_eu)\n",
    "\n",
    "# Japão\n",
    "jp_sales_per_platform = (\n",
    "  df.groupby('platform')['jp_sales']\n",
    "  .sum()\n",
    "  .reset_index()\n",
    ")\n",
    "top5_platforms_jp = (\n",
    "  jp_sales_per_platform\n",
    "  .nlargest(5, 'jp_sales')\n",
    "  .reset_index(drop = True)\n",
    ")\n",
    "print('As 5 principais plataformas do Japão, em termos de vendas são:')\n",
    "print(top5_platforms_jp)"
   ]
  },
  {
   "cell_type": "markdown",
   "metadata": {},
   "source": [
    "<div class=\"alert alert-block alert-warning\">\n",
    "<b>Comentário: </b> <a class=\"tocSkip\"></a>\n",
    "    \n",
    "Você pode otimizar o código eliminando a repetição usando uma função. Isso tornará o código mais conciso e reutilizável. Aqui está uma versão otimizada:\n",
    "\n",
    "```python\n",
    "def top_platforms_by_region(df, sales_column, region_name):\n",
    "    \"\"\"\n",
    "    Função para determinar as 5 principais plataformas de vendas em uma região específica.\n",
    "    \n",
    "    Args:\n",
    "        df: DataFrame contendo os dados de vendas.\n",
    "        sales_column: Nome da coluna de vendas para a região.\n",
    "        region_name: Nome da região para o título da saída.\n",
    "        \n",
    "    Returns:\n",
    "        DataFrame das 5 principais plataformas.\n",
    "    \"\"\"\n",
    "    sales_per_platform = (\n",
    "        df.groupby('platform')[sales_column]\n",
    "        .sum()\n",
    "        .reset_index()\n",
    "    )\n",
    "    top5_platforms = (\n",
    "        sales_per_platform\n",
    "        .nlargest(5, sales_column)\n",
    "        .reset_index(drop=True)\n",
    "    )\n",
    "    print(f'As 5 principais plataformas da {region_name}, em termos de vendas são:')\n",
    "    print(top5_platforms)\n",
    "    return top5_platforms\n",
    "\n",
    "# Chamar a função para cada região\n",
    "top_platforms_by_region(df, 'na_sales', 'América do Norte')\n",
    "top_platforms_by_region(df, 'eu_sales', 'Europa')\n",
    "top_platforms_by_region(df, 'jp_sales', 'Japão')\n",
    "```"
   ]
  },
  {
   "cell_type": "markdown",
   "metadata": {},
   "source": [
    "### Comentários \n",
    "Em termos gerais, as quantidades de vendas das 5 maiores plataformas na América do Norte são quase o dobro das quantidades de vendas das 5 maiores plataformas na Europa, que são quase o dobro de vendas das 5 maiores plataformas do Japão."
   ]
  },
  {
   "cell_type": "code",
   "execution_count": 20,
   "metadata": {},
   "outputs": [
    {
     "name": "stdout",
     "output_type": "stream",
     "text": [
      "Os 5 principais gêneros da América do Norte, em termos de vendas são:\n",
      "      genre  na_sales\n",
      "0    Action    863.17\n",
      "1    Sports    671.20\n",
      "2   Shooter    584.83\n",
      "3  Platform    444.44\n",
      "4      Misc    399.57\n",
      "Os 5 principais gêneros da Europa, em termos de vendas são:\n",
      "     genre  eu_sales\n",
      "0   Action    510.99\n",
      "1   Sports    371.33\n",
      "2  Shooter    314.52\n",
      "3   Racing    234.49\n",
      "4     Misc    210.60\n",
      "Os 5 principais gêneros do Japão, em termos de vendas são:\n",
      "          genre  jp_sales\n",
      "0  Role-Playing    353.39\n",
      "1        Action    160.14\n",
      "2        Sports    134.93\n",
      "3      Platform    130.71\n",
      "4          Misc    107.02\n"
     ]
    }
   ],
   "source": [
    "# Para cada região (AN, UE, JP), determine: Os cinco principais gêneros. Explique a diferença.\n",
    "\n",
    "# América do Norte\n",
    "na_sales_per_genre = (\n",
    "  df\n",
    "  .groupby('genre')['na_sales']\n",
    "  .sum()\n",
    "  .reset_index()\n",
    ")\n",
    "top5_genres_na = (\n",
    "  na_sales_per_genre\n",
    "  .nlargest(5, 'na_sales')\n",
    "  .reset_index(drop = True)\n",
    ")\n",
    "print('Os 5 principais gêneros da América do Norte, em termos de vendas são:')\n",
    "print(top5_genres_na)\n",
    "\n",
    "# Europe\n",
    "eu_sales_per_genre = (\n",
    "  df\n",
    "  .groupby('genre')['eu_sales']\n",
    "  .sum()\n",
    "  .reset_index()\n",
    ")\n",
    "top5_genres_eu = (\n",
    "  eu_sales_per_genre\n",
    "  .nlargest(5, 'eu_sales')\n",
    "  .reset_index(drop = True)\n",
    ")\n",
    "print('Os 5 principais gêneros da Europa, em termos de vendas são:')\n",
    "print(top5_genres_eu)\n",
    "\n",
    "# Japão\n",
    "jp_sales_per_genre = (\n",
    "  df\n",
    "  .groupby('genre')['jp_sales']\n",
    "  .sum()\n",
    "  .reset_index()\n",
    ")\n",
    "top5_genres_jp = (\n",
    "  jp_sales_per_genre\n",
    "  .nlargest(5, 'jp_sales')\n",
    "  .reset_index(drop = True)\n",
    ")\n",
    "print('Os 5 principais gêneros do Japão, em termos de vendas são:')\n",
    "print(top5_genres_jp)"
   ]
  },
  {
   "cell_type": "markdown",
   "metadata": {},
   "source": [
    "### Comentários\n",
    "- Os 5 principais gêneros da América do Norte e da Europa são parecidos. Apenas a quarta posição é diferente. Enquanto na América do Norte, games do gênero Platform ocupam tal posição, na Europa, Racing ocupa a quarta posição. \n",
    "- Em todas as três regiões, os gênero Action, Sports e Misc são populares, sendo que o último ocupa a quinta posição em todas as regiões.\n",
    "- O gênero Platform ocupa a quarta posição na AN e no JP."
   ]
  },
  {
   "cell_type": "code",
   "execution_count": 21,
   "metadata": {},
   "outputs": [
    {
     "name": "stdout",
     "output_type": "stream",
     "text": [
      "Os 5 principais gêneros da América do Norte, em termos de vendas são:\n",
      "  rating  na_sales\n",
      "0      E   1274.24\n",
      "1      T    747.60\n",
      "2      M    742.89\n",
      "3   E10+    345.50\n",
      "4    K-A      2.56\n",
      "5     EC      1.53\n",
      "6     AO      1.26\n",
      "7     RP      0.00\n",
      "Os 5 principais gêneros da Europa, em termos de vendas são:\n",
      "  rating  eu_sales\n",
      "0      E    703.87\n",
      "1      M    480.00\n",
      "2      T    421.79\n",
      "3   E10+    183.35\n",
      "4     AO      0.61\n",
      "5    K-A      0.27\n",
      "6     EC      0.11\n",
      "7     RP      0.03\n",
      "Os 5 principais gêneros do Japão, em termos de vendas são:\n",
      "  rating  jp_sales\n",
      "0      E    197.96\n",
      "1      T    150.70\n",
      "2      M     63.58\n",
      "3   E10+     40.20\n",
      "4    K-A      1.46\n",
      "5     AO      0.00\n",
      "6     EC      0.00\n",
      "7     RP      0.00\n"
     ]
    }
   ],
   "source": [
    "# As classificações do ESRB afetam as vendas em regiões individuais?\n",
    "\n",
    "# América do Norte\n",
    "na_sales_per_rating = (\n",
    "  df\n",
    "  .groupby('rating')['na_sales']\n",
    "  .sum()\n",
    "  .reset_index()\n",
    ")\n",
    "top5_rating_na = (\n",
    "  na_sales_per_rating\n",
    "  .nlargest(10, 'na_sales')\n",
    "  .reset_index(drop = True)\n",
    ")\n",
    "print('Os 5 principais gêneros da América do Norte, em termos de vendas são:')\n",
    "print(top5_rating_na)\n",
    "\n",
    "# Europa\n",
    "eu_sales_per_rating = (\n",
    "  df\n",
    "  .groupby('rating')['eu_sales']\n",
    "  .sum()\n",
    "  .reset_index()\n",
    ")\n",
    "top5_rating_eu = (\n",
    "  eu_sales_per_rating\n",
    "  .nlargest(10, 'eu_sales')\n",
    "  .reset_index(drop = True)\n",
    ")\n",
    "print('Os 5 principais gêneros da Europa, em termos de vendas são:')\n",
    "print(top5_rating_eu)\n",
    "\n",
    "# Japão\n",
    "jp_sales_per_rating = (\n",
    "  df\n",
    "  .groupby('rating')['jp_sales']\n",
    "  .sum()\n",
    "  .reset_index()\n",
    ")\n",
    "top5_rating_jp = (\n",
    "  jp_sales_per_rating\n",
    "  .nlargest(10, 'jp_sales')\n",
    "  .reset_index(drop = True)\n",
    ")\n",
    "print('Os 5 principais gêneros do Japão, em termos de vendas são:')\n",
    "print(top5_rating_jp)"
   ]
  },
  {
   "cell_type": "markdown",
   "metadata": {},
   "source": [
    "### Comentários\n",
    "- Sim, as classificações afetam as vendas por região. As 4 primeiras posições em termos de venda possuem as mesmas classificações em todas as 3 regiões. As demais 4 posições, que totalizam um percentual muito baixo do total de vendas em todas as regiões, possuem classificações diferentes por região. "
   ]
  },
  {
   "cell_type": "markdown",
   "metadata": {},
   "source": [
    "## Teste de hipóteses"
   ]
  },
  {
   "cell_type": "markdown",
   "metadata": {},
   "source": [
    "### As classificações médias dos usuários das plataformas Xbox One e PC são as mesmas."
   ]
  },
  {
   "cell_type": "code",
   "execution_count": 22,
   "metadata": {},
   "outputs": [
    {
     "name": "stdout",
     "output_type": "stream",
     "text": [
      "Para os usuários de Xbox One, a Média das classificações é 6.521428571428572 e a Variância é 1.9069968429360695\n",
      "Para os usuários de PC, a Média das classificações é 7.065960264900661 e a Variância é 2.349224375076853\n",
      "Valor-p:  4.5385802963771835e-06\n",
      "Rejeitamos a hipótese nula: As classificações médias dos usuários das plataformas Xbox One e PC são diferentes.\n"
     ]
    }
   ],
   "source": [
    "# A Hipótese nula (H0) será considerada: \"As classificações médias dos usuários das plataformas Xbox One e PC são as mesmas.\" \n",
    "# A Hipótese alternativa será considerada: \"As classificações médias dos usuários das plataformas Xbox One e PC são diferentes.\"\n",
    "# O limiar alfa será considerado 0,05\n",
    "\n",
    "#Filtrar os dados por plataforma e remover NaNs\n",
    "xone_scores = df[df['platform'] == \"XOne\"]['user_score'].dropna()\n",
    "pc_scores = df[df['platform'] == \"PC\"]['user_score'].dropna()\n",
    "\n",
    "# Calcular as médias e as variâncias (para referência)\n",
    "xone_mean_user_score = xone_scores.mean()\n",
    "xone_var_user_score = xone_scores.var()\n",
    "\n",
    "pc_mean_user_score = pc_scores.mean()\n",
    "pc_var_user_score = pc_scores.var()\n",
    "\n",
    "print(f'Para os usuários de Xbox One, a Média das classificações é {xone_mean_user_score} e a Variância é {xone_var_user_score}')\n",
    "print(f'Para os usuários de PC, a Média das classificações é {pc_mean_user_score} e a Variância é {pc_var_user_score}')\n",
    "\n",
    "# Significância estatística crítica (limiar)\n",
    "alpha = 0.05\n",
    "\n",
    "# Teste t de Student para duas amostras independentes. Usar equal_var=False para variâncias desiguais\n",
    "results_1 = st.ttest_ind(xone_scores, pc_scores, equal_var = False)\n",
    "\n",
    "# imprimindo o valor-p resultante\n",
    "print('Valor-p: ', results_1.pvalue)\n",
    "\n",
    "# comparando o valor-p com o limiar\n",
    "if results_1.pvalue < alpha:\n",
    "    print(\"Rejeitamos a hipótese nula: As classificações médias dos usuários das plataformas Xbox One e PC são diferentes.\")\n",
    "else:\n",
    "    print(\"Não podemos rejeitar a hipótese nula: As classificações médias dos usuários das plataformas Xbox One e PC são as mesmas.\")"
   ]
  },
  {
   "cell_type": "markdown",
   "metadata": {},
   "source": [
    "### As classificações médias de usuários para os gêneros Action (ação) e Sports (esportes) são diferentes."
   ]
  },
  {
   "cell_type": "code",
   "execution_count": 23,
   "metadata": {},
   "outputs": [
    {
     "name": "stdout",
     "output_type": "stream",
     "text": [
      "Para o gênero Ação, a Média das classificações é 7.058129175946549 e a Variância é 2.027493768262496\n",
      "Para o gênero Esportes, a Média das classificações é 6.951433857539316 e a Variância é 2.623055812519272\n",
      "Valor-p:  0.07370217419278526\n",
      "Não podemos rejeitar a hipótese nula: As classificações médias de usuários para os gêneros Action (ação) e Sports (esportes) são as mesmas.\n"
     ]
    }
   ],
   "source": [
    "# A Hipótese nula (H0) será considerada: \"As classificações médias de usuários para os gêneros Action (ação) e Sports (esportes) são iguais.\" \n",
    "# A Hipótese alternativa será considerada: \"As classificações médias de usuários para os gêneros Action (ação) e Sports (esportes) são diferentes.\"\n",
    "# O limiar alfa será considerado 0,05\n",
    "\n",
    "#Filtrar os dados por gênero e remover NaNs\n",
    "action_scores = df[df['genre'] == \"Action\"]['user_score'].dropna()\n",
    "sports_scores = df[df['genre'] == \"Sports\"]['user_score'].dropna()\n",
    "\n",
    "# Calcular as médias e as variâncias (para referência)\n",
    "action_mean_user_score = action_scores.mean()\n",
    "action_var_user_score = action_scores.var()\n",
    "\n",
    "sports_mean_user_score = sports_scores.mean()\n",
    "sports_var_user_score = sports_scores.var()\n",
    "\n",
    "print(f'Para o gênero Ação, a Média das classificações é {action_mean_user_score} e a Variância é {action_var_user_score}')\n",
    "print(f'Para o gênero Esportes, a Média das classificações é {sports_mean_user_score} e a Variância é {sports_var_user_score}')\n",
    "\n",
    "# Significância estatística crítica (limiar)\n",
    "alpha = 0.05\n",
    "\n",
    "# Teste t de Student para duas amostras independentes. Usar equal_var=False para variâncias desiguais\n",
    "results_2 = st.ttest_ind(action_scores, sports_scores, equal_var = False)\n",
    "\n",
    "# imprimindo o valor-p resultante\n",
    "print('Valor-p: ', results_2.pvalue)\n",
    "\n",
    "# comparando o valor-p com o limiar\n",
    "if results_2.pvalue < alpha:\n",
    "    print(\"Rejeitamos a hipótese nula: As classificações médias de usuários para os gêneros Action (ação) e Sports (esportes) são diferentes.\")\n",
    "else:\n",
    "    print(\"Não podemos rejeitar a hipótese nula: As classificações médias de usuários para os gêneros Action (ação) e Sports (esportes) são as mesmas.\")"
   ]
  },
  {
   "cell_type": "markdown",
   "metadata": {},
   "source": [
    "<div class=\"alert alert-block alert-success\">\n",
    "<b>Comentário: </b> <a class=\"tocSkip\"></a>\n",
    "    \n",
    "- Os testes foram realizados corretamente: \n",
    "    - Bom trabalho na análise de variância e média antes de realizar o teste\n",
    "    - Boa interpretação dos resultados\n",
    "    \n",
    "Parabéns!"
   ]
  },
  {
   "cell_type": "markdown",
   "metadata": {},
   "source": [
    "### Explique: a) Como você formula as hipóteses alternativas e nulas; b) Quais critérios você usou para testar as hipóteses, e por quê.\n",
    "- a) Eu formulo a hipótese nula supondo que não há efeito ou diferença entre as condições de estudo. A hipótese alternativa é aquela em que há um efeito ou diferença.\n",
    "- b) Para testar as hipóteses, foi utilizado o teste t de Student para amostras independentes. Este teste é apropriado quando queremos comparar as médias de dois grupos e temos dados contínuos que podem seguir uma distribuição normal.\n",
    "- c) Equal Variance: foi utilizado equal_var = False, que é apropriado quando as variâncias dos grupos podem ser diferentes (assumindo que os dados não seguem uma distribuição normal).\n",
    "- d) Nível de Significância (alpha): a probabilidade de rejeitar a hipótese nula quando ela é verdadeira. O valor  significa que aceita-se uma chance de 5% de cometer um erro do Tipo I (rejeitar a hipótese nula quando ela é verdadeira).\n",
    "- e) Valor-p: O valor-p é a probabilidade de observar os dados coletados (ou algo mais extremo) sob a suposição de que a hipótese nula é verdadeira. Se o valor-p obtido do teste for menor que o nível de significância, rejeitamos a hipótese nula. Caso contrário, não temos evidências suficientes para rejeitá-la."
   ]
  },
  {
   "cell_type": "markdown",
   "metadata": {},
   "source": [
    "# Revisor, eu gostaria de sugestões para tornar meu código mais enxuto e eficiente. Obrigada =)"
   ]
  },
  {
   "cell_type": "markdown",
   "metadata": {},
   "source": [
    "<div class=\"alert alert-block alert-success\">\n",
    "<b>Comentário: </b> <a class=\"tocSkip\"></a>\n",
    "    \n",
    "Oi, Aline! Fico feliz que você tem interesse de sempre otimizar o código. Isso é uma ótima qualidade de profissional de dados!\n",
    "\n",
    "Seu código já está bem otimizado! Gostei que o seu código é documentado e também apresenta boa redibilidade. Adicionei apenas alguns comentários no seu projeto apenas como alguns pontos de melhoria.\n",
    "\n",
    "\n",
    "Caso você queira uma leitura sobre python avançado, gosto bastante desse artigo: https://www.softformance.com/blog/how-to-speed-up-python-code/ "
   ]
  },
  {
   "cell_type": "code",
   "execution_count": null,
   "metadata": {},
   "outputs": [],
   "source": []
  },
  {
   "cell_type": "code",
   "execution_count": null,
   "metadata": {},
   "outputs": [],
   "source": []
  }
 ],
 "metadata": {
  "ExecuteTimeLog": [
   {
    "duration": 158,
    "start_time": "2024-10-06T16:06:06.204Z"
   },
   {
    "duration": 13,
    "start_time": "2024-10-06T16:06:23.512Z"
   },
   {
    "duration": 6,
    "start_time": "2024-10-06T16:06:28.217Z"
   },
   {
    "duration": 12,
    "start_time": "2024-10-06T16:06:28.629Z"
   },
   {
    "duration": 12,
    "start_time": "2024-10-06T16:06:29.161Z"
   },
   {
    "duration": 12,
    "start_time": "2024-10-06T16:06:29.544Z"
   },
   {
    "duration": 12,
    "start_time": "2024-10-06T16:06:29.911Z"
   },
   {
    "duration": 13,
    "start_time": "2024-10-06T16:06:30.278Z"
   },
   {
    "duration": 3,
    "start_time": "2024-10-06T16:06:30.478Z"
   },
   {
    "duration": 282,
    "start_time": "2024-10-06T16:06:46.488Z"
   },
   {
    "duration": 51,
    "start_time": "2024-10-06T16:07:17.427Z"
   },
   {
    "duration": 279,
    "start_time": "2024-10-06T16:07:38.401Z"
   },
   {
    "duration": 44,
    "start_time": "2024-10-06T16:07:38.682Z"
   },
   {
    "duration": 4,
    "start_time": "2024-10-06T16:07:38.728Z"
   },
   {
    "duration": 3,
    "start_time": "2024-10-06T16:07:38.735Z"
   },
   {
    "duration": 13,
    "start_time": "2024-10-06T16:07:38.740Z"
   },
   {
    "duration": 17,
    "start_time": "2024-10-06T16:07:38.754Z"
   },
   {
    "duration": 2,
    "start_time": "2024-10-06T16:07:38.773Z"
   },
   {
    "duration": 312,
    "start_time": "2024-10-06T16:19:24.841Z"
   },
   {
    "duration": 38,
    "start_time": "2024-10-06T16:19:25.155Z"
   },
   {
    "duration": 3,
    "start_time": "2024-10-06T16:19:25.195Z"
   },
   {
    "duration": 4,
    "start_time": "2024-10-06T16:19:25.210Z"
   },
   {
    "duration": 13,
    "start_time": "2024-10-06T16:19:25.215Z"
   },
   {
    "duration": 16,
    "start_time": "2024-10-06T16:19:25.230Z"
   },
   {
    "duration": 16,
    "start_time": "2024-10-06T16:19:25.248Z"
   },
   {
    "duration": 354,
    "start_time": "2024-10-06T16:21:18.004Z"
   },
   {
    "duration": 3,
    "start_time": "2024-10-06T16:21:18.361Z"
   },
   {
    "duration": 5,
    "start_time": "2024-10-06T16:21:18.366Z"
   },
   {
    "duration": 13,
    "start_time": "2024-10-06T16:21:18.372Z"
   },
   {
    "duration": 37,
    "start_time": "2024-10-06T16:21:18.387Z"
   },
   {
    "duration": 14,
    "start_time": "2024-10-06T16:21:18.426Z"
   },
   {
    "duration": 318,
    "start_time": "2024-10-06T16:22:12.475Z"
   },
   {
    "duration": 4,
    "start_time": "2024-10-06T16:22:12.795Z"
   },
   {
    "duration": 3,
    "start_time": "2024-10-06T16:22:12.801Z"
   },
   {
    "duration": 13,
    "start_time": "2024-10-06T16:22:12.809Z"
   },
   {
    "duration": 26,
    "start_time": "2024-10-06T16:22:12.823Z"
   },
   {
    "duration": 14,
    "start_time": "2024-10-06T16:22:12.851Z"
   },
   {
    "duration": 4,
    "start_time": "2024-10-06T16:27:13.402Z"
   },
   {
    "duration": 180,
    "start_time": "2024-10-06T16:29:32.570Z"
   },
   {
    "duration": 2112,
    "start_time": "2024-10-06T16:29:41.382Z"
   },
   {
    "duration": 3,
    "start_time": "2024-10-06T16:29:43.497Z"
   },
   {
    "duration": 9,
    "start_time": "2024-10-06T16:29:43.502Z"
   },
   {
    "duration": 12,
    "start_time": "2024-10-06T16:29:43.514Z"
   },
   {
    "duration": 17,
    "start_time": "2024-10-06T16:29:43.528Z"
   },
   {
    "duration": 13,
    "start_time": "2024-10-06T16:29:43.547Z"
   },
   {
    "duration": 339,
    "start_time": "2024-10-06T16:29:43.562Z"
   },
   {
    "duration": 6,
    "start_time": "2024-10-06T16:38:18.026Z"
   },
   {
    "duration": 225,
    "start_time": "2024-10-06T16:39:37.866Z"
   },
   {
    "duration": 6,
    "start_time": "2024-10-06T16:39:45.422Z"
   },
   {
    "duration": 27,
    "start_time": "2024-10-06T16:44:38.902Z"
   },
   {
    "duration": 19,
    "start_time": "2024-10-06T16:45:40.065Z"
   },
   {
    "duration": 7,
    "start_time": "2024-10-06T16:45:52.188Z"
   },
   {
    "duration": 17,
    "start_time": "2024-10-06T16:47:05.852Z"
   },
   {
    "duration": 7,
    "start_time": "2024-10-06T16:47:14.737Z"
   },
   {
    "duration": 11,
    "start_time": "2024-10-06T16:50:51.125Z"
   },
   {
    "duration": 7,
    "start_time": "2024-10-06T16:52:31.406Z"
   },
   {
    "duration": 8,
    "start_time": "2024-10-06T16:54:27.408Z"
   },
   {
    "duration": 17,
    "start_time": "2024-10-06T16:55:47.672Z"
   },
   {
    "duration": 8,
    "start_time": "2024-10-06T16:57:02.722Z"
   },
   {
    "duration": 24,
    "start_time": "2024-10-06T16:58:16.980Z"
   },
   {
    "duration": 13,
    "start_time": "2024-10-06T16:58:41.872Z"
   },
   {
    "duration": 31,
    "start_time": "2024-10-06T17:03:13.755Z"
   },
   {
    "duration": 48,
    "start_time": "2024-10-06T17:03:28.048Z"
   },
   {
    "duration": 21,
    "start_time": "2024-10-06T17:03:39.574Z"
   },
   {
    "duration": 26,
    "start_time": "2024-10-06T17:04:12.925Z"
   },
   {
    "duration": 21,
    "start_time": "2024-10-06T17:05:12.009Z"
   },
   {
    "duration": 283,
    "start_time": "2024-10-06T17:07:52.181Z"
   },
   {
    "duration": 524,
    "start_time": "2024-10-06T17:10:50.362Z"
   },
   {
    "duration": 4,
    "start_time": "2024-10-06T17:10:50.888Z"
   },
   {
    "duration": 15,
    "start_time": "2024-10-06T17:10:50.894Z"
   },
   {
    "duration": 16,
    "start_time": "2024-10-06T17:10:50.911Z"
   },
   {
    "duration": 23,
    "start_time": "2024-10-06T17:10:50.930Z"
   },
   {
    "duration": 20,
    "start_time": "2024-10-06T17:10:50.955Z"
   },
   {
    "duration": 286,
    "start_time": "2024-10-06T17:10:50.978Z"
   },
   {
    "duration": 7,
    "start_time": "2024-10-06T17:10:51.265Z"
   },
   {
    "duration": 285,
    "start_time": "2024-10-06T17:10:51.273Z"
   },
   {
    "duration": 3,
    "start_time": "2024-10-06T17:10:51.559Z"
   },
   {
    "duration": 2,
    "start_time": "2024-10-06T17:10:51.564Z"
   },
   {
    "duration": 3,
    "start_time": "2024-10-06T17:10:51.568Z"
   },
   {
    "duration": 5,
    "start_time": "2024-10-06T17:10:51.572Z"
   },
   {
    "duration": 2,
    "start_time": "2024-10-06T17:10:51.580Z"
   },
   {
    "duration": 25,
    "start_time": "2024-10-06T17:10:51.584Z"
   },
   {
    "duration": 2,
    "start_time": "2024-10-06T17:10:51.611Z"
   },
   {
    "duration": 13,
    "start_time": "2024-10-06T17:11:15.206Z"
   },
   {
    "duration": 532,
    "start_time": "2024-10-06T17:11:28.045Z"
   },
   {
    "duration": 3,
    "start_time": "2024-10-06T17:11:28.579Z"
   },
   {
    "duration": 26,
    "start_time": "2024-10-06T17:11:28.584Z"
   },
   {
    "duration": 14,
    "start_time": "2024-10-06T17:11:28.612Z"
   },
   {
    "duration": 17,
    "start_time": "2024-10-06T17:11:28.627Z"
   },
   {
    "duration": 14,
    "start_time": "2024-10-06T17:11:28.645Z"
   },
   {
    "duration": 307,
    "start_time": "2024-10-06T17:11:28.661Z"
   },
   {
    "duration": 8,
    "start_time": "2024-10-06T17:11:28.970Z"
   },
   {
    "duration": 341,
    "start_time": "2024-10-06T17:11:28.981Z"
   },
   {
    "duration": 3,
    "start_time": "2024-10-06T17:11:29.324Z"
   },
   {
    "duration": 2,
    "start_time": "2024-10-06T17:11:29.328Z"
   },
   {
    "duration": 2,
    "start_time": "2024-10-06T17:11:29.332Z"
   },
   {
    "duration": 2,
    "start_time": "2024-10-06T17:11:29.336Z"
   },
   {
    "duration": 3,
    "start_time": "2024-10-06T17:11:29.339Z"
   },
   {
    "duration": 2,
    "start_time": "2024-10-06T17:11:29.344Z"
   },
   {
    "duration": 3,
    "start_time": "2024-10-06T17:11:29.347Z"
   },
   {
    "duration": 21,
    "start_time": "2024-10-06T17:17:14.339Z"
   },
   {
    "duration": 24,
    "start_time": "2024-10-06T17:19:09.266Z"
   },
   {
    "duration": 266,
    "start_time": "2024-10-06T17:20:23.725Z"
   },
   {
    "duration": 276,
    "start_time": "2024-10-06T17:22:17.271Z"
   },
   {
    "duration": 231,
    "start_time": "2024-10-06T17:23:09.038Z"
   },
   {
    "duration": 10,
    "start_time": "2024-10-06T17:27:17.106Z"
   },
   {
    "duration": 5,
    "start_time": "2024-10-06T17:31:35.643Z"
   },
   {
    "duration": 635,
    "start_time": "2024-10-06T17:31:41.556Z"
   },
   {
    "duration": 12,
    "start_time": "2024-10-06T17:32:19.842Z"
   },
   {
    "duration": 11,
    "start_time": "2024-10-06T17:32:32.781Z"
   },
   {
    "duration": 11,
    "start_time": "2024-10-06T17:37:10.503Z"
   },
   {
    "duration": 10,
    "start_time": "2024-10-06T17:37:28.875Z"
   },
   {
    "duration": 10,
    "start_time": "2024-10-06T17:38:11.314Z"
   },
   {
    "duration": 15,
    "start_time": "2024-10-06T17:38:28.422Z"
   },
   {
    "duration": 12,
    "start_time": "2024-10-06T17:39:04.028Z"
   },
   {
    "duration": 3,
    "start_time": "2024-10-06T17:53:40.739Z"
   },
   {
    "duration": 16,
    "start_time": "2024-10-06T17:57:48.766Z"
   },
   {
    "duration": 8,
    "start_time": "2024-10-06T17:58:05.843Z"
   },
   {
    "duration": 15,
    "start_time": "2024-10-06T17:59:19.442Z"
   },
   {
    "duration": 6,
    "start_time": "2024-10-06T18:01:00.165Z"
   },
   {
    "duration": 16,
    "start_time": "2024-10-06T18:01:12.369Z"
   },
   {
    "duration": 16,
    "start_time": "2024-10-06T18:08:00.850Z"
   },
   {
    "duration": 16,
    "start_time": "2024-10-06T18:08:53.828Z"
   },
   {
    "duration": 17,
    "start_time": "2024-10-06T18:15:28.236Z"
   },
   {
    "duration": 21,
    "start_time": "2024-10-06T18:32:39.267Z"
   },
   {
    "duration": 511,
    "start_time": "2024-10-06T18:44:23.015Z"
   },
   {
    "duration": 3,
    "start_time": "2024-10-06T18:44:23.528Z"
   },
   {
    "duration": 14,
    "start_time": "2024-10-06T18:44:23.533Z"
   },
   {
    "duration": 12,
    "start_time": "2024-10-06T18:44:23.550Z"
   },
   {
    "duration": 16,
    "start_time": "2024-10-06T18:44:23.563Z"
   },
   {
    "duration": 40,
    "start_time": "2024-10-06T18:44:23.581Z"
   },
   {
    "duration": 288,
    "start_time": "2024-10-06T18:44:23.622Z"
   },
   {
    "duration": 6,
    "start_time": "2024-10-06T18:44:23.912Z"
   },
   {
    "duration": 293,
    "start_time": "2024-10-06T18:44:23.920Z"
   },
   {
    "duration": 2,
    "start_time": "2024-10-06T18:44:24.216Z"
   },
   {
    "duration": 3,
    "start_time": "2024-10-06T18:44:24.220Z"
   },
   {
    "duration": 3,
    "start_time": "2024-10-06T18:44:24.224Z"
   },
   {
    "duration": 3,
    "start_time": "2024-10-06T18:44:24.229Z"
   },
   {
    "duration": 3,
    "start_time": "2024-10-06T18:44:24.233Z"
   },
   {
    "duration": 3,
    "start_time": "2024-10-06T18:44:24.237Z"
   },
   {
    "duration": 2,
    "start_time": "2024-10-06T18:44:24.242Z"
   },
   {
    "duration": 3,
    "start_time": "2024-10-06T18:44:24.246Z"
   },
   {
    "duration": 15,
    "start_time": "2024-10-06T18:44:24.250Z"
   },
   {
    "duration": 55,
    "start_time": "2024-10-06T18:44:24.267Z"
   },
   {
    "duration": 17,
    "start_time": "2024-10-06T18:44:24.325Z"
   },
   {
    "duration": 17,
    "start_time": "2024-10-06T18:45:16.863Z"
   },
   {
    "duration": 20,
    "start_time": "2024-10-06T18:45:37.307Z"
   },
   {
    "duration": 21,
    "start_time": "2024-10-06T18:45:46.893Z"
   },
   {
    "duration": 16,
    "start_time": "2024-10-06T18:46:28.956Z"
   },
   {
    "duration": 16,
    "start_time": "2024-10-06T18:46:42.500Z"
   },
   {
    "duration": 19,
    "start_time": "2024-10-06T18:46:52.314Z"
   },
   {
    "duration": 7,
    "start_time": "2024-10-06T19:09:21.791Z"
   },
   {
    "duration": 7,
    "start_time": "2024-10-06T19:09:40.285Z"
   },
   {
    "duration": 7,
    "start_time": "2024-10-06T19:10:04.227Z"
   },
   {
    "duration": 193,
    "start_time": "2024-10-06T19:14:00.945Z"
   },
   {
    "duration": 843,
    "start_time": "2024-10-06T19:14:38.829Z"
   },
   {
    "duration": 3,
    "start_time": "2024-10-06T19:14:39.674Z"
   },
   {
    "duration": 14,
    "start_time": "2024-10-06T19:14:39.679Z"
   },
   {
    "duration": 32,
    "start_time": "2024-10-06T19:14:39.696Z"
   },
   {
    "duration": 24,
    "start_time": "2024-10-06T19:14:39.732Z"
   },
   {
    "duration": 21,
    "start_time": "2024-10-06T19:14:39.758Z"
   },
   {
    "duration": 298,
    "start_time": "2024-10-06T19:14:39.782Z"
   },
   {
    "duration": 7,
    "start_time": "2024-10-06T19:14:40.082Z"
   },
   {
    "duration": 289,
    "start_time": "2024-10-06T19:14:40.090Z"
   },
   {
    "duration": 2,
    "start_time": "2024-10-06T19:14:40.382Z"
   },
   {
    "duration": 3,
    "start_time": "2024-10-06T19:14:40.386Z"
   },
   {
    "duration": 19,
    "start_time": "2024-10-06T19:14:40.390Z"
   },
   {
    "duration": 3,
    "start_time": "2024-10-06T19:14:40.410Z"
   },
   {
    "duration": 2,
    "start_time": "2024-10-06T19:14:40.416Z"
   },
   {
    "duration": 3,
    "start_time": "2024-10-06T19:14:40.420Z"
   },
   {
    "duration": 4,
    "start_time": "2024-10-06T19:14:40.424Z"
   },
   {
    "duration": 3,
    "start_time": "2024-10-06T19:14:40.430Z"
   },
   {
    "duration": 89,
    "start_time": "2024-10-06T19:14:40.434Z"
   },
   {
    "duration": 15,
    "start_time": "2024-10-06T19:14:40.525Z"
   },
   {
    "duration": 16,
    "start_time": "2024-10-06T19:14:40.542Z"
   },
   {
    "duration": 243,
    "start_time": "2024-10-06T19:14:40.559Z"
   },
   {
    "duration": 0,
    "start_time": "2024-10-06T19:14:40.809Z"
   },
   {
    "duration": 9,
    "start_time": "2024-10-06T19:15:24.747Z"
   },
   {
    "duration": 9,
    "start_time": "2024-10-06T19:15:53.806Z"
   },
   {
    "duration": 8,
    "start_time": "2024-10-06T19:21:34.227Z"
   },
   {
    "duration": 10,
    "start_time": "2024-10-06T19:22:36.098Z"
   },
   {
    "duration": 10,
    "start_time": "2024-10-06T19:27:34.644Z"
   },
   {
    "duration": 11,
    "start_time": "2024-10-06T19:29:04.296Z"
   },
   {
    "duration": 855,
    "start_time": "2024-10-06T19:34:48.619Z"
   },
   {
    "duration": 3,
    "start_time": "2024-10-06T19:34:49.476Z"
   },
   {
    "duration": 14,
    "start_time": "2024-10-06T19:34:49.481Z"
   },
   {
    "duration": 22,
    "start_time": "2024-10-06T19:34:49.496Z"
   },
   {
    "duration": 16,
    "start_time": "2024-10-06T19:34:49.521Z"
   },
   {
    "duration": 13,
    "start_time": "2024-10-06T19:34:49.538Z"
   },
   {
    "duration": 295,
    "start_time": "2024-10-06T19:34:49.553Z"
   },
   {
    "duration": 7,
    "start_time": "2024-10-06T19:34:49.850Z"
   },
   {
    "duration": 290,
    "start_time": "2024-10-06T19:34:49.858Z"
   },
   {
    "duration": 2,
    "start_time": "2024-10-06T19:34:50.150Z"
   },
   {
    "duration": 3,
    "start_time": "2024-10-06T19:34:50.154Z"
   },
   {
    "duration": 3,
    "start_time": "2024-10-06T19:34:50.158Z"
   },
   {
    "duration": 3,
    "start_time": "2024-10-06T19:34:50.162Z"
   },
   {
    "duration": 2,
    "start_time": "2024-10-06T19:34:50.169Z"
   },
   {
    "duration": 3,
    "start_time": "2024-10-06T19:34:50.172Z"
   },
   {
    "duration": 33,
    "start_time": "2024-10-06T19:34:50.176Z"
   },
   {
    "duration": 2,
    "start_time": "2024-10-06T19:34:50.211Z"
   },
   {
    "duration": 77,
    "start_time": "2024-10-06T19:34:50.214Z"
   },
   {
    "duration": 25,
    "start_time": "2024-10-06T19:34:50.293Z"
   },
   {
    "duration": 16,
    "start_time": "2024-10-06T19:34:50.320Z"
   },
   {
    "duration": 9,
    "start_time": "2024-10-06T19:34:50.338Z"
   },
   {
    "duration": 10,
    "start_time": "2024-10-06T19:34:50.348Z"
   },
   {
    "duration": 2677,
    "start_time": "2024-10-08T22:36:30.946Z"
   },
   {
    "duration": 5,
    "start_time": "2024-10-08T22:36:33.626Z"
   },
   {
    "duration": 14,
    "start_time": "2024-10-08T22:36:33.633Z"
   },
   {
    "duration": 17,
    "start_time": "2024-10-08T22:36:33.650Z"
   },
   {
    "duration": 18,
    "start_time": "2024-10-08T22:36:33.669Z"
   },
   {
    "duration": 14,
    "start_time": "2024-10-08T22:36:33.711Z"
   },
   {
    "duration": 322,
    "start_time": "2024-10-08T22:36:33.727Z"
   },
   {
    "duration": 8,
    "start_time": "2024-10-08T22:36:34.051Z"
   },
   {
    "duration": 290,
    "start_time": "2024-10-08T22:36:34.061Z"
   },
   {
    "duration": 2,
    "start_time": "2024-10-08T22:36:34.354Z"
   },
   {
    "duration": 4,
    "start_time": "2024-10-08T22:36:34.357Z"
   },
   {
    "duration": 3,
    "start_time": "2024-10-08T22:36:34.363Z"
   },
   {
    "duration": 3,
    "start_time": "2024-10-08T22:36:34.368Z"
   },
   {
    "duration": 3,
    "start_time": "2024-10-08T22:36:34.373Z"
   },
   {
    "duration": 2,
    "start_time": "2024-10-08T22:36:34.378Z"
   },
   {
    "duration": 2,
    "start_time": "2024-10-08T22:36:34.383Z"
   },
   {
    "duration": 2,
    "start_time": "2024-10-08T22:36:34.413Z"
   },
   {
    "duration": 17,
    "start_time": "2024-10-08T22:36:34.417Z"
   },
   {
    "duration": 16,
    "start_time": "2024-10-08T22:36:34.436Z"
   },
   {
    "duration": 15,
    "start_time": "2024-10-08T22:36:34.454Z"
   },
   {
    "duration": 9,
    "start_time": "2024-10-08T22:36:34.471Z"
   },
   {
    "duration": 12,
    "start_time": "2024-10-08T22:36:34.512Z"
   },
   {
    "duration": 433,
    "start_time": "2024-10-08T22:37:48.964Z"
   },
   {
    "duration": 573,
    "start_time": "2024-10-08T22:39:17.783Z"
   },
   {
    "duration": 30,
    "start_time": "2024-10-08T22:46:40.841Z"
   },
   {
    "duration": 574,
    "start_time": "2024-10-08T22:47:17.925Z"
   },
   {
    "duration": 849,
    "start_time": "2024-10-08T22:47:45.610Z"
   },
   {
    "duration": 914,
    "start_time": "2024-10-08T22:47:56.623Z"
   },
   {
    "duration": 730,
    "start_time": "2024-10-08T22:48:19.126Z"
   },
   {
    "duration": 994,
    "start_time": "2024-10-08T22:49:02.823Z"
   },
   {
    "duration": 1031,
    "start_time": "2024-10-08T22:49:12.553Z"
   },
   {
    "duration": 6,
    "start_time": "2024-10-08T22:52:50.741Z"
   },
   {
    "duration": 927,
    "start_time": "2024-10-08T22:53:24.330Z"
   },
   {
    "duration": 329,
    "start_time": "2024-10-08T22:54:11.436Z"
   },
   {
    "duration": 953,
    "start_time": "2024-10-08T22:54:51.438Z"
   },
   {
    "duration": 14,
    "start_time": "2024-10-09T00:06:41.704Z"
   },
   {
    "duration": 14,
    "start_time": "2024-10-09T00:08:12.590Z"
   },
   {
    "duration": 6,
    "start_time": "2024-10-09T00:09:49.430Z"
   },
   {
    "duration": 7,
    "start_time": "2024-10-09T00:11:41.150Z"
   },
   {
    "duration": 6,
    "start_time": "2024-10-09T00:12:07.601Z"
   },
   {
    "duration": 2,
    "start_time": "2024-10-09T00:12:07.610Z"
   },
   {
    "duration": 3,
    "start_time": "2024-10-09T00:12:07.614Z"
   },
   {
    "duration": 2,
    "start_time": "2024-10-09T00:12:07.619Z"
   },
   {
    "duration": 2,
    "start_time": "2024-10-09T00:12:07.624Z"
   },
   {
    "duration": 16,
    "start_time": "2024-10-09T00:12:07.627Z"
   },
   {
    "duration": 21,
    "start_time": "2024-10-09T00:12:07.645Z"
   },
   {
    "duration": 49,
    "start_time": "2024-10-09T00:12:07.668Z"
   },
   {
    "duration": 17,
    "start_time": "2024-10-09T00:12:07.718Z"
   },
   {
    "duration": 16,
    "start_time": "2024-10-09T00:12:07.737Z"
   },
   {
    "duration": 7,
    "start_time": "2024-10-09T00:14:09.552Z"
   },
   {
    "duration": 12,
    "start_time": "2024-10-09T00:15:53.388Z"
   },
   {
    "duration": 682,
    "start_time": "2024-10-09T00:17:11.129Z"
   },
   {
    "duration": 236,
    "start_time": "2024-10-09T00:19:42.432Z"
   },
   {
    "duration": 542,
    "start_time": "2024-10-09T00:20:54.646Z"
   },
   {
    "duration": 527,
    "start_time": "2024-10-09T00:28:18.089Z"
   },
   {
    "duration": 2663,
    "start_time": "2024-10-09T21:27:56.332Z"
   },
   {
    "duration": 4,
    "start_time": "2024-10-09T21:27:58.997Z"
   },
   {
    "duration": 14,
    "start_time": "2024-10-09T21:27:59.002Z"
   },
   {
    "duration": 12,
    "start_time": "2024-10-09T21:27:59.018Z"
   },
   {
    "duration": 19,
    "start_time": "2024-10-09T21:27:59.033Z"
   },
   {
    "duration": 14,
    "start_time": "2024-10-09T21:27:59.053Z"
   },
   {
    "duration": 296,
    "start_time": "2024-10-09T21:27:59.069Z"
   },
   {
    "duration": 6,
    "start_time": "2024-10-09T21:27:59.367Z"
   },
   {
    "duration": 294,
    "start_time": "2024-10-09T21:27:59.376Z"
   },
   {
    "duration": 1022,
    "start_time": "2024-10-09T21:27:59.672Z"
   },
   {
    "duration": 19,
    "start_time": "2024-10-09T21:28:00.696Z"
   },
   {
    "duration": 452,
    "start_time": "2024-10-09T21:28:00.716Z"
   },
   {
    "duration": 5,
    "start_time": "2024-10-09T21:28:01.170Z"
   },
   {
    "duration": 0,
    "start_time": "2024-10-09T21:28:01.177Z"
   },
   {
    "duration": 0,
    "start_time": "2024-10-09T21:28:01.179Z"
   },
   {
    "duration": 0,
    "start_time": "2024-10-09T21:28:01.180Z"
   },
   {
    "duration": 0,
    "start_time": "2024-10-09T21:28:01.181Z"
   },
   {
    "duration": 0,
    "start_time": "2024-10-09T21:28:01.182Z"
   },
   {
    "duration": 0,
    "start_time": "2024-10-09T21:28:01.183Z"
   },
   {
    "duration": 0,
    "start_time": "2024-10-09T21:28:01.184Z"
   },
   {
    "duration": 0,
    "start_time": "2024-10-09T21:28:01.186Z"
   },
   {
    "duration": 0,
    "start_time": "2024-10-09T21:28:01.205Z"
   },
   {
    "duration": 256,
    "start_time": "2024-10-09T21:28:11.536Z"
   },
   {
    "duration": 12,
    "start_time": "2024-10-09T21:28:13.588Z"
   },
   {
    "duration": 370,
    "start_time": "2024-10-09T21:31:18.535Z"
   },
   {
    "duration": 13,
    "start_time": "2024-10-09T21:41:09.393Z"
   },
   {
    "duration": 935,
    "start_time": "2024-10-09T21:47:30.386Z"
   },
   {
    "duration": 6,
    "start_time": "2024-10-09T21:51:06.330Z"
   },
   {
    "duration": 8,
    "start_time": "2024-10-09T21:51:52.208Z"
   },
   {
    "duration": 9,
    "start_time": "2024-10-09T21:52:16.372Z"
   },
   {
    "duration": 14,
    "start_time": "2024-10-09T21:52:48.970Z"
   },
   {
    "duration": 20,
    "start_time": "2024-10-09T22:03:39.489Z"
   },
   {
    "duration": 26,
    "start_time": "2024-10-09T22:07:32.832Z"
   },
   {
    "duration": 2668,
    "start_time": "2024-10-10T11:27:46.534Z"
   },
   {
    "duration": 3,
    "start_time": "2024-10-10T11:27:49.205Z"
   },
   {
    "duration": 15,
    "start_time": "2024-10-10T11:27:49.209Z"
   },
   {
    "duration": 13,
    "start_time": "2024-10-10T11:27:49.226Z"
   },
   {
    "duration": 16,
    "start_time": "2024-10-10T11:27:49.241Z"
   },
   {
    "duration": 14,
    "start_time": "2024-10-10T11:27:49.258Z"
   },
   {
    "duration": 299,
    "start_time": "2024-10-10T11:27:49.274Z"
   },
   {
    "duration": 8,
    "start_time": "2024-10-10T11:27:49.575Z"
   },
   {
    "duration": 26,
    "start_time": "2024-10-10T11:27:49.585Z"
   },
   {
    "duration": 279,
    "start_time": "2024-10-10T11:27:49.613Z"
   },
   {
    "duration": 986,
    "start_time": "2024-10-10T11:27:49.895Z"
   },
   {
    "duration": 38,
    "start_time": "2024-10-10T11:27:50.882Z"
   },
   {
    "duration": 11,
    "start_time": "2024-10-10T11:27:50.922Z"
   },
   {
    "duration": 430,
    "start_time": "2024-10-10T11:27:50.937Z"
   },
   {
    "duration": 5,
    "start_time": "2024-10-10T11:27:51.369Z"
   },
   {
    "duration": 0,
    "start_time": "2024-10-10T11:27:51.375Z"
   },
   {
    "duration": 0,
    "start_time": "2024-10-10T11:27:51.377Z"
   },
   {
    "duration": 0,
    "start_time": "2024-10-10T11:27:51.379Z"
   },
   {
    "duration": 0,
    "start_time": "2024-10-10T11:27:51.380Z"
   },
   {
    "duration": 0,
    "start_time": "2024-10-10T11:27:51.382Z"
   },
   {
    "duration": 0,
    "start_time": "2024-10-10T11:27:51.383Z"
   },
   {
    "duration": 0,
    "start_time": "2024-10-10T11:27:51.385Z"
   },
   {
    "duration": 0,
    "start_time": "2024-10-10T11:27:51.385Z"
   },
   {
    "duration": 0,
    "start_time": "2024-10-10T11:27:51.387Z"
   },
   {
    "duration": 11,
    "start_time": "2024-10-10T11:32:45.938Z"
   },
   {
    "duration": 136,
    "start_time": "2024-10-10T11:39:41.447Z"
   },
   {
    "duration": 12,
    "start_time": "2024-10-10T11:40:04.977Z"
   },
   {
    "duration": 21,
    "start_time": "2024-10-10T11:40:10.589Z"
   },
   {
    "duration": 11,
    "start_time": "2024-10-10T11:40:21.925Z"
   },
   {
    "duration": 11,
    "start_time": "2024-10-10T11:41:36.177Z"
   },
   {
    "duration": 13,
    "start_time": "2024-10-10T11:41:56.150Z"
   },
   {
    "duration": 3666,
    "start_time": "2024-10-10T11:46:30.790Z"
   },
   {
    "duration": 387,
    "start_time": "2024-10-10T11:46:56.467Z"
   },
   {
    "duration": 408,
    "start_time": "2024-10-10T11:47:24.655Z"
   },
   {
    "duration": 404,
    "start_time": "2024-10-10T11:52:11.504Z"
   },
   {
    "duration": 405,
    "start_time": "2024-10-10T11:54:02.671Z"
   },
   {
    "duration": 465,
    "start_time": "2024-10-10T11:54:38.502Z"
   },
   {
    "duration": 396,
    "start_time": "2024-10-10T11:55:11.270Z"
   },
   {
    "duration": 333,
    "start_time": "2024-10-10T11:57:43.175Z"
   },
   {
    "duration": 318,
    "start_time": "2024-10-10T11:57:55.700Z"
   },
   {
    "duration": 156,
    "start_time": "2024-10-10T12:47:45.284Z"
   },
   {
    "duration": 2522,
    "start_time": "2024-10-10T12:47:53.876Z"
   },
   {
    "duration": 4,
    "start_time": "2024-10-10T12:47:56.400Z"
   },
   {
    "duration": 15,
    "start_time": "2024-10-10T12:47:56.405Z"
   },
   {
    "duration": 12,
    "start_time": "2024-10-10T12:47:56.422Z"
   },
   {
    "duration": 15,
    "start_time": "2024-10-10T12:47:56.436Z"
   },
   {
    "duration": 13,
    "start_time": "2024-10-10T12:47:56.452Z"
   },
   {
    "duration": 351,
    "start_time": "2024-10-10T12:47:56.467Z"
   },
   {
    "duration": 10,
    "start_time": "2024-10-10T12:47:56.824Z"
   },
   {
    "duration": 349,
    "start_time": "2024-10-10T12:47:56.835Z"
   },
   {
    "duration": 25,
    "start_time": "2024-10-10T12:47:57.186Z"
   },
   {
    "duration": 982,
    "start_time": "2024-10-10T12:47:57.213Z"
   },
   {
    "duration": 11,
    "start_time": "2024-10-10T12:47:58.197Z"
   },
   {
    "duration": 454,
    "start_time": "2024-10-10T12:47:58.211Z"
   },
   {
    "duration": 6,
    "start_time": "2024-10-10T12:47:58.668Z"
   },
   {
    "duration": 0,
    "start_time": "2024-10-10T12:47:58.675Z"
   },
   {
    "duration": 0,
    "start_time": "2024-10-10T12:47:58.676Z"
   },
   {
    "duration": 0,
    "start_time": "2024-10-10T12:47:58.678Z"
   },
   {
    "duration": 0,
    "start_time": "2024-10-10T12:47:58.679Z"
   },
   {
    "duration": 0,
    "start_time": "2024-10-10T12:47:58.681Z"
   },
   {
    "duration": 0,
    "start_time": "2024-10-10T12:47:58.682Z"
   },
   {
    "duration": 0,
    "start_time": "2024-10-10T12:47:58.684Z"
   },
   {
    "duration": 0,
    "start_time": "2024-10-10T12:47:58.685Z"
   },
   {
    "duration": 0,
    "start_time": "2024-10-10T12:47:58.687Z"
   },
   {
    "duration": 241,
    "start_time": "2024-10-10T12:48:29.087Z"
   },
   {
    "duration": 26,
    "start_time": "2024-10-10T12:56:20.541Z"
   },
   {
    "duration": 25,
    "start_time": "2024-10-10T12:59:21.197Z"
   },
   {
    "duration": 231,
    "start_time": "2024-10-10T13:02:49.778Z"
   },
   {
    "duration": 5,
    "start_time": "2024-10-10T13:04:33.022Z"
   },
   {
    "duration": 30,
    "start_time": "2024-10-10T13:04:43.415Z"
   },
   {
    "duration": 21,
    "start_time": "2024-10-10T13:05:03.572Z"
   },
   {
    "duration": 29,
    "start_time": "2024-10-10T13:05:54.990Z"
   },
   {
    "duration": 24,
    "start_time": "2024-10-10T13:15:05.075Z"
   },
   {
    "duration": 37,
    "start_time": "2024-10-10T13:16:44.168Z"
   },
   {
    "duration": 24,
    "start_time": "2024-10-10T13:16:59.086Z"
   },
   {
    "duration": 36,
    "start_time": "2024-10-10T13:20:12.554Z"
   },
   {
    "duration": 41,
    "start_time": "2024-10-10T13:23:41.813Z"
   },
   {
    "duration": 40,
    "start_time": "2024-10-10T13:25:03.865Z"
   },
   {
    "duration": 418,
    "start_time": "2024-10-10T13:27:04.108Z"
   },
   {
    "duration": 32,
    "start_time": "2024-10-10T13:28:03.286Z"
   },
   {
    "duration": 941,
    "start_time": "2024-10-10T14:00:12.328Z"
   },
   {
    "duration": 249,
    "start_time": "2024-10-10T14:01:28.013Z"
   },
   {
    "duration": 357,
    "start_time": "2024-10-10T14:01:32.746Z"
   },
   {
    "duration": 34,
    "start_time": "2024-10-10T14:22:07.372Z"
   },
   {
    "duration": 31,
    "start_time": "2024-10-10T14:22:58.436Z"
   },
   {
    "duration": 12,
    "start_time": "2024-10-10T14:37:11.639Z"
   },
   {
    "duration": 507,
    "start_time": "2024-10-10T14:38:15.684Z"
   },
   {
    "duration": 535,
    "start_time": "2024-10-10T14:38:25.716Z"
   },
   {
    "duration": 542,
    "start_time": "2024-10-10T14:44:32.877Z"
   },
   {
    "duration": 343,
    "start_time": "2024-10-10T14:45:11.211Z"
   },
   {
    "duration": 181,
    "start_time": "2024-10-10T14:46:49.470Z"
   },
   {
    "duration": 281,
    "start_time": "2024-10-10T14:56:45.910Z"
   },
   {
    "duration": 177,
    "start_time": "2024-10-10T14:57:31.823Z"
   },
   {
    "duration": 178,
    "start_time": "2024-10-10T14:57:50.050Z"
   },
   {
    "duration": 179,
    "start_time": "2024-10-10T14:57:58.507Z"
   },
   {
    "duration": 181,
    "start_time": "2024-10-10T14:58:49.465Z"
   },
   {
    "duration": 579,
    "start_time": "2024-10-10T14:59:18.764Z"
   },
   {
    "duration": 187,
    "start_time": "2024-10-10T14:59:57.860Z"
   },
   {
    "duration": 178,
    "start_time": "2024-10-10T15:00:26.873Z"
   },
   {
    "duration": 184,
    "start_time": "2024-10-10T15:00:45.241Z"
   },
   {
    "duration": 183,
    "start_time": "2024-10-10T15:01:24.128Z"
   },
   {
    "duration": 368,
    "start_time": "2024-10-10T15:05:13.138Z"
   },
   {
    "duration": 369,
    "start_time": "2024-10-10T15:06:23.639Z"
   },
   {
    "duration": 346,
    "start_time": "2024-10-10T15:06:49.956Z"
   },
   {
    "duration": 470,
    "start_time": "2024-10-10T15:07:11.189Z"
   },
   {
    "duration": 352,
    "start_time": "2024-10-10T15:07:45.556Z"
   },
   {
    "duration": 225,
    "start_time": "2024-10-10T15:08:36.589Z"
   },
   {
    "duration": 383,
    "start_time": "2024-10-10T15:09:38.012Z"
   },
   {
    "duration": 350,
    "start_time": "2024-10-10T15:09:50.091Z"
   },
   {
    "duration": 257,
    "start_time": "2024-10-10T15:12:23.833Z"
   },
   {
    "duration": 2662,
    "start_time": "2024-10-10T19:22:55.551Z"
   },
   {
    "duration": 4,
    "start_time": "2024-10-10T19:22:58.215Z"
   },
   {
    "duration": 15,
    "start_time": "2024-10-10T19:22:58.221Z"
   },
   {
    "duration": 13,
    "start_time": "2024-10-10T19:22:58.238Z"
   },
   {
    "duration": 16,
    "start_time": "2024-10-10T19:22:58.254Z"
   },
   {
    "duration": 46,
    "start_time": "2024-10-10T19:22:58.272Z"
   },
   {
    "duration": 316,
    "start_time": "2024-10-10T19:22:58.320Z"
   },
   {
    "duration": 12,
    "start_time": "2024-10-10T19:22:58.638Z"
   },
   {
    "duration": 389,
    "start_time": "2024-10-10T19:22:58.651Z"
   },
   {
    "duration": 32,
    "start_time": "2024-10-10T19:22:59.042Z"
   },
   {
    "duration": 971,
    "start_time": "2024-10-10T19:22:59.077Z"
   },
   {
    "duration": 13,
    "start_time": "2024-10-10T19:23:00.051Z"
   },
   {
    "duration": 376,
    "start_time": "2024-10-10T19:23:00.065Z"
   },
   {
    "duration": 193,
    "start_time": "2024-10-10T19:23:00.444Z"
   },
   {
    "duration": 232,
    "start_time": "2024-10-10T19:23:00.640Z"
   },
   {
    "duration": 3,
    "start_time": "2024-10-10T19:23:00.874Z"
   },
   {
    "duration": 3,
    "start_time": "2024-10-10T19:23:00.878Z"
   },
   {
    "duration": 39,
    "start_time": "2024-10-10T19:23:00.883Z"
   },
   {
    "duration": 18,
    "start_time": "2024-10-10T19:23:00.924Z"
   },
   {
    "duration": 17,
    "start_time": "2024-10-10T19:23:00.944Z"
   },
   {
    "duration": 9,
    "start_time": "2024-10-10T19:23:00.962Z"
   },
   {
    "duration": 39,
    "start_time": "2024-10-10T19:23:00.973Z"
   },
   {
    "duration": 253,
    "start_time": "2024-10-10T19:27:51.813Z"
   },
   {
    "duration": 513,
    "start_time": "2024-10-10T19:28:42.533Z"
   },
   {
    "duration": 354,
    "start_time": "2024-10-10T19:33:06.443Z"
   },
   {
    "duration": 293,
    "start_time": "2024-10-10T19:34:05.032Z"
   },
   {
    "duration": 7,
    "start_time": "2024-10-10T19:34:54.160Z"
   },
   {
    "duration": 15,
    "start_time": "2024-10-10T19:39:10.940Z"
   },
   {
    "duration": 16,
    "start_time": "2024-10-10T19:41:49.008Z"
   },
   {
    "duration": 31,
    "start_time": "2024-10-10T19:43:41.957Z"
   },
   {
    "duration": 258,
    "start_time": "2024-10-10T19:43:54.734Z"
   },
   {
    "duration": 19,
    "start_time": "2024-10-10T19:47:16.747Z"
   },
   {
    "duration": 18,
    "start_time": "2024-10-10T19:48:49.195Z"
   },
   {
    "duration": 37,
    "start_time": "2024-10-10T19:59:30.386Z"
   },
   {
    "duration": 5,
    "start_time": "2024-10-10T19:59:30.426Z"
   },
   {
    "duration": 15,
    "start_time": "2024-10-10T19:59:30.433Z"
   },
   {
    "duration": 14,
    "start_time": "2024-10-10T19:59:30.449Z"
   },
   {
    "duration": 18,
    "start_time": "2024-10-10T19:59:30.466Z"
   },
   {
    "duration": 40,
    "start_time": "2024-10-10T19:59:30.486Z"
   },
   {
    "duration": 406,
    "start_time": "2024-10-10T19:59:30.528Z"
   },
   {
    "duration": 17,
    "start_time": "2024-10-10T19:59:30.937Z"
   },
   {
    "duration": 400,
    "start_time": "2024-10-10T19:59:30.956Z"
   },
   {
    "duration": 152,
    "start_time": "2024-10-10T20:08:04.724Z"
   },
   {
    "duration": 274,
    "start_time": "2024-10-10T20:08:18.295Z"
   },
   {
    "duration": 491,
    "start_time": "2024-10-10T20:10:56.458Z"
   },
   {
    "duration": 898,
    "start_time": "2024-10-10T20:13:40.037Z"
   },
   {
    "duration": 3,
    "start_time": "2024-10-10T20:13:40.938Z"
   },
   {
    "duration": 15,
    "start_time": "2024-10-10T20:13:40.943Z"
   },
   {
    "duration": 14,
    "start_time": "2024-10-10T20:13:40.960Z"
   },
   {
    "duration": 42,
    "start_time": "2024-10-10T20:13:40.977Z"
   },
   {
    "duration": 14,
    "start_time": "2024-10-10T20:13:41.021Z"
   },
   {
    "duration": 277,
    "start_time": "2024-10-10T20:13:41.037Z"
   },
   {
    "duration": 11,
    "start_time": "2024-10-10T20:13:41.317Z"
   },
   {
    "duration": 410,
    "start_time": "2024-10-10T20:13:41.330Z"
   },
   {
    "duration": 252,
    "start_time": "2024-10-10T20:13:41.742Z"
   },
   {
    "duration": 0,
    "start_time": "2024-10-10T20:13:41.997Z"
   },
   {
    "duration": 0,
    "start_time": "2024-10-10T20:13:41.998Z"
   },
   {
    "duration": 0,
    "start_time": "2024-10-10T20:13:42.011Z"
   },
   {
    "duration": 0,
    "start_time": "2024-10-10T20:13:42.013Z"
   },
   {
    "duration": 0,
    "start_time": "2024-10-10T20:13:42.013Z"
   },
   {
    "duration": 0,
    "start_time": "2024-10-10T20:13:42.016Z"
   },
   {
    "duration": 0,
    "start_time": "2024-10-10T20:13:42.017Z"
   },
   {
    "duration": 0,
    "start_time": "2024-10-10T20:13:42.018Z"
   },
   {
    "duration": 0,
    "start_time": "2024-10-10T20:13:42.019Z"
   },
   {
    "duration": 0,
    "start_time": "2024-10-10T20:13:42.020Z"
   },
   {
    "duration": 0,
    "start_time": "2024-10-10T20:13:42.021Z"
   },
   {
    "duration": 0,
    "start_time": "2024-10-10T20:13:42.022Z"
   },
   {
    "duration": 0,
    "start_time": "2024-10-10T20:13:42.023Z"
   },
   {
    "duration": 33,
    "start_time": "2024-10-10T20:16:05.738Z"
   },
   {
    "duration": 919,
    "start_time": "2024-10-10T20:16:12.715Z"
   },
   {
    "duration": 3,
    "start_time": "2024-10-10T20:16:13.637Z"
   },
   {
    "duration": 14,
    "start_time": "2024-10-10T20:16:13.642Z"
   },
   {
    "duration": 12,
    "start_time": "2024-10-10T20:16:13.658Z"
   },
   {
    "duration": 16,
    "start_time": "2024-10-10T20:16:13.673Z"
   },
   {
    "duration": 14,
    "start_time": "2024-10-10T20:16:13.712Z"
   },
   {
    "duration": 276,
    "start_time": "2024-10-10T20:16:13.728Z"
   },
   {
    "duration": 15,
    "start_time": "2024-10-10T20:16:14.006Z"
   },
   {
    "duration": 417,
    "start_time": "2024-10-10T20:16:14.023Z"
   },
   {
    "duration": 34,
    "start_time": "2024-10-10T20:16:14.442Z"
   },
   {
    "duration": 900,
    "start_time": "2024-10-10T20:16:14.478Z"
   },
   {
    "duration": 12,
    "start_time": "2024-10-10T20:16:15.380Z"
   },
   {
    "duration": 395,
    "start_time": "2024-10-10T20:16:15.394Z"
   },
   {
    "duration": 201,
    "start_time": "2024-10-10T20:16:15.793Z"
   },
   {
    "duration": 482,
    "start_time": "2024-10-10T20:16:15.996Z"
   },
   {
    "duration": 590,
    "start_time": "2024-10-10T20:16:16.480Z"
   },
   {
    "duration": 5,
    "start_time": "2024-10-10T20:16:17.072Z"
   },
   {
    "duration": 0,
    "start_time": "2024-10-10T20:16:17.079Z"
   },
   {
    "duration": 0,
    "start_time": "2024-10-10T20:16:17.080Z"
   },
   {
    "duration": 0,
    "start_time": "2024-10-10T20:16:17.082Z"
   },
   {
    "duration": 0,
    "start_time": "2024-10-10T20:16:17.083Z"
   },
   {
    "duration": 0,
    "start_time": "2024-10-10T20:16:17.084Z"
   },
   {
    "duration": 0,
    "start_time": "2024-10-10T20:16:17.085Z"
   },
   {
    "duration": 908,
    "start_time": "2024-10-10T20:17:09.537Z"
   },
   {
    "duration": 3,
    "start_time": "2024-10-10T20:17:10.447Z"
   },
   {
    "duration": 14,
    "start_time": "2024-10-10T20:17:10.452Z"
   },
   {
    "duration": 12,
    "start_time": "2024-10-10T20:17:10.468Z"
   },
   {
    "duration": 39,
    "start_time": "2024-10-10T20:17:10.482Z"
   },
   {
    "duration": 13,
    "start_time": "2024-10-10T20:17:10.523Z"
   },
   {
    "duration": 286,
    "start_time": "2024-10-10T20:17:10.538Z"
   },
   {
    "duration": 10,
    "start_time": "2024-10-10T20:17:10.827Z"
   },
   {
    "duration": 397,
    "start_time": "2024-10-10T20:17:10.839Z"
   },
   {
    "duration": 35,
    "start_time": "2024-10-10T20:17:11.238Z"
   },
   {
    "duration": 898,
    "start_time": "2024-10-10T20:17:11.276Z"
   },
   {
    "duration": 12,
    "start_time": "2024-10-10T20:17:12.176Z"
   },
   {
    "duration": 395,
    "start_time": "2024-10-10T20:17:12.190Z"
   },
   {
    "duration": 204,
    "start_time": "2024-10-10T20:17:12.588Z"
   },
   {
    "duration": 490,
    "start_time": "2024-10-10T20:17:12.794Z"
   },
   {
    "duration": 585,
    "start_time": "2024-10-10T20:17:13.286Z"
   },
   {
    "duration": 4,
    "start_time": "2024-10-10T20:17:13.873Z"
   },
   {
    "duration": 0,
    "start_time": "2024-10-10T20:17:13.879Z"
   },
   {
    "duration": 0,
    "start_time": "2024-10-10T20:17:13.880Z"
   },
   {
    "duration": 0,
    "start_time": "2024-10-10T20:17:13.881Z"
   },
   {
    "duration": 0,
    "start_time": "2024-10-10T20:17:13.882Z"
   },
   {
    "duration": 0,
    "start_time": "2024-10-10T20:17:13.884Z"
   },
   {
    "duration": 0,
    "start_time": "2024-10-10T20:17:13.912Z"
   },
   {
    "duration": 940,
    "start_time": "2024-10-10T20:18:25.825Z"
   },
   {
    "duration": 4,
    "start_time": "2024-10-10T20:18:26.767Z"
   },
   {
    "duration": 24,
    "start_time": "2024-10-10T20:18:26.776Z"
   },
   {
    "duration": 23,
    "start_time": "2024-10-10T20:18:26.803Z"
   },
   {
    "duration": 23,
    "start_time": "2024-10-10T20:18:26.830Z"
   },
   {
    "duration": 20,
    "start_time": "2024-10-10T20:18:26.855Z"
   },
   {
    "duration": 309,
    "start_time": "2024-10-10T20:18:26.877Z"
   },
   {
    "duration": 24,
    "start_time": "2024-10-10T20:18:27.188Z"
   },
   {
    "duration": 438,
    "start_time": "2024-10-10T20:18:27.214Z"
   },
   {
    "duration": 61,
    "start_time": "2024-10-10T20:18:27.659Z"
   },
   {
    "duration": 929,
    "start_time": "2024-10-10T20:18:27.722Z"
   },
   {
    "duration": 15,
    "start_time": "2024-10-10T20:18:28.654Z"
   },
   {
    "duration": 455,
    "start_time": "2024-10-10T20:18:28.671Z"
   },
   {
    "duration": 203,
    "start_time": "2024-10-10T20:18:29.128Z"
   },
   {
    "duration": 453,
    "start_time": "2024-10-10T20:18:29.334Z"
   },
   {
    "duration": 657,
    "start_time": "2024-10-10T20:18:29.811Z"
   },
   {
    "duration": 4,
    "start_time": "2024-10-10T20:18:30.471Z"
   },
   {
    "duration": 0,
    "start_time": "2024-10-10T20:18:30.477Z"
   },
   {
    "duration": 0,
    "start_time": "2024-10-10T20:18:30.478Z"
   },
   {
    "duration": 0,
    "start_time": "2024-10-10T20:18:30.480Z"
   },
   {
    "duration": 0,
    "start_time": "2024-10-10T20:18:30.481Z"
   },
   {
    "duration": 0,
    "start_time": "2024-10-10T20:18:30.482Z"
   },
   {
    "duration": 0,
    "start_time": "2024-10-10T20:18:30.483Z"
   },
   {
    "duration": 8,
    "start_time": "2024-10-10T20:20:23.633Z"
   },
   {
    "duration": 11,
    "start_time": "2024-10-10T20:21:29.681Z"
   },
   {
    "duration": 36,
    "start_time": "2024-10-10T20:22:17.269Z"
   },
   {
    "duration": 4,
    "start_time": "2024-10-10T20:22:17.307Z"
   },
   {
    "duration": 14,
    "start_time": "2024-10-10T20:22:17.313Z"
   },
   {
    "duration": 12,
    "start_time": "2024-10-10T20:22:17.329Z"
   },
   {
    "duration": 18,
    "start_time": "2024-10-10T20:22:17.343Z"
   },
   {
    "duration": 12,
    "start_time": "2024-10-10T20:22:17.362Z"
   },
   {
    "duration": 280,
    "start_time": "2024-10-10T20:22:17.376Z"
   },
   {
    "duration": 11,
    "start_time": "2024-10-10T20:22:17.658Z"
   },
   {
    "duration": 350,
    "start_time": "2024-10-10T20:22:17.671Z"
   },
   {
    "duration": 38,
    "start_time": "2024-10-10T20:22:18.027Z"
   },
   {
    "duration": 936,
    "start_time": "2024-10-10T20:22:18.067Z"
   },
   {
    "duration": 18,
    "start_time": "2024-10-10T20:22:19.005Z"
   },
   {
    "duration": 405,
    "start_time": "2024-10-10T20:22:19.024Z"
   },
   {
    "duration": 191,
    "start_time": "2024-10-10T20:22:19.431Z"
   },
   {
    "duration": 589,
    "start_time": "2024-10-10T20:22:19.624Z"
   },
   {
    "duration": 10,
    "start_time": "2024-10-10T20:22:20.215Z"
   },
   {
    "duration": 18,
    "start_time": "2024-10-10T20:22:57.356Z"
   },
   {
    "duration": 902,
    "start_time": "2024-10-10T20:24:07.264Z"
   },
   {
    "duration": 3,
    "start_time": "2024-10-10T20:24:08.169Z"
   },
   {
    "duration": 16,
    "start_time": "2024-10-10T20:24:08.174Z"
   },
   {
    "duration": 28,
    "start_time": "2024-10-10T20:24:08.193Z"
   },
   {
    "duration": 17,
    "start_time": "2024-10-10T20:24:08.222Z"
   },
   {
    "duration": 14,
    "start_time": "2024-10-10T20:24:08.240Z"
   },
   {
    "duration": 288,
    "start_time": "2024-10-10T20:24:08.256Z"
   },
   {
    "duration": 12,
    "start_time": "2024-10-10T20:24:08.546Z"
   },
   {
    "duration": 397,
    "start_time": "2024-10-10T20:24:08.559Z"
   },
   {
    "duration": 33,
    "start_time": "2024-10-10T20:24:08.960Z"
   },
   {
    "duration": 919,
    "start_time": "2024-10-10T20:24:08.994Z"
   },
   {
    "duration": 12,
    "start_time": "2024-10-10T20:24:09.915Z"
   },
   {
    "duration": 410,
    "start_time": "2024-10-10T20:24:09.929Z"
   },
   {
    "duration": 197,
    "start_time": "2024-10-10T20:24:10.341Z"
   },
   {
    "duration": 435,
    "start_time": "2024-10-10T20:24:10.540Z"
   },
   {
    "duration": 9,
    "start_time": "2024-10-10T20:24:10.977Z"
   },
   {
    "duration": 40,
    "start_time": "2024-10-10T20:24:10.988Z"
   },
   {
    "duration": 17,
    "start_time": "2024-10-10T20:24:11.030Z"
   },
   {
    "duration": 15,
    "start_time": "2024-10-10T20:24:11.048Z"
   },
   {
    "duration": 16,
    "start_time": "2024-10-10T20:24:11.064Z"
   },
   {
    "duration": 10,
    "start_time": "2024-10-10T20:24:11.111Z"
   },
   {
    "duration": 10,
    "start_time": "2024-10-10T20:24:11.123Z"
   },
   {
    "duration": 2607,
    "start_time": "2024-10-11T02:57:58.013Z"
   },
   {
    "duration": 4,
    "start_time": "2024-10-11T02:58:01.373Z"
   },
   {
    "duration": 14,
    "start_time": "2024-10-11T02:58:01.915Z"
   },
   {
    "duration": 15,
    "start_time": "2024-10-11T02:58:02.695Z"
   },
   {
    "duration": 17,
    "start_time": "2024-10-11T02:58:03.369Z"
   },
   {
    "duration": 14,
    "start_time": "2024-10-11T02:58:03.886Z"
   },
   {
    "duration": 266,
    "start_time": "2024-10-11T02:58:06.141Z"
   },
   {
    "duration": 10,
    "start_time": "2024-10-11T02:58:07.466Z"
   },
   {
    "duration": 343,
    "start_time": "2024-10-11T02:58:08.259Z"
   },
   {
    "duration": 32,
    "start_time": "2024-10-11T02:58:09.638Z"
   },
   {
    "duration": 908,
    "start_time": "2024-10-11T02:58:11.329Z"
   },
   {
    "duration": 12,
    "start_time": "2024-10-11T02:58:13.325Z"
   },
   {
    "duration": 385,
    "start_time": "2024-10-11T02:58:13.873Z"
   },
   {
    "duration": 182,
    "start_time": "2024-10-11T02:58:15.537Z"
   },
   {
    "duration": 480,
    "start_time": "2024-10-11T02:58:17.052Z"
   },
   {
    "duration": 9,
    "start_time": "2024-10-11T02:58:18.358Z"
   },
   {
    "duration": 18,
    "start_time": "2024-10-11T02:58:20.300Z"
   },
   {
    "duration": 16,
    "start_time": "2024-10-11T02:58:21.801Z"
   },
   {
    "duration": 16,
    "start_time": "2024-10-11T02:58:22.773Z"
   },
   {
    "duration": 17,
    "start_time": "2024-10-11T02:58:23.539Z"
   },
   {
    "duration": 10,
    "start_time": "2024-10-11T02:58:45.156Z"
   },
   {
    "duration": 10,
    "start_time": "2024-10-11T02:58:56.670Z"
   },
   {
    "duration": 179,
    "start_time": "2024-10-11T03:21:29.783Z"
   },
   {
    "duration": 24,
    "start_time": "2024-10-11T03:22:14.928Z"
   },
   {
    "duration": 208,
    "start_time": "2024-10-11T03:23:41.807Z"
   },
   {
    "duration": 16,
    "start_time": "2024-10-11T03:26:27.082Z"
   },
   {
    "duration": 2574,
    "start_time": "2024-10-11T22:04:17.991Z"
   },
   {
    "duration": 4,
    "start_time": "2024-10-11T22:04:20.567Z"
   },
   {
    "duration": 13,
    "start_time": "2024-10-11T22:04:20.572Z"
   },
   {
    "duration": 18,
    "start_time": "2024-10-11T22:04:20.588Z"
   },
   {
    "duration": 22,
    "start_time": "2024-10-11T22:04:20.609Z"
   },
   {
    "duration": 14,
    "start_time": "2024-10-11T22:04:20.633Z"
   },
   {
    "duration": 280,
    "start_time": "2024-10-11T22:04:20.649Z"
   },
   {
    "duration": 10,
    "start_time": "2024-10-11T22:04:20.931Z"
   },
   {
    "duration": 389,
    "start_time": "2024-10-11T22:04:20.942Z"
   },
   {
    "duration": 34,
    "start_time": "2024-10-11T22:04:21.333Z"
   },
   {
    "duration": 875,
    "start_time": "2024-10-11T22:04:21.368Z"
   },
   {
    "duration": 200,
    "start_time": "2024-10-11T22:04:22.245Z"
   },
   {
    "duration": 12,
    "start_time": "2024-10-11T22:04:22.446Z"
   },
   {
    "duration": 440,
    "start_time": "2024-10-11T22:04:22.462Z"
   },
   {
    "duration": 200,
    "start_time": "2024-10-11T22:04:22.904Z"
   },
   {
    "duration": 494,
    "start_time": "2024-10-11T22:04:23.106Z"
   },
   {
    "duration": 9,
    "start_time": "2024-10-11T22:04:23.602Z"
   },
   {
    "duration": 17,
    "start_time": "2024-10-11T22:04:23.614Z"
   },
   {
    "duration": 16,
    "start_time": "2024-10-11T22:04:23.633Z"
   },
   {
    "duration": 45,
    "start_time": "2024-10-11T22:04:23.650Z"
   },
   {
    "duration": 16,
    "start_time": "2024-10-11T22:04:23.697Z"
   },
   {
    "duration": 9,
    "start_time": "2024-10-11T22:04:23.714Z"
   },
   {
    "duration": 9,
    "start_time": "2024-10-11T22:04:23.724Z"
   },
   {
    "duration": 15,
    "start_time": "2024-10-11T22:04:55.573Z"
   }
  ],
  "kernelspec": {
   "display_name": "Python 3 (ipykernel)",
   "language": "python",
   "name": "python3"
  },
  "language_info": {
   "codemirror_mode": {
    "name": "ipython",
    "version": 3
   },
   "file_extension": ".py",
   "mimetype": "text/x-python",
   "name": "python",
   "nbconvert_exporter": "python",
   "pygments_lexer": "ipython3",
   "version": "3.9.19"
  },
  "toc": {
   "base_numbering": 1,
   "nav_menu": {},
   "number_sections": true,
   "sideBar": true,
   "skip_h1_title": true,
   "title_cell": "Table of Contents",
   "title_sidebar": "Contents",
   "toc_cell": false,
   "toc_position": {},
   "toc_section_display": true,
   "toc_window_display": false
  }
 },
 "nbformat": 4,
 "nbformat_minor": 2
}
