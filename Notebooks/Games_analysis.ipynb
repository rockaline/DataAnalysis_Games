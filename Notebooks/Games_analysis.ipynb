{
 "cells": [
  {
   "cell_type": "markdown",
   "metadata": {},
   "source": [
    "# Data Analysis of Games"
   ]
  },
  {
   "cell_type": "markdown",
   "metadata": {},
   "source": [
    "## Importing libraries, reading dataframe and data overview"
   ]
  },
  {
   "cell_type": "code",
   "execution_count": 1143,
   "metadata": {},
   "outputs": [
    {
     "name": "stdout",
     "output_type": "stream",
     "text": [
      "                        Name Platform  Year_of_Release         Genre  \\\n",
      "0                 Wii Sports      Wii           2006.0        Sports   \n",
      "1          Super Mario Bros.      NES           1985.0      Platform   \n",
      "2             Mario Kart Wii      Wii           2008.0        Racing   \n",
      "3          Wii Sports Resort      Wii           2009.0        Sports   \n",
      "4   Pokemon Red/Pokemon Blue       GB           1996.0  Role-Playing   \n",
      "5                     Tetris       GB           1989.0        Puzzle   \n",
      "6      New Super Mario Bros.       DS           2006.0      Platform   \n",
      "7                   Wii Play      Wii           2006.0          Misc   \n",
      "8  New Super Mario Bros. Wii      Wii           2009.0      Platform   \n",
      "9                  Duck Hunt      NES           1984.0       Shooter   \n",
      "\n",
      "   NA_sales  EU_sales  JP_sales  Other_sales  Critic_Score User_Score Rating  \n",
      "0     41.36     28.96      3.77         8.45          76.0          8      E  \n",
      "1     29.08      3.58      6.81         0.77           NaN        NaN    NaN  \n",
      "2     15.68     12.76      3.79         3.29          82.0        8.3      E  \n",
      "3     15.61     10.93      3.28         2.95          80.0          8      E  \n",
      "4     11.27      8.89     10.22         1.00           NaN        NaN    NaN  \n",
      "5     23.20      2.26      4.22         0.58           NaN        NaN    NaN  \n",
      "6     11.28      9.14      6.50         2.88          89.0        8.5      E  \n",
      "7     13.96      9.18      2.93         2.84          58.0        6.6      E  \n",
      "8     14.44      6.94      4.70         2.24          87.0        8.4      E  \n",
      "9     26.93      0.63      0.28         0.47           NaN        NaN    NaN  \n",
      "<class 'pandas.core.frame.DataFrame'>\n",
      "RangeIndex: 16715 entries, 0 to 16714\n",
      "Data columns (total 11 columns):\n",
      " #   Column           Non-Null Count  Dtype  \n",
      "---  ------           --------------  -----  \n",
      " 0   Name             16713 non-null  object \n",
      " 1   Platform         16715 non-null  object \n",
      " 2   Year_of_Release  16446 non-null  float64\n",
      " 3   Genre            16713 non-null  object \n",
      " 4   NA_sales         16715 non-null  float64\n",
      " 5   EU_sales         16715 non-null  float64\n",
      " 6   JP_sales         16715 non-null  float64\n",
      " 7   Other_sales      16715 non-null  float64\n",
      " 8   Critic_Score     8137 non-null   float64\n",
      " 9   User_Score       10014 non-null  object \n",
      " 10  Rating           9949 non-null   object \n",
      "dtypes: float64(6), object(5)\n",
      "memory usage: 1.4+ MB\n"
     ]
    }
   ],
   "source": [
    "# Importing libraries\n",
    "import pandas as pd\n",
    "import numpy as np\n",
    "import matplotlib.pyplot as plt\n",
    "import seaborn as sns\n",
    "import plotly.express as px\n",
    "from scipy import stats as st\n",
    "\n",
    "# Reading dataframe\n",
    "df = pd.read_csv('../games.csv')\n",
    "\n",
    "# Data overview\n",
    "print(df.head(10))\n",
    "df.info()"
   ]
  },
  {
   "cell_type": "markdown",
   "metadata": {},
   "source": [
    "## Preparing dataframe"
   ]
  },
  {
   "cell_type": "markdown",
   "metadata": {},
   "source": [
    "### Format column headings to lowercase letters"
   ]
  },
  {
   "cell_type": "code",
   "execution_count": 1144,
   "metadata": {},
   "outputs": [
    {
     "name": "stdout",
     "output_type": "stream",
     "text": [
      "Index(['name', 'platform', 'year_of_release', 'genre', 'na_sales', 'eu_sales',\n",
      "       'jp_sales', 'other_sales', 'critic_score', 'user_score', 'rating'],\n",
      "      dtype='object')\n"
     ]
    }
   ],
   "source": [
    "df.columns = (\n",
    " df.columns\n",
    " .str\n",
    " .lower()\n",
    ")\n",
    "\n",
    "print (df.columns)"
   ]
  },
  {
   "cell_type": "markdown",
   "metadata": {},
   "source": [
    "### Changing data types stored in 'year_of_release' column to integer"
   ]
  },
  {
   "cell_type": "code",
   "execution_count": 1145,
   "metadata": {},
   "outputs": [
    {
     "name": "stdout",
     "output_type": "stream",
     "text": [
      "<class 'pandas.core.frame.DataFrame'>\n",
      "Index: 16446 entries, 0 to 16714\n",
      "Data columns (total 11 columns):\n",
      " #   Column           Non-Null Count  Dtype  \n",
      "---  ------           --------------  -----  \n",
      " 0   name             16444 non-null  object \n",
      " 1   platform         16446 non-null  object \n",
      " 2   year_of_release  16446 non-null  int64  \n",
      " 3   genre            16444 non-null  object \n",
      " 4   na_sales         16446 non-null  float64\n",
      " 5   eu_sales         16446 non-null  float64\n",
      " 6   jp_sales         16446 non-null  float64\n",
      " 7   other_sales      16446 non-null  float64\n",
      " 8   critic_score     7983 non-null   float64\n",
      " 9   user_score       9839 non-null   object \n",
      " 10  rating           9768 non-null   object \n",
      "dtypes: float64(5), int64(1), object(5)\n",
      "memory usage: 1.5+ MB\n"
     ]
    }
   ],
   "source": [
    "# Since there are empty values ​​in the column and the integer data type does not accept empty values ​​in the column, and since the sales analysis will be done based on years, the rows are deleted from the dataframe\n",
    "df = df.dropna(subset=['year_of_release'])\n",
    "\n",
    "# Then, the values are converted from float to int\n",
    "df['year_of_release'] = (\n",
    "  df['year_of_release']\n",
    "  .astype(int)\n",
    ")\n",
    "\n",
    "# Checking the result\n",
    "df.info()"
   ]
  },
  {
   "cell_type": "markdown",
   "metadata": {},
   "source": [
    "### Changing data types stored in 'user_score' to float"
   ]
  },
  {
   "cell_type": "code",
   "execution_count": 1146,
   "metadata": {},
   "outputs": [
    {
     "name": "stdout",
     "output_type": "stream",
     "text": [
      "                                 name platform  year_of_release       genre  \\\n",
      "119                     Zumba Fitness      Wii             2010      Sports   \n",
      "301    Namco Museum: 50th Anniversary      PS2             2005        Misc   \n",
      "520                   Zumba Fitness 2      Wii             2011      Sports   \n",
      "645                      uDraw Studio      Wii             2010        Misc   \n",
      "718                   Just Dance Kids      Wii             2010        Misc   \n",
      "...                               ...      ...              ...         ...   \n",
      "16695                 Planet Monsters      GBA             2001      Action   \n",
      "16697                Bust-A-Move 3000       GC             2003      Puzzle   \n",
      "16698                Mega Brain Boost       DS             2008      Puzzle   \n",
      "16704                        Plushees       DS             2008  Simulation   \n",
      "16706   Men in Black II: Alien Escape       GC             2003     Shooter   \n",
      "\n",
      "       na_sales  eu_sales  jp_sales  other_sales  critic_score user_score  \\\n",
      "119        3.45      2.59       0.0         0.66           NaN        tbd   \n",
      "301        2.08      1.35       0.0         0.54          61.0        tbd   \n",
      "520        1.51      1.03       0.0         0.27           NaN        tbd   \n",
      "645        1.65      0.57       0.0         0.20          71.0        tbd   \n",
      "718        1.52      0.54       0.0         0.18           NaN        tbd   \n",
      "...         ...       ...       ...          ...           ...        ...   \n",
      "16695      0.01      0.00       0.0         0.00          67.0        tbd   \n",
      "16697      0.01      0.00       0.0         0.00          53.0        tbd   \n",
      "16698      0.01      0.00       0.0         0.00          48.0        tbd   \n",
      "16704      0.01      0.00       0.0         0.00           NaN        tbd   \n",
      "16706      0.01      0.00       0.0         0.00           NaN        tbd   \n",
      "\n",
      "      rating  \n",
      "119        E  \n",
      "301     E10+  \n",
      "520        T  \n",
      "645        E  \n",
      "718        E  \n",
      "...      ...  \n",
      "16695      E  \n",
      "16697      E  \n",
      "16698      E  \n",
      "16704      E  \n",
      "16706      T  \n",
      "\n",
      "[2376 rows x 11 columns]\n",
      "<class 'pandas.core.frame.DataFrame'>\n",
      "Index: 16446 entries, 0 to 16714\n",
      "Data columns (total 11 columns):\n",
      " #   Column           Non-Null Count  Dtype  \n",
      "---  ------           --------------  -----  \n",
      " 0   name             16444 non-null  object \n",
      " 1   platform         16446 non-null  object \n",
      " 2   year_of_release  16446 non-null  int64  \n",
      " 3   genre            16444 non-null  object \n",
      " 4   na_sales         16446 non-null  float64\n",
      " 5   eu_sales         16446 non-null  float64\n",
      " 6   jp_sales         16446 non-null  float64\n",
      " 7   other_sales      16446 non-null  float64\n",
      " 8   critic_score     7983 non-null   float64\n",
      " 9   user_score       7463 non-null   float64\n",
      " 10  rating           9768 non-null   object \n",
      "dtypes: float64(6), int64(1), object(4)\n",
      "memory usage: 1.5+ MB\n"
     ]
    }
   ],
   "source": [
    "# Since 'user_score' contains 2376 'tbd' (to be determined) values, conversion is not possible directly\n",
    "tbdb = df[df['user_score'] == 'tbd'] \n",
    "print(tbdb)\n",
    "\n",
    "# To change the data types of the user_score column from object to float, first 'tbd' values ​​are replaced with NaN\n",
    "df['user_score'] = (\n",
    "  df['user_score']\n",
    "  .replace('tbd', np.nan)\n",
    ")\n",
    "\n",
    "# Then, the values are converted from object to float\n",
    "df['user_score'] = (\n",
    "  df['user_score']\n",
    "  .astype(float)\n",
    ")\n",
    "\n",
    "# Checking the result\n",
    "df.info()"
   ]
  },
  {
   "cell_type": "markdown",
   "metadata": {},
   "source": [
    "### Dealing with missing values ​​in 'name' column"
   ]
  },
  {
   "cell_type": "code",
   "execution_count": 1147,
   "metadata": {},
   "outputs": [
    {
     "name": "stdout",
     "output_type": "stream",
     "text": [
      "      name platform  year_of_release genre  na_sales  eu_sales  jp_sales  \\\n",
      "659    NaN      GEN             1993   NaN      1.78      0.53      0.00   \n",
      "14244  NaN      GEN             1993   NaN      0.00      0.00      0.03   \n",
      "\n",
      "       other_sales  critic_score  user_score rating  \n",
      "659           0.08           NaN         NaN    NaN  \n",
      "14244         0.00           NaN         NaN    NaN  \n",
      "<class 'pandas.core.frame.DataFrame'>\n",
      "Index: 16444 entries, 0 to 16714\n",
      "Data columns (total 11 columns):\n",
      " #   Column           Non-Null Count  Dtype  \n",
      "---  ------           --------------  -----  \n",
      " 0   name             16444 non-null  object \n",
      " 1   platform         16444 non-null  object \n",
      " 2   year_of_release  16444 non-null  int64  \n",
      " 3   genre            16444 non-null  object \n",
      " 4   na_sales         16444 non-null  float64\n",
      " 5   eu_sales         16444 non-null  float64\n",
      " 6   jp_sales         16444 non-null  float64\n",
      " 7   other_sales      16444 non-null  float64\n",
      " 8   critic_score     7983 non-null   float64\n",
      " 9   user_score       7463 non-null   float64\n",
      " 10  rating           9768 non-null   object \n",
      "dtypes: float64(6), int64(1), object(4)\n",
      "memory usage: 1.5+ MB\n"
     ]
    }
   ],
   "source": [
    "# Filter dataframe to show only rows with no data in 'name' column\n",
    "no_name = (\n",
    "  df[df['name']\n",
    "  .isna()]\n",
    ")\n",
    "print(no_name)\n",
    "\n",
    "# Delete the 2 rows from the dataframe with no data in the 'name' column, which are the same as the ones with no data in the 'genre' column\n",
    "df = df.dropna(subset=['name'])\n",
    "\n",
    "# Checking the result\n",
    "df.info()"
   ]
  },
  {
   "cell_type": "markdown",
   "metadata": {},
   "source": [
    "### Add column with total sales"
   ]
  },
  {
   "cell_type": "code",
   "execution_count": 1148,
   "metadata": {},
   "outputs": [
    {
     "data": {
      "text/html": [
       "<div>\n",
       "<style scoped>\n",
       "    .dataframe tbody tr th:only-of-type {\n",
       "        vertical-align: middle;\n",
       "    }\n",
       "\n",
       "    .dataframe tbody tr th {\n",
       "        vertical-align: top;\n",
       "    }\n",
       "\n",
       "    .dataframe thead th {\n",
       "        text-align: right;\n",
       "    }\n",
       "</style>\n",
       "<table border=\"1\" class=\"dataframe\">\n",
       "  <thead>\n",
       "    <tr style=\"text-align: right;\">\n",
       "      <th></th>\n",
       "      <th>name</th>\n",
       "      <th>platform</th>\n",
       "      <th>year_of_release</th>\n",
       "      <th>genre</th>\n",
       "      <th>na_sales</th>\n",
       "      <th>eu_sales</th>\n",
       "      <th>jp_sales</th>\n",
       "      <th>other_sales</th>\n",
       "      <th>critic_score</th>\n",
       "      <th>user_score</th>\n",
       "      <th>rating</th>\n",
       "      <th>total_sales</th>\n",
       "    </tr>\n",
       "  </thead>\n",
       "  <tbody>\n",
       "    <tr>\n",
       "      <th>0</th>\n",
       "      <td>Wii Sports</td>\n",
       "      <td>Wii</td>\n",
       "      <td>2006</td>\n",
       "      <td>Sports</td>\n",
       "      <td>41.36</td>\n",
       "      <td>28.96</td>\n",
       "      <td>3.77</td>\n",
       "      <td>8.45</td>\n",
       "      <td>76.0</td>\n",
       "      <td>8.0</td>\n",
       "      <td>E</td>\n",
       "      <td>82.54</td>\n",
       "    </tr>\n",
       "    <tr>\n",
       "      <th>1</th>\n",
       "      <td>Super Mario Bros.</td>\n",
       "      <td>NES</td>\n",
       "      <td>1985</td>\n",
       "      <td>Platform</td>\n",
       "      <td>29.08</td>\n",
       "      <td>3.58</td>\n",
       "      <td>6.81</td>\n",
       "      <td>0.77</td>\n",
       "      <td>NaN</td>\n",
       "      <td>NaN</td>\n",
       "      <td>NaN</td>\n",
       "      <td>40.24</td>\n",
       "    </tr>\n",
       "    <tr>\n",
       "      <th>2</th>\n",
       "      <td>Mario Kart Wii</td>\n",
       "      <td>Wii</td>\n",
       "      <td>2008</td>\n",
       "      <td>Racing</td>\n",
       "      <td>15.68</td>\n",
       "      <td>12.76</td>\n",
       "      <td>3.79</td>\n",
       "      <td>3.29</td>\n",
       "      <td>82.0</td>\n",
       "      <td>8.3</td>\n",
       "      <td>E</td>\n",
       "      <td>35.52</td>\n",
       "    </tr>\n",
       "    <tr>\n",
       "      <th>3</th>\n",
       "      <td>Wii Sports Resort</td>\n",
       "      <td>Wii</td>\n",
       "      <td>2009</td>\n",
       "      <td>Sports</td>\n",
       "      <td>15.61</td>\n",
       "      <td>10.93</td>\n",
       "      <td>3.28</td>\n",
       "      <td>2.95</td>\n",
       "      <td>80.0</td>\n",
       "      <td>8.0</td>\n",
       "      <td>E</td>\n",
       "      <td>32.77</td>\n",
       "    </tr>\n",
       "    <tr>\n",
       "      <th>4</th>\n",
       "      <td>Pokemon Red/Pokemon Blue</td>\n",
       "      <td>GB</td>\n",
       "      <td>1996</td>\n",
       "      <td>Role-Playing</td>\n",
       "      <td>11.27</td>\n",
       "      <td>8.89</td>\n",
       "      <td>10.22</td>\n",
       "      <td>1.00</td>\n",
       "      <td>NaN</td>\n",
       "      <td>NaN</td>\n",
       "      <td>NaN</td>\n",
       "      <td>31.38</td>\n",
       "    </tr>\n",
       "  </tbody>\n",
       "</table>\n",
       "</div>"
      ],
      "text/plain": [
       "                       name platform  year_of_release         genre  na_sales  \\\n",
       "0                Wii Sports      Wii             2006        Sports     41.36   \n",
       "1         Super Mario Bros.      NES             1985      Platform     29.08   \n",
       "2            Mario Kart Wii      Wii             2008        Racing     15.68   \n",
       "3         Wii Sports Resort      Wii             2009        Sports     15.61   \n",
       "4  Pokemon Red/Pokemon Blue       GB             1996  Role-Playing     11.27   \n",
       "\n",
       "   eu_sales  jp_sales  other_sales  critic_score  user_score rating  \\\n",
       "0     28.96      3.77         8.45          76.0         8.0      E   \n",
       "1      3.58      6.81         0.77           NaN         NaN    NaN   \n",
       "2     12.76      3.79         3.29          82.0         8.3      E   \n",
       "3     10.93      3.28         2.95          80.0         8.0      E   \n",
       "4      8.89     10.22         1.00           NaN         NaN    NaN   \n",
       "\n",
       "   total_sales  \n",
       "0        82.54  \n",
       "1        40.24  \n",
       "2        35.52  \n",
       "3        32.77  \n",
       "4        31.38  "
      ]
     },
     "execution_count": 1148,
     "metadata": {},
     "output_type": "execute_result"
    }
   ],
   "source": [
    "df['total_sales'] = (\n",
    "  df['na_sales'] \n",
    "  + df['eu_sales'] \n",
    "  + df['jp_sales']\n",
    "  + df['other_sales']\n",
    ")\n",
    "df.head()"
   ]
  },
  {
   "cell_type": "markdown",
   "metadata": {},
   "source": [
    "### Comments"
   ]
  },
  {
   "cell_type": "markdown",
   "metadata": {},
   "source": [
    "1. Rows with missing values ​​in the 'name', 'genre' and 'year_of_release' columns have been deleted. \n",
    "2. The 'year_of_release' and 'user_score' columns have been changed to integer and float, respectively.\n",
    "3. The last three columns ('critic_score', 'user_score' and 'rating') have empty cells, possibly because it was not mandatory to rate the games. Missing values ​​at those columns will be left empty, since they do not influence the analysis. \n",
    "4. The 'tbd' values ​​in the 'user_score' column have been deleted and left empty (Nan).\n",
    "5. A column with the sum of sales for each game has been added."
   ]
  },
  {
   "cell_type": "markdown",
   "metadata": {},
   "source": [
    "## Data Analysis"
   ]
  },
  {
   "cell_type": "markdown",
   "metadata": {},
   "source": [
    "### Number of games released per year"
   ]
  },
  {
   "cell_type": "code",
   "execution_count": 1149,
   "metadata": {
    "scrolled": true
   },
   "outputs": [
    {
     "data": {
      "image/png": "[encoded data removed]",
      "text/plain": [
       "<Figure size 1000x600 with 1 Axes>"
      ]
     },
     "metadata": {},
     "output_type": "display_data"
    }
   ],
   "source": [
    "# Games released per year\n",
    "games_releases_per_year = (\n",
    "  df['year_of_release']\n",
    "  .value_counts()\n",
    "  .sort_index()\n",
    ")\n",
    "\n",
    "# Creating a simple bar plot\n",
    "plt.figure(figsize=(10, 6))\n",
    "games_releases_per_year.plot(kind='bar', color='skyblue')\n",
    "\n",
    "# Adding title and labels to axes\n",
    "plt.title('Number of Games Released per Year', fontsize=16)\n",
    "plt.xlabel('Release Year', fontsize=12)\n",
    "plt.ylabel('Number of Games', fontsize=12)\n",
    "\n",
    "# Showing plot\n",
    "plt.show()"
   ]
  },
  {
   "cell_type": "markdown",
   "metadata": {},
   "source": [
    "### Comments\n",
    "The period between 2002 and 2011 was especially important in terms of the number of games released."
   ]
  },
  {
   "cell_type": "markdown",
   "metadata": {},
   "source": [
    "### Total sales per platform"
   ]
  },
  {
   "cell_type": "code",
   "execution_count": 1150,
   "metadata": {},
   "outputs": [
    {
     "data": {
      "text/html": [
       "<div>\n",
       "<style scoped>\n",
       "    .dataframe tbody tr th:only-of-type {\n",
       "        vertical-align: middle;\n",
       "    }\n",
       "\n",
       "    .dataframe tbody tr th {\n",
       "        vertical-align: top;\n",
       "    }\n",
       "\n",
       "    .dataframe thead th {\n",
       "        text-align: right;\n",
       "    }\n",
       "</style>\n",
       "<table border=\"1\" class=\"dataframe\">\n",
       "  <thead>\n",
       "    <tr style=\"text-align: right;\">\n",
       "      <th></th>\n",
       "      <th>platform</th>\n",
       "      <th>total_sales</th>\n",
       "    </tr>\n",
       "  </thead>\n",
       "  <tbody>\n",
       "    <tr>\n",
       "      <th>16</th>\n",
       "      <td>PS2</td>\n",
       "      <td>1233.56</td>\n",
       "    </tr>\n",
       "    <tr>\n",
       "      <th>28</th>\n",
       "      <td>X360</td>\n",
       "      <td>961.24</td>\n",
       "    </tr>\n",
       "    <tr>\n",
       "      <th>17</th>\n",
       "      <td>PS3</td>\n",
       "      <td>931.34</td>\n",
       "    </tr>\n",
       "    <tr>\n",
       "      <th>26</th>\n",
       "      <td>Wii</td>\n",
       "      <td>891.18</td>\n",
       "    </tr>\n",
       "    <tr>\n",
       "      <th>4</th>\n",
       "      <td>DS</td>\n",
       "      <td>802.78</td>\n",
       "    </tr>\n",
       "    <tr>\n",
       "      <th>15</th>\n",
       "      <td>PS</td>\n",
       "      <td>727.58</td>\n",
       "    </tr>\n",
       "    <tr>\n",
       "      <th>18</th>\n",
       "      <td>PS4</td>\n",
       "      <td>314.14</td>\n",
       "    </tr>\n",
       "    <tr>\n",
       "      <th>6</th>\n",
       "      <td>GBA</td>\n",
       "      <td>312.88</td>\n",
       "    </tr>\n",
       "    <tr>\n",
       "      <th>19</th>\n",
       "      <td>PSP</td>\n",
       "      <td>289.53</td>\n",
       "    </tr>\n",
       "    <tr>\n",
       "      <th>2</th>\n",
       "      <td>3DS</td>\n",
       "      <td>257.81</td>\n",
       "    </tr>\n",
       "    <tr>\n",
       "      <th>13</th>\n",
       "      <td>PC</td>\n",
       "      <td>255.76</td>\n",
       "    </tr>\n",
       "    <tr>\n",
       "      <th>5</th>\n",
       "      <td>GB</td>\n",
       "      <td>254.43</td>\n",
       "    </tr>\n",
       "    <tr>\n",
       "      <th>29</th>\n",
       "      <td>XB</td>\n",
       "      <td>251.57</td>\n",
       "    </tr>\n",
       "    <tr>\n",
       "      <th>11</th>\n",
       "      <td>NES</td>\n",
       "      <td>251.05</td>\n",
       "    </tr>\n",
       "    <tr>\n",
       "      <th>10</th>\n",
       "      <td>N64</td>\n",
       "      <td>218.01</td>\n",
       "    </tr>\n",
       "    <tr>\n",
       "      <th>23</th>\n",
       "      <td>SNES</td>\n",
       "      <td>200.04</td>\n",
       "    </tr>\n",
       "    <tr>\n",
       "      <th>7</th>\n",
       "      <td>GC</td>\n",
       "      <td>196.73</td>\n",
       "    </tr>\n",
       "    <tr>\n",
       "      <th>30</th>\n",
       "      <td>XOne</td>\n",
       "      <td>159.32</td>\n",
       "    </tr>\n",
       "    <tr>\n",
       "      <th>0</th>\n",
       "      <td>2600</td>\n",
       "      <td>86.48</td>\n",
       "    </tr>\n",
       "    <tr>\n",
       "      <th>27</th>\n",
       "      <td>WiiU</td>\n",
       "      <td>82.19</td>\n",
       "    </tr>\n",
       "    <tr>\n",
       "      <th>20</th>\n",
       "      <td>PSV</td>\n",
       "      <td>53.81</td>\n",
       "    </tr>\n",
       "    <tr>\n",
       "      <th>21</th>\n",
       "      <td>SAT</td>\n",
       "      <td>33.59</td>\n",
       "    </tr>\n",
       "    <tr>\n",
       "      <th>8</th>\n",
       "      <td>GEN</td>\n",
       "      <td>28.35</td>\n",
       "    </tr>\n",
       "    <tr>\n",
       "      <th>3</th>\n",
       "      <td>DC</td>\n",
       "      <td>15.95</td>\n",
       "    </tr>\n",
       "    <tr>\n",
       "      <th>22</th>\n",
       "      <td>SCD</td>\n",
       "      <td>1.86</td>\n",
       "    </tr>\n",
       "    <tr>\n",
       "      <th>12</th>\n",
       "      <td>NG</td>\n",
       "      <td>1.44</td>\n",
       "    </tr>\n",
       "    <tr>\n",
       "      <th>25</th>\n",
       "      <td>WS</td>\n",
       "      <td>1.42</td>\n",
       "    </tr>\n",
       "    <tr>\n",
       "      <th>24</th>\n",
       "      <td>TG16</td>\n",
       "      <td>0.16</td>\n",
       "    </tr>\n",
       "    <tr>\n",
       "      <th>1</th>\n",
       "      <td>3DO</td>\n",
       "      <td>0.10</td>\n",
       "    </tr>\n",
       "    <tr>\n",
       "      <th>9</th>\n",
       "      <td>GG</td>\n",
       "      <td>0.04</td>\n",
       "    </tr>\n",
       "    <tr>\n",
       "      <th>14</th>\n",
       "      <td>PCFX</td>\n",
       "      <td>0.03</td>\n",
       "    </tr>\n",
       "  </tbody>\n",
       "</table>\n",
       "</div>"
      ],
      "text/plain": [
       "   platform  total_sales\n",
       "16      PS2      1233.56\n",
       "28     X360       961.24\n",
       "17      PS3       931.34\n",
       "26      Wii       891.18\n",
       "4        DS       802.78\n",
       "15       PS       727.58\n",
       "18      PS4       314.14\n",
       "6       GBA       312.88\n",
       "19      PSP       289.53\n",
       "2       3DS       257.81\n",
       "13       PC       255.76\n",
       "5        GB       254.43\n",
       "29       XB       251.57\n",
       "11      NES       251.05\n",
       "10      N64       218.01\n",
       "23     SNES       200.04\n",
       "7        GC       196.73\n",
       "30     XOne       159.32\n",
       "0      2600        86.48\n",
       "27     WiiU        82.19\n",
       "20      PSV        53.81\n",
       "21      SAT        33.59\n",
       "8       GEN        28.35\n",
       "3        DC        15.95\n",
       "22      SCD         1.86\n",
       "12       NG         1.44\n",
       "25       WS         1.42\n",
       "24     TG16         0.16\n",
       "1       3DO         0.10\n",
       "9        GG         0.04\n",
       "14     PCFX         0.03"
      ]
     },
     "execution_count": 1150,
     "metadata": {},
     "output_type": "execute_result"
    }
   ],
   "source": [
    "# Number of sales by platform\n",
    "total_sales_per_platform = (\n",
    "  df.groupby('platform')['total_sales']\n",
    "  .sum()\n",
    "  .reset_index()\n",
    "  .sort_values('total_sales', ascending = False)\n",
    ")\n",
    "\n",
    "# Checking the result\n",
    "total_sales_per_platform"
   ]
  },
  {
   "cell_type": "markdown",
   "metadata": {},
   "source": [
    "### Comments\n",
    "The 5 best-selling platforms in the period of analysis were PS2, X360, PS3, Wii, DS."
   ]
  },
  {
   "cell_type": "code",
   "execution_count": 1151,
   "metadata": {},
   "outputs": [
    {
     "name": "stdout",
     "output_type": "stream",
     "text": [
      "   platform  year_of_release  total_sales\n",
      "0       PS2             2000        39.17\n",
      "1       PS2             2001       166.43\n",
      "2       PS2             2002       205.38\n",
      "3       PS2             2003       184.31\n",
      "4       PS2             2004       211.81\n",
      "5       PS2             2005       160.66\n",
      "6       PS2             2006       103.42\n",
      "7       PS2             2007        75.99\n",
      "8       PS2             2008        53.90\n",
      "9       PS2             2009        26.40\n",
      "10      PS2             2010         5.64\n",
      "11      PS2             2011         0.45\n",
      "12      PS3             2006        20.96\n",
      "13      PS3             2007        73.19\n",
      "14      PS3             2008       118.52\n",
      "15      PS3             2009       130.93\n",
      "16      PS3             2010       142.17\n",
      "17      PS3             2011       156.78\n",
      "18      PS3             2012       107.36\n",
      "19      PS3             2013       113.25\n",
      "20      PS3             2014        47.76\n",
      "21      PS3             2015        16.82\n",
      "22      PS3             2016         3.60\n",
      "23     X360             2005         8.25\n",
      "24     X360             2006        51.62\n",
      "25     X360             2007        95.41\n",
      "26     X360             2008       135.26\n",
      "27     X360             2009       120.29\n",
      "28     X360             2010       170.03\n",
      "29     X360             2011       143.84\n",
      "30     X360             2012        99.74\n",
      "31     X360             2013        88.58\n",
      "32     X360             2014        34.74\n",
      "33     X360             2015        11.96\n",
      "34     X360             2016         1.52\n"
     ]
    },
    {
     "data": {
      "image/png": "[encoded data removed]",
      "text/plain": [
       "<Figure size 1000x600 with 1 Axes>"
      ]
     },
     "metadata": {},
     "output_type": "display_data"
    }
   ],
   "source": [
    "# Creating a dataframe with data from the 3 best-selling platforms\n",
    "top3_platforms = (\n",
    "  df[df['platform'].isin(['PS2', 'X360', 'PS3'])]\n",
    "  .groupby(['platform', 'year_of_release'])['total_sales']\n",
    "  .sum()\n",
    "  .reset_index()\n",
    ")\n",
    "\n",
    "# Checking the result\n",
    "print(top3_platforms)\n",
    "\n",
    "# Creating a line plot\n",
    "plt.figure(figsize = (10, 6))\n",
    "sns.lineplot(data = top3_platforms, x = 'year_of_release', y = 'total_sales', hue = 'platform', marker = 'o')\n",
    "\n",
    "# Adding title and labels to axes\n",
    "plt.title('Total Sales per Year and Platform')\n",
    "plt.xlabel('Release Year')\n",
    "plt.ylabel('Total Sales (in millions)')\n",
    "plt.xticks(top3_platforms['year_of_release'].unique())\n",
    "\n",
    "# Show plot\n",
    "plt.tight_layout()\n",
    "plt.show()"
   ]
  },
  {
   "cell_type": "markdown",
   "metadata": {},
   "source": [
    "### Comments\n",
    "Considering the top 3 platforms 'PS2', 'X360', 'PS3', 'PS2' platform is older and had its peak sales in the year 2004, while X360 peaked in 2010 and PS3 in 2011."
   ]
  },
  {
   "cell_type": "markdown",
   "metadata": {},
   "source": [
    "### Popular platforms before and after the year 2000\n",
    "#### First solution - Calculations"
   ]
  },
  {
   "cell_type": "code",
   "execution_count": 1152,
   "metadata": {},
   "outputs": [
    {
     "name": "stdout",
     "output_type": "stream",
     "text": [
      "    platform  year_of_release  total_sales  release_year  finish_year  \\\n",
      "0       2600             1980        11.38          1980         1989   \n",
      "1       2600             1981        35.68          1980         1989   \n",
      "2       2600             1982        28.88          1980         1989   \n",
      "3       2600             1983         5.84          1980         1989   \n",
      "4       2600             1984         0.27          1980         1989   \n",
      "..       ...              ...          ...           ...          ...   \n",
      "233       XB             2008         0.18          2000         2008   \n",
      "234     XOne             2013        18.96          2013         2016   \n",
      "235     XOne             2014        54.07          2013         2016   \n",
      "236     XOne             2015        60.14          2013         2016   \n",
      "237     XOne             2016        26.15          2013         2016   \n",
      "\n",
      "     lifespan  \n",
      "0           9  \n",
      "1           9  \n",
      "2           9  \n",
      "3           9  \n",
      "4           9  \n",
      "..        ...  \n",
      "233         8  \n",
      "234         3  \n",
      "235         3  \n",
      "236         3  \n",
      "237         3  \n",
      "\n",
      "[238 rows x 6 columns]\n",
      "   platform  lifespan  release_year  total_sales\n",
      "4       NES        11          1983       251.05\n",
      "9      SNES         9          1990       200.04\n",
      "0      2600         9          1980        86.48\n",
      "7       SAT         5          1994        33.59\n",
      "2       GEN         4          1990        28.35\n",
      "8       SCD         1          1993         1.86\n",
      "5        NG         3          1993         1.44\n",
      "10     TG16         0          1995         0.16\n",
      "1       3DO         1          1994         0.10\n",
      "3        GG         0          1992         0.04\n",
      "6      PCFX         0          1996         0.03\n",
      "   platform  release_year  total_sales\n",
      "9       PS2          2000      1233.56\n",
      "17     X360          2005       961.24\n",
      "10      PS3          2006       931.34\n",
      "15      Wii          2006       891.18\n",
      "2        DS          1985       802.78\n",
      "8        PS          1994       727.58\n",
      "11      PS4          2013       314.14\n",
      "4       GBA          2000       312.88\n",
      "12      PSP          2004       289.53\n",
      "0       3DS          2011       257.81\n",
      "7        PC          1985       255.76\n",
      "3        GB          1988       254.43\n",
      "18       XB          2000       251.57\n",
      "6       N64          1996       218.01\n",
      "5        GC          2001       196.73\n",
      "19     XOne          2013       159.32\n",
      "16     WiiU          2012        82.19\n",
      "13      PSV          2011        53.81\n",
      "1        DC          1998        15.95\n",
      "14       WS          1999         1.42\n"
     ]
    }
   ],
   "source": [
    "# Checking platforms that used to be popular but now have no sales.\n",
    "# How long does it take for new platforms to appear and old ones to disappear?\n",
    "\n",
    "# 1.0 Creating a dataframe 'total_sales_by_year', which contains total sales ('total_sales') grouped by platform and release year\n",
    "total_sales_by_year = (\n",
    "  df\n",
    "  .groupby(['platform', 'year_of_release'])\n",
    "  .agg(\n",
    "    total_sales = pd.NamedAgg(column = 'total_sales', aggfunc = 'sum')\n",
    "  )\n",
    "  .reset_index()\n",
    ")\n",
    "\n",
    "# 2.0 Creating a dataframe 'platform_by_year', which contains the years of release and end of each platform\n",
    "platform_by_year = (\n",
    "  df\n",
    "  .groupby(['platform'])\n",
    "  .agg(\n",
    "    release_year = pd.NamedAgg(column = 'year_of_release', aggfunc = 'min'),\n",
    "    finish_year = pd.NamedAgg(column = 'year_of_release', aggfunc = 'max'),\n",
    "  )\n",
    "  .reset_index()\n",
    ") \n",
    "\n",
    "# 3.0 Creating a column in the 'platform_by_year' dataframe, which contains the lifespan of each platform\n",
    "platform_by_year['lifespan'] = platform_by_year['finish_year'] - platform_by_year['release_year']\n",
    "\n",
    "# 4.0 Merge dataframes 'total_sales_by_year' and 'platform_by_year'\n",
    "merged_plat_sales_year = (\n",
    "  total_sales_by_year\n",
    "  .merge(\n",
    "    platform_by_year,\n",
    "    on = 'platform',\n",
    "    how = 'left',\n",
    "  ).drop_duplicates()\n",
    ")\n",
    "\n",
    "# Checking the result\n",
    "print(merged_plat_sales_year)\n",
    "\n",
    "\n",
    "# 5.0 Creating a dataframe for popular games before 2000\n",
    "# Filter platforms whose 'finish_year' is less than or equal to 2000\n",
    "old_popular_platforms = (\n",
    "  merged_plat_sales_year[merged_plat_sales_year['finish_year'] <= 2000]\n",
    ")\n",
    " \n",
    "# Group by platform, keeping the colunms 'lifespan' and 'release_year' and get the total_sales of the groups\n",
    "sales_old = (\n",
    "  old_popular_platforms.groupby(['platform', 'lifespan', 'release_year'])['total_sales']\n",
    "  .sum()\n",
    "  .reset_index()\n",
    ")\n",
    "\n",
    "# Sort platforms by the sum of total sales\n",
    "sales_old_sorted = sales_old.sort_values(by = 'total_sales', ascending=False)\n",
    "\n",
    "# Checking the result\n",
    "print(sales_old_sorted)\n",
    "\n",
    "\n",
    "# 6.0 Creating a dataframe for popular games after 2000\n",
    "# Filter platforms whose 'release_year' is more than or equal to 2000\n",
    "new_popular_platforms = (\n",
    "  merged_plat_sales_year[merged_plat_sales_year['finish_year'] > 2000]\n",
    ")\n",
    " \n",
    "# Group by platform and sum the total_sales, keeping the column 'release_year' \n",
    "sales_new = (\n",
    "  new_popular_platforms.groupby(['platform', 'release_year'])['total_sales']\n",
    "  .sum()\n",
    "  .reset_index()\n",
    ")\n",
    "\n",
    "# Sort platforms by the sum of total sales\n",
    "sales_new_sorted = sales_new.sort_values(by = 'total_sales', ascending = False)\n",
    "\n",
    "# Checking the result\n",
    "print(sales_new_sorted)\n"
   ]
  },
  {
   "cell_type": "markdown",
   "metadata": {},
   "source": [
    "#### Comments:\n",
    "1. In this solution, a dataframe was created with the total sales by platform and year, with additional columns with information about the year of release, the final year of sale and the difference between them (platform lifespan).\n",
    "2. For the analysis, it was created a dataframe whose final years were less than 2000 and it was grouped by platform. Then total_sales by group were calculated.\n",
    "3. The conclusion was that the platforms 'NES', 'SNES' and '2600' were the oldest ones that sold the most. They had a lifespan of about 10 years.\n",
    "4. Comparing the 3 most popular platforms before 2000 with the 3 most popular after 2000 'PS2', 'X360', 'PS3', there is a gap of about 15 years between the releases.\n"
   ]
  },
  {
   "cell_type": "markdown",
   "metadata": {},
   "source": [
    "#### Second solution - Visual Analysis"
   ]
  },
  {
   "cell_type": "code",
   "execution_count": 1153,
   "metadata": {},
   "outputs": [
    {
     "name": "stdout",
     "output_type": "stream",
     "text": [
      "    platform  year_of_release  total_sales\n",
      "0       2600             1980        11.38\n",
      "1       2600             1981        35.68\n",
      "2       2600             1982        28.88\n",
      "3       2600             1983         5.84\n",
      "4       2600             1984         0.27\n",
      "..       ...              ...          ...\n",
      "233       XB             2008         0.18\n",
      "234     XOne             2013        18.96\n",
      "235     XOne             2014        54.07\n",
      "236     XOne             2015        60.14\n",
      "237     XOne             2016        26.15\n",
      "\n",
      "[238 rows x 3 columns]\n"
     ]
    },
    {
     "data": {
      "application/vnd.plotly.v1+json": {
       "config": {
        "plotlyServerURL": "https://plot.ly"
       },
       "data": [
        {
         "hovertemplate": "platform=2600<br>Release Year=%{x}<br>Total Sales (in millions)=%{y}<extra></extra>",
         "legendgroup": "2600",
         "line": {
          "color": "#636efa",
          "dash": "solid"
         },
         "marker": {
          "symbol": "circle"
         },
         "mode": "lines",
         "name": "2600",
         "orientation": "v",
         "showlegend": true,
         "type": "scatter",
         "x": [
          1980,
          1981,
          1982,
          1983,
          1984,
          1985,
          1986,
          1987,
          1988,
          1989
         ],
         "xaxis": "x",
         "y": [
          11.379999999999999,
          35.68,
          28.880000000000003,
          5.84,
          0.27,
          0.44999999999999996,
          0.67,
          1.94,
          0.74,
          0.6300000000000001
         ],
         "yaxis": "y"
        },
        {
         "hovertemplate": "platform=3DO<br>Release Year=%{x}<br>Total Sales (in millions)=%{y}<extra></extra>",
         "legendgroup": "3DO",
         "line": {
          "color": "#EF553B",
          "dash": "solid"
         },
         "marker": {
          "symbol": "circle"
         },
         "mode": "lines",
         "name": "3DO",
         "orientation": "v",
         "showlegend": true,
         "type": "scatter",
         "x": [
          1994,
          1995
         ],
         "xaxis": "x",
         "y": [
          0.02,
          0.08
         ],
         "yaxis": "y"
        },
        {
         "hovertemplate": "platform=3DS<br>Release Year=%{x}<br>Total Sales (in millions)=%{y}<extra></extra>",
         "legendgroup": "3DS",
         "line": {
          "color": "#00cc96",
          "dash": "solid"
         },
         "marker": {
          "symbol": "circle"
         },
         "mode": "lines",
         "name": "3DS",
         "orientation": "v",
         "showlegend": true,
         "type": "scatter",
         "x": [
          2011,
          2012,
          2013,
          2014,
          2015,
          2016
         ],
         "xaxis": "x",
         "y": [
          63.199999999999996,
          51.36000000000001,
          56.57,
          43.76,
          27.78,
          15.14
         ],
         "yaxis": "y"
        },
        {
         "hovertemplate": "platform=DC<br>Release Year=%{x}<br>Total Sales (in millions)=%{y}<extra></extra>",
         "legendgroup": "DC",
         "line": {
          "color": "#ab63fa",
          "dash": "solid"
         },
         "marker": {
          "symbol": "circle"
         },
         "mode": "lines",
         "name": "DC",
         "orientation": "v",
         "showlegend": true,
         "type": "scatter",
         "x": [
          1998,
          1999,
          2000,
          2001,
          2002,
          2007,
          2008
         ],
         "xaxis": "x",
         "y": [
          3.3800000000000003,
          5.16,
          5.99,
          1.07,
          0.29,
          0.02,
          0.04
         ],
         "yaxis": "y"
        },
        {
         "hovertemplate": "platform=DS<br>Release Year=%{x}<br>Total Sales (in millions)=%{y}<extra></extra>",
         "legendgroup": "DS",
         "line": {
          "color": "#FFA15A",
          "dash": "solid"
         },
         "marker": {
          "symbol": "circle"
         },
         "mode": "lines",
         "name": "DS",
         "orientation": "v",
         "showlegend": true,
         "type": "scatter",
         "x": [
          1985,
          2004,
          2005,
          2006,
          2007,
          2008,
          2009,
          2010,
          2011,
          2012,
          2013
         ],
         "xaxis": "x",
         "y": [
          0.02,
          17.27,
          130.14,
          119.81,
          146.94,
          145.31,
          119.54,
          85.02,
          26.18,
          11.01,
          1.54
         ],
         "yaxis": "y"
        },
        {
         "hovertemplate": "platform=GB<br>Release Year=%{x}<br>Total Sales (in millions)=%{y}<extra></extra>",
         "legendgroup": "GB",
         "line": {
          "color": "#19d3f3",
          "dash": "solid"
         },
         "marker": {
          "symbol": "circle"
         },
         "mode": "lines",
         "name": "GB",
         "orientation": "v",
         "showlegend": true,
         "type": "scatter",
         "x": [
          1988,
          1989,
          1990,
          1991,
          1992,
          1994,
          1995,
          1996,
          1997,
          1998,
          1999,
          2000,
          2001
         ],
         "xaxis": "x",
         "y": [
          1.43,
          64.97,
          4.89,
          5.57,
          25.49,
          12.18,
          3.5999999999999996,
          36.03,
          6.37,
          26.9,
          38,
          19.76,
          9.24
         ],
         "yaxis": "y"
        },
        {
         "hovertemplate": "platform=GBA<br>Release Year=%{x}<br>Total Sales (in millions)=%{y}<extra></extra>",
         "legendgroup": "GBA",
         "line": {
          "color": "#FF6692",
          "dash": "solid"
         },
         "marker": {
          "symbol": "circle"
         },
         "mode": "lines",
         "name": "GBA",
         "orientation": "v",
         "showlegend": true,
         "type": "scatter",
         "x": [
          2000,
          2001,
          2002,
          2003,
          2004,
          2005,
          2006,
          2007
         ],
         "xaxis": "x",
         "y": [
          0.07,
          61.53,
          74.16,
          56.67,
          77.91,
          33.86,
          5.28,
          3.4
         ],
         "yaxis": "y"
        },
        {
         "hovertemplate": "platform=GC<br>Release Year=%{x}<br>Total Sales (in millions)=%{y}<extra></extra>",
         "legendgroup": "GC",
         "line": {
          "color": "#B6E880",
          "dash": "solid"
         },
         "marker": {
          "symbol": "circle"
         },
         "mode": "lines",
         "name": "GC",
         "orientation": "v",
         "showlegend": true,
         "type": "scatter",
         "x": [
          2001,
          2002,
          2003,
          2004,
          2005,
          2006,
          2007
         ],
         "xaxis": "x",
         "y": [
          26.34,
          51.81,
          50.61,
          28.82,
          27.62,
          11.26,
          0.27
         ],
         "yaxis": "y"
        },
        {
         "hovertemplate": "platform=GEN<br>Release Year=%{x}<br>Total Sales (in millions)=%{y}<extra></extra>",
         "legendgroup": "GEN",
         "line": {
          "color": "#FF97FF",
          "dash": "solid"
         },
         "marker": {
          "symbol": "circle"
         },
         "mode": "lines",
         "name": "GEN",
         "orientation": "v",
         "showlegend": true,
         "type": "scatter",
         "x": [
          1990,
          1991,
          1992,
          1993,
          1994
         ],
         "xaxis": "x",
         "y": [
          2.6,
          4.33,
          12.64,
          0.65,
          8.129999999999999
         ],
         "yaxis": "y"
        },
        {
         "hovertemplate": "platform=GG<br>Release Year=%{x}<br>Total Sales (in millions)=%{y}<extra></extra>",
         "legendgroup": "GG",
         "line": {
          "color": "#FECB52",
          "dash": "solid"
         },
         "marker": {
          "symbol": "circle"
         },
         "mode": "lines",
         "name": "GG",
         "orientation": "v",
         "showlegend": true,
         "type": "scatter",
         "x": [
          1992
         ],
         "xaxis": "x",
         "y": [
          0.04
         ],
         "yaxis": "y"
        },
        {
         "hovertemplate": "platform=N64<br>Release Year=%{x}<br>Total Sales (in millions)=%{y}<extra></extra>",
         "legendgroup": "N64",
         "line": {
          "color": "#636efa",
          "dash": "solid"
         },
         "marker": {
          "symbol": "circle"
         },
         "mode": "lines",
         "name": "N64",
         "orientation": "v",
         "showlegend": true,
         "type": "scatter",
         "x": [
          1996,
          1997,
          1998,
          1999,
          2000,
          2001,
          2002
         ],
         "xaxis": "x",
         "y": [
          34.1,
          39.5,
          49.24,
          57.87,
          33.97,
          3.25,
          0.08
         ],
         "yaxis": "y"
        },
        {
         "hovertemplate": "platform=NES<br>Release Year=%{x}<br>Total Sales (in millions)=%{y}<extra></extra>",
         "legendgroup": "NES",
         "line": {
          "color": "#EF553B",
          "dash": "solid"
         },
         "marker": {
          "symbol": "circle"
         },
         "mode": "lines",
         "name": "NES",
         "orientation": "v",
         "showlegend": true,
         "type": "scatter",
         "x": [
          1983,
          1984,
          1985,
          1986,
          1987,
          1988,
          1989,
          1990,
          1991,
          1992,
          1993,
          1994
         ],
         "xaxis": "x",
         "y": [
          10.96,
          50.08,
          53.440000000000005,
          36.41,
          19.759999999999998,
          45.010000000000005,
          7.85,
          15.729999999999999,
          6.109999999999999,
          1.9800000000000002,
          3.61,
          0.11
         ],
         "yaxis": "y"
        },
        {
         "hovertemplate": "platform=NG<br>Release Year=%{x}<br>Total Sales (in millions)=%{y}<extra></extra>",
         "legendgroup": "NG",
         "line": {
          "color": "#00cc96",
          "dash": "solid"
         },
         "marker": {
          "symbol": "circle"
         },
         "mode": "lines",
         "name": "NG",
         "orientation": "v",
         "showlegend": true,
         "type": "scatter",
         "x": [
          1993,
          1994,
          1995,
          1996
         ],
         "xaxis": "x",
         "y": [
          0.21000000000000002,
          0.8,
          0.33,
          0.1
         ],
         "yaxis": "y"
        },
        {
         "hovertemplate": "platform=PC<br>Release Year=%{x}<br>Total Sales (in millions)=%{y}<extra></extra>",
         "legendgroup": "PC",
         "line": {
          "color": "#ab63fa",
          "dash": "solid"
         },
         "marker": {
          "symbol": "circle"
         },
         "mode": "lines",
         "name": "PC",
         "orientation": "v",
         "showlegend": true,
         "type": "scatter",
         "x": [
          1985,
          1988,
          1992,
          1994,
          1995,
          1996,
          1997,
          1998,
          1999,
          2000,
          2001,
          2002,
          2003,
          2004,
          2005,
          2006,
          2007,
          2008,
          2009,
          2010,
          2011,
          2012,
          2013,
          2014,
          2015,
          2016
         ],
         "xaxis": "x",
         "y": [
          0.04,
          0.03,
          3.0300000000000002,
          12.87,
          4.22,
          10.58,
          11.27,
          3.2600000000000002,
          4.74,
          4.659999999999999,
          5.470000000000001,
          8.57,
          8.84,
          10.39,
          4.37,
          2.85,
          9.28,
          12.42,
          16.91,
          24.28,
          35.03,
          23.22,
          12.38,
          13.280000000000001,
          8.520000000000001,
          5.25
         ],
         "yaxis": "y"
        },
        {
         "hovertemplate": "platform=PCFX<br>Release Year=%{x}<br>Total Sales (in millions)=%{y}<extra></extra>",
         "legendgroup": "PCFX",
         "line": {
          "color": "#FFA15A",
          "dash": "solid"
         },
         "marker": {
          "symbol": "circle"
         },
         "mode": "lines",
         "name": "PCFX",
         "orientation": "v",
         "showlegend": true,
         "type": "scatter",
         "x": [
          1996
         ],
         "xaxis": "x",
         "y": [
          0.03
         ],
         "yaxis": "y"
        },
        {
         "hovertemplate": "platform=PS<br>Release Year=%{x}<br>Total Sales (in millions)=%{y}<extra></extra>",
         "legendgroup": "PS",
         "line": {
          "color": "#19d3f3",
          "dash": "solid"
         },
         "marker": {
          "symbol": "circle"
         },
         "mode": "lines",
         "name": "PS",
         "orientation": "v",
         "showlegend": true,
         "type": "scatter",
         "x": [
          1994,
          1995,
          1996,
          1997,
          1998,
          1999,
          2000,
          2001,
          2002,
          2003
         ],
         "xaxis": "x",
         "y": [
          6.03,
          35.96,
          94.7,
          136.17000000000002,
          169.49,
          144.53,
          96.37,
          35.59,
          6.67,
          2.0700000000000003
         ],
         "yaxis": "y"
        },
        {
         "hovertemplate": "platform=PS2<br>Release Year=%{x}<br>Total Sales (in millions)=%{y}<extra></extra>",
         "legendgroup": "PS2",
         "line": {
          "color": "#FF6692",
          "dash": "solid"
         },
         "marker": {
          "symbol": "circle"
         },
         "mode": "lines",
         "name": "PS2",
         "orientation": "v",
         "showlegend": true,
         "type": "scatter",
         "x": [
          2000,
          2001,
          2002,
          2003,
          2004,
          2005,
          2006,
          2007,
          2008,
          2009,
          2010,
          2011
         ],
         "xaxis": "x",
         "y": [
          39.17,
          166.43,
          205.38,
          184.31,
          211.81,
          160.66,
          103.42,
          75.99,
          53.9,
          26.4,
          5.64,
          0.45
         ],
         "yaxis": "y"
        },
        {
         "hovertemplate": "platform=PS3<br>Release Year=%{x}<br>Total Sales (in millions)=%{y}<extra></extra>",
         "legendgroup": "PS3",
         "line": {
          "color": "#B6E880",
          "dash": "solid"
         },
         "marker": {
          "symbol": "circle"
         },
         "mode": "lines",
         "name": "PS3",
         "orientation": "v",
         "showlegend": true,
         "type": "scatter",
         "x": [
          2006,
          2007,
          2008,
          2009,
          2010,
          2011,
          2012,
          2013,
          2014,
          2015,
          2016
         ],
         "xaxis": "x",
         "y": [
          20.96,
          73.19,
          118.52,
          130.93,
          142.17,
          156.78,
          107.36,
          113.25,
          47.760000000000005,
          16.82,
          3.6
         ],
         "yaxis": "y"
        },
        {
         "hovertemplate": "platform=PS4<br>Release Year=%{x}<br>Total Sales (in millions)=%{y}<extra></extra>",
         "legendgroup": "PS4",
         "line": {
          "color": "#FF97FF",
          "dash": "solid"
         },
         "marker": {
          "symbol": "circle"
         },
         "mode": "lines",
         "name": "PS4",
         "orientation": "v",
         "showlegend": true,
         "type": "scatter",
         "x": [
          2013,
          2014,
          2015,
          2016
         ],
         "xaxis": "x",
         "y": [
          25.99,
          100,
          118.9,
          69.25
         ],
         "yaxis": "y"
        },
        {
         "hovertemplate": "platform=PSP<br>Release Year=%{x}<br>Total Sales (in millions)=%{y}<extra></extra>",
         "legendgroup": "PSP",
         "line": {
          "color": "#FECB52",
          "dash": "solid"
         },
         "marker": {
          "symbol": "circle"
         },
         "mode": "lines",
         "name": "PSP",
         "orientation": "v",
         "showlegend": true,
         "type": "scatter",
         "x": [
          2004,
          2005,
          2006,
          2007,
          2008,
          2009,
          2010,
          2011,
          2012,
          2013,
          2014,
          2015
         ],
         "xaxis": "x",
         "y": [
          7.0600000000000005,
          43.84,
          55.32,
          46.93,
          34.55,
          37.78,
          35.04,
          17.82,
          7.69,
          3.14,
          0.24,
          0.12
         ],
         "yaxis": "y"
        },
        {
         "hovertemplate": "platform=PSV<br>Release Year=%{x}<br>Total Sales (in millions)=%{y}<extra></extra>",
         "legendgroup": "PSV",
         "line": {
          "color": "#636efa",
          "dash": "solid"
         },
         "marker": {
          "symbol": "circle"
         },
         "mode": "lines",
         "name": "PSV",
         "orientation": "v",
         "showlegend": true,
         "type": "scatter",
         "x": [
          2011,
          2012,
          2013,
          2014,
          2015,
          2016
         ],
         "xaxis": "x",
         "y": [
          4.63,
          16.19,
          10.59,
          11.9,
          6.25,
          4.25
         ],
         "yaxis": "y"
        },
        {
         "hovertemplate": "platform=SAT<br>Release Year=%{x}<br>Total Sales (in millions)=%{y}<extra></extra>",
         "legendgroup": "SAT",
         "line": {
          "color": "#EF553B",
          "dash": "solid"
         },
         "marker": {
          "symbol": "circle"
         },
         "mode": "lines",
         "name": "SAT",
         "orientation": "v",
         "showlegend": true,
         "type": "scatter",
         "x": [
          1994,
          1995,
          1996,
          1997,
          1998,
          1999
         ],
         "xaxis": "x",
         "y": [
          3.65,
          11.57,
          7.69,
          6.7700000000000005,
          3.82,
          0.09
         ],
         "yaxis": "y"
        },
        {
         "hovertemplate": "platform=SCD<br>Release Year=%{x}<br>Total Sales (in millions)=%{y}<extra></extra>",
         "legendgroup": "SCD",
         "line": {
          "color": "#00cc96",
          "dash": "solid"
         },
         "marker": {
          "symbol": "circle"
         },
         "mode": "lines",
         "name": "SCD",
         "orientation": "v",
         "showlegend": true,
         "type": "scatter",
         "x": [
          1993,
          1994
         ],
         "xaxis": "x",
         "y": [
          1.5,
          0.36000000000000004
         ],
         "yaxis": "y"
        },
        {
         "hovertemplate": "platform=SNES<br>Release Year=%{x}<br>Total Sales (in millions)=%{y}<extra></extra>",
         "legendgroup": "SNES",
         "line": {
          "color": "#ab63fa",
          "dash": "solid"
         },
         "marker": {
          "symbol": "circle"
         },
         "mode": "lines",
         "name": "SNES",
         "orientation": "v",
         "showlegend": true,
         "type": "scatter",
         "x": [
          1990,
          1991,
          1992,
          1993,
          1994,
          1995,
          1996,
          1997,
          1998,
          1999
         ],
         "xaxis": "x",
         "y": [
          26.150000000000002,
          16.220000000000002,
          32.98,
          40.02,
          35.08,
          32.199999999999996,
          15.92,
          0.99,
          0.22000000000000003,
          0.26
         ],
         "yaxis": "y"
        },
        {
         "hovertemplate": "platform=TG16<br>Release Year=%{x}<br>Total Sales (in millions)=%{y}<extra></extra>",
         "legendgroup": "TG16",
         "line": {
          "color": "#FFA15A",
          "dash": "solid"
         },
         "marker": {
          "symbol": "circle"
         },
         "mode": "lines",
         "name": "TG16",
         "orientation": "v",
         "showlegend": true,
         "type": "scatter",
         "x": [
          1995
         ],
         "xaxis": "x",
         "y": [
          0.16
         ],
         "yaxis": "y"
        },
        {
         "hovertemplate": "platform=WS<br>Release Year=%{x}<br>Total Sales (in millions)=%{y}<extra></extra>",
         "legendgroup": "WS",
         "line": {
          "color": "#19d3f3",
          "dash": "solid"
         },
         "marker": {
          "symbol": "circle"
         },
         "mode": "lines",
         "name": "WS",
         "orientation": "v",
         "showlegend": true,
         "type": "scatter",
         "x": [
          1999,
          2000,
          2001
         ],
         "xaxis": "x",
         "y": [
          0.46,
          0.68,
          0.28
         ],
         "yaxis": "y"
        },
        {
         "hovertemplate": "platform=Wii<br>Release Year=%{x}<br>Total Sales (in millions)=%{y}<extra></extra>",
         "legendgroup": "Wii",
         "line": {
          "color": "#FF6692",
          "dash": "solid"
         },
         "marker": {
          "symbol": "circle"
         },
         "mode": "lines",
         "name": "Wii",
         "orientation": "v",
         "showlegend": true,
         "type": "scatter",
         "x": [
          2006,
          2007,
          2008,
          2009,
          2010,
          2011,
          2012,
          2013,
          2014,
          2015,
          2016
         ],
         "xaxis": "x",
         "y": [
          137.15,
          152.77,
          171.32,
          206.97,
          127.95,
          59.65,
          21.71,
          8.59,
          3.75,
          1.14,
          0.18
         ],
         "yaxis": "y"
        },
        {
         "hovertemplate": "platform=WiiU<br>Release Year=%{x}<br>Total Sales (in millions)=%{y}<extra></extra>",
         "legendgroup": "WiiU",
         "line": {
          "color": "#B6E880",
          "dash": "solid"
         },
         "marker": {
          "symbol": "circle"
         },
         "mode": "lines",
         "name": "WiiU",
         "orientation": "v",
         "showlegend": true,
         "type": "scatter",
         "x": [
          2012,
          2013,
          2014,
          2015,
          2016
         ],
         "xaxis": "x",
         "y": [
          17.560000000000002,
          21.650000000000002,
          22.03,
          16.35,
          4.6000000000000005
         ],
         "yaxis": "y"
        },
        {
         "hovertemplate": "platform=X360<br>Release Year=%{x}<br>Total Sales (in millions)=%{y}<extra></extra>",
         "legendgroup": "X360",
         "line": {
          "color": "#FF97FF",
          "dash": "solid"
         },
         "marker": {
          "symbol": "circle"
         },
         "mode": "lines",
         "name": "X360",
         "orientation": "v",
         "showlegend": true,
         "type": "scatter",
         "x": [
          2005,
          2006,
          2007,
          2008,
          2009,
          2010,
          2011,
          2012,
          2013,
          2014,
          2015,
          2016
         ],
         "xaxis": "x",
         "y": [
          8.25,
          51.620000000000005,
          95.41,
          135.26,
          120.29,
          170.03,
          143.84,
          99.74000000000001,
          88.58,
          34.74,
          11.959999999999999,
          1.52
         ],
         "yaxis": "y"
        },
        {
         "hovertemplate": "platform=XB<br>Release Year=%{x}<br>Total Sales (in millions)=%{y}<extra></extra>",
         "legendgroup": "XB",
         "line": {
          "color": "#FECB52",
          "dash": "solid"
         },
         "marker": {
          "symbol": "circle"
         },
         "mode": "lines",
         "name": "XB",
         "orientation": "v",
         "showlegend": true,
         "type": "scatter",
         "x": [
          2000,
          2001,
          2002,
          2003,
          2004,
          2005,
          2006,
          2007,
          2008
         ],
         "xaxis": "x",
         "y": [
          0.99,
          22.26,
          48.010000000000005,
          55.040000000000006,
          65.42,
          49.080000000000005,
          10.040000000000001,
          0.55,
          0.18000000000000002
         ],
         "yaxis": "y"
        },
        {
         "hovertemplate": "platform=XOne<br>Release Year=%{x}<br>Total Sales (in millions)=%{y}<extra></extra>",
         "legendgroup": "XOne",
         "line": {
          "color": "#636efa",
          "dash": "solid"
         },
         "marker": {
          "symbol": "circle"
         },
         "mode": "lines",
         "name": "XOne",
         "orientation": "v",
         "showlegend": true,
         "type": "scatter",
         "x": [
          2013,
          2014,
          2015,
          2016
         ],
         "xaxis": "x",
         "y": [
          18.96,
          54.07,
          60.14,
          26.150000000000002
         ],
         "yaxis": "y"
        }
       ],
       "layout": {
        "legend": {
         "title": {
          "text": "platform"
         },
         "tracegroupgap": 0
        },
        "template": {
         "data": {
          "bar": [
           {
            "error_x": {
             "color": "#2a3f5f"
            },
            "error_y": {
             "color": "#2a3f5f"
            },
            "marker": {
             "line": {
              "color": "#E5ECF6",
              "width": 0.5
             },
             "pattern": {
              "fillmode": "overlay",
              "size": 10,
              "solidity": 0.2
             }
            },
            "type": "bar"
           }
          ],
          "barpolar": [
           {
            "marker": {
             "line": {
              "color": "#E5ECF6",
              "width": 0.5
             },
             "pattern": {
              "fillmode": "overlay",
              "size": 10,
              "solidity": 0.2
             }
            },
            "type": "barpolar"
           }
          ],
          "carpet": [
           {
            "aaxis": {
             "endlinecolor": "#2a3f5f",
             "gridcolor": "white",
             "linecolor": "white",
             "minorgridcolor": "white",
             "startlinecolor": "#2a3f5f"
            },
            "baxis": {
             "endlinecolor": "#2a3f5f",
             "gridcolor": "white",
             "linecolor": "white",
             "minorgridcolor": "white",
             "startlinecolor": "#2a3f5f"
            },
            "type": "carpet"
           }
          ],
          "choropleth": [
           {
            "colorbar": {
             "outlinewidth": 0,
             "ticks": ""
            },
            "type": "choropleth"
           }
          ],
          "contour": [
           {
            "colorbar": {
             "outlinewidth": 0,
             "ticks": ""
            },
            "colorscale": [
             [
              0,
              "#0d0887"
             ],
             [
              0.1111111111111111,
              "#46039f"
             ],
             [
              0.2222222222222222,
              "#7201a8"
             ],
             [
              0.3333333333333333,
              "#9c179e"
             ],
             [
              0.4444444444444444,
              "#bd3786"
             ],
             [
              0.5555555555555556,
              "#d8576b"
             ],
             [
              0.6666666666666666,
              "#ed7953"
             ],
             [
              0.7777777777777778,
              "#fb9f3a"
             ],
             [
              0.8888888888888888,
              "#fdca26"
             ],
             [
              1,
              "#f0f921"
             ]
            ],
            "type": "contour"
           }
          ],
          "contourcarpet": [
           {
            "colorbar": {
             "outlinewidth": 0,
             "ticks": ""
            },
            "type": "contourcarpet"
           }
          ],
          "heatmap": [
           {
            "colorbar": {
             "outlinewidth": 0,
             "ticks": ""
            },
            "colorscale": [
             [
              0,
              "#0d0887"
             ],
             [
              0.1111111111111111,
              "#46039f"
             ],
             [
              0.2222222222222222,
              "#7201a8"
             ],
             [
              0.3333333333333333,
              "#9c179e"
             ],
             [
              0.4444444444444444,
              "#bd3786"
             ],
             [
              0.5555555555555556,
              "#d8576b"
             ],
             [
              0.6666666666666666,
              "#ed7953"
             ],
             [
              0.7777777777777778,
              "#fb9f3a"
             ],
             [
              0.8888888888888888,
              "#fdca26"
             ],
             [
              1,
              "#f0f921"
             ]
            ],
            "type": "heatmap"
           }
          ],
          "heatmapgl": [
           {
            "colorbar": {
             "outlinewidth": 0,
             "ticks": ""
            },
            "colorscale": [
             [
              0,
              "#0d0887"
             ],
             [
              0.1111111111111111,
              "#46039f"
             ],
             [
              0.2222222222222222,
              "#7201a8"
             ],
             [
              0.3333333333333333,
              "#9c179e"
             ],
             [
              0.4444444444444444,
              "#bd3786"
             ],
             [
              0.5555555555555556,
              "#d8576b"
             ],
             [
              0.6666666666666666,
              "#ed7953"
             ],
             [
              0.7777777777777778,
              "#fb9f3a"
             ],
             [
              0.8888888888888888,
              "#fdca26"
             ],
             [
              1,
              "#f0f921"
             ]
            ],
            "type": "heatmapgl"
           }
          ],
          "histogram": [
           {
            "marker": {
             "pattern": {
              "fillmode": "overlay",
              "size": 10,
              "solidity": 0.2
             }
            },
            "type": "histogram"
           }
          ],
          "histogram2d": [
           {
            "colorbar": {
             "outlinewidth": 0,
             "ticks": ""
            },
            "colorscale": [
             [
              0,
              "#0d0887"
             ],
             [
              0.1111111111111111,
              "#46039f"
             ],
             [
              0.2222222222222222,
              "#7201a8"
             ],
             [
              0.3333333333333333,
              "#9c179e"
             ],
             [
              0.4444444444444444,
              "#bd3786"
             ],
             [
              0.5555555555555556,
              "#d8576b"
             ],
             [
              0.6666666666666666,
              "#ed7953"
             ],
             [
              0.7777777777777778,
              "#fb9f3a"
             ],
             [
              0.8888888888888888,
              "#fdca26"
             ],
             [
              1,
              "#f0f921"
             ]
            ],
            "type": "histogram2d"
           }
          ],
          "histogram2dcontour": [
           {
            "colorbar": {
             "outlinewidth": 0,
             "ticks": ""
            },
            "colorscale": [
             [
              0,
              "#0d0887"
             ],
             [
              0.1111111111111111,
              "#46039f"
             ],
             [
              0.2222222222222222,
              "#7201a8"
             ],
             [
              0.3333333333333333,
              "#9c179e"
             ],
             [
              0.4444444444444444,
              "#bd3786"
             ],
             [
              0.5555555555555556,
              "#d8576b"
             ],
             [
              0.6666666666666666,
              "#ed7953"
             ],
             [
              0.7777777777777778,
              "#fb9f3a"
             ],
             [
              0.8888888888888888,
              "#fdca26"
             ],
             [
              1,
              "#f0f921"
             ]
            ],
            "type": "histogram2dcontour"
           }
          ],
          "mesh3d": [
           {
            "colorbar": {
             "outlinewidth": 0,
             "ticks": ""
            },
            "type": "mesh3d"
           }
          ],
          "parcoords": [
           {
            "line": {
             "colorbar": {
              "outlinewidth": 0,
              "ticks": ""
             }
            },
            "type": "parcoords"
           }
          ],
          "pie": [
           {
            "automargin": true,
            "type": "pie"
           }
          ],
          "scatter": [
           {
            "fillpattern": {
             "fillmode": "overlay",
             "size": 10,
             "solidity": 0.2
            },
            "type": "scatter"
           }
          ],
          "scatter3d": [
           {
            "line": {
             "colorbar": {
              "outlinewidth": 0,
              "ticks": ""
             }
            },
            "marker": {
             "colorbar": {
              "outlinewidth": 0,
              "ticks": ""
             }
            },
            "type": "scatter3d"
           }
          ],
          "scattercarpet": [
           {
            "marker": {
             "colorbar": {
              "outlinewidth": 0,
              "ticks": ""
             }
            },
            "type": "scattercarpet"
           }
          ],
          "scattergeo": [
           {
            "marker": {
             "colorbar": {
              "outlinewidth": 0,
              "ticks": ""
             }
            },
            "type": "scattergeo"
           }
          ],
          "scattergl": [
           {
            "marker": {
             "colorbar": {
              "outlinewidth": 0,
              "ticks": ""
             }
            },
            "type": "scattergl"
           }
          ],
          "scattermapbox": [
           {
            "marker": {
             "colorbar": {
              "outlinewidth": 0,
              "ticks": ""
             }
            },
            "type": "scattermapbox"
           }
          ],
          "scatterpolar": [
           {
            "marker": {
             "colorbar": {
              "outlinewidth": 0,
              "ticks": ""
             }
            },
            "type": "scatterpolar"
           }
          ],
          "scatterpolargl": [
           {
            "marker": {
             "colorbar": {
              "outlinewidth": 0,
              "ticks": ""
             }
            },
            "type": "scatterpolargl"
           }
          ],
          "scatterternary": [
           {
            "marker": {
             "colorbar": {
              "outlinewidth": 0,
              "ticks": ""
             }
            },
            "type": "scatterternary"
           }
          ],
          "surface": [
           {
            "colorbar": {
             "outlinewidth": 0,
             "ticks": ""
            },
            "colorscale": [
             [
              0,
              "#0d0887"
             ],
             [
              0.1111111111111111,
              "#46039f"
             ],
             [
              0.2222222222222222,
              "#7201a8"
             ],
             [
              0.3333333333333333,
              "#9c179e"
             ],
             [
              0.4444444444444444,
              "#bd3786"
             ],
             [
              0.5555555555555556,
              "#d8576b"
             ],
             [
              0.6666666666666666,
              "#ed7953"
             ],
             [
              0.7777777777777778,
              "#fb9f3a"
             ],
             [
              0.8888888888888888,
              "#fdca26"
             ],
             [
              1,
              "#f0f921"
             ]
            ],
            "type": "surface"
           }
          ],
          "table": [
           {
            "cells": {
             "fill": {
              "color": "#EBF0F8"
             },
             "line": {
              "color": "white"
             }
            },
            "header": {
             "fill": {
              "color": "#C8D4E3"
             },
             "line": {
              "color": "white"
             }
            },
            "type": "table"
           }
          ]
         },
         "layout": {
          "annotationdefaults": {
           "arrowcolor": "#2a3f5f",
           "arrowhead": 0,
           "arrowwidth": 1
          },
          "autotypenumbers": "strict",
          "coloraxis": {
           "colorbar": {
            "outlinewidth": 0,
            "ticks": ""
           }
          },
          "colorscale": {
           "diverging": [
            [
             0,
             "#8e0152"
            ],
            [
             0.1,
             "#c51b7d"
            ],
            [
             0.2,
             "#de77ae"
            ],
            [
             0.3,
             "#f1b6da"
            ],
            [
             0.4,
             "#fde0ef"
            ],
            [
             0.5,
             "#f7f7f7"
            ],
            [
             0.6,
             "#e6f5d0"
            ],
            [
             0.7,
             "#b8e186"
            ],
            [
             0.8,
             "#7fbc41"
            ],
            [
             0.9,
             "#4d9221"
            ],
            [
             1,
             "#276419"
            ]
           ],
           "sequential": [
            [
             0,
             "#0d0887"
            ],
            [
             0.1111111111111111,
             "#46039f"
            ],
            [
             0.2222222222222222,
             "#7201a8"
            ],
            [
             0.3333333333333333,
             "#9c179e"
            ],
            [
             0.4444444444444444,
             "#bd3786"
            ],
            [
             0.5555555555555556,
             "#d8576b"
            ],
            [
             0.6666666666666666,
             "#ed7953"
            ],
            [
             0.7777777777777778,
             "#fb9f3a"
            ],
            [
             0.8888888888888888,
             "#fdca26"
            ],
            [
             1,
             "#f0f921"
            ]
           ],
           "sequentialminus": [
            [
             0,
             "#0d0887"
            ],
            [
             0.1111111111111111,
             "#46039f"
            ],
            [
             0.2222222222222222,
             "#7201a8"
            ],
            [
             0.3333333333333333,
             "#9c179e"
            ],
            [
             0.4444444444444444,
             "#bd3786"
            ],
            [
             0.5555555555555556,
             "#d8576b"
            ],
            [
             0.6666666666666666,
             "#ed7953"
            ],
            [
             0.7777777777777778,
             "#fb9f3a"
            ],
            [
             0.8888888888888888,
             "#fdca26"
            ],
            [
             1,
             "#f0f921"
            ]
           ]
          },
          "colorway": [
           "#636efa",
           "#EF553B",
           "#00cc96",
           "#ab63fa",
           "#FFA15A",
           "#19d3f3",
           "#FF6692",
           "#B6E880",
           "#FF97FF",
           "#FECB52"
          ],
          "font": {
           "color": "#2a3f5f"
          },
          "geo": {
           "bgcolor": "white",
           "lakecolor": "white",
           "landcolor": "#E5ECF6",
           "showlakes": true,
           "showland": true,
           "subunitcolor": "white"
          },
          "hoverlabel": {
           "align": "left"
          },
          "hovermode": "closest",
          "mapbox": {
           "style": "light"
          },
          "paper_bgcolor": "white",
          "plot_bgcolor": "#E5ECF6",
          "polar": {
           "angularaxis": {
            "gridcolor": "white",
            "linecolor": "white",
            "ticks": ""
           },
           "bgcolor": "#E5ECF6",
           "radialaxis": {
            "gridcolor": "white",
            "linecolor": "white",
            "ticks": ""
           }
          },
          "scene": {
           "xaxis": {
            "backgroundcolor": "#E5ECF6",
            "gridcolor": "white",
            "gridwidth": 2,
            "linecolor": "white",
            "showbackground": true,
            "ticks": "",
            "zerolinecolor": "white"
           },
           "yaxis": {
            "backgroundcolor": "#E5ECF6",
            "gridcolor": "white",
            "gridwidth": 2,
            "linecolor": "white",
            "showbackground": true,
            "ticks": "",
            "zerolinecolor": "white"
           },
           "zaxis": {
            "backgroundcolor": "#E5ECF6",
            "gridcolor": "white",
            "gridwidth": 2,
            "linecolor": "white",
            "showbackground": true,
            "ticks": "",
            "zerolinecolor": "white"
           }
          },
          "shapedefaults": {
           "line": {
            "color": "#2a3f5f"
           }
          },
          "ternary": {
           "aaxis": {
            "gridcolor": "white",
            "linecolor": "white",
            "ticks": ""
           },
           "baxis": {
            "gridcolor": "white",
            "linecolor": "white",
            "ticks": ""
           },
           "bgcolor": "#E5ECF6",
           "caxis": {
            "gridcolor": "white",
            "linecolor": "white",
            "ticks": ""
           }
          },
          "title": {
           "x": 0.05
          },
          "xaxis": {
           "automargin": true,
           "gridcolor": "white",
           "linecolor": "white",
           "ticks": "",
           "title": {
            "standoff": 15
           },
           "zerolinecolor": "white",
           "zerolinewidth": 2
          },
          "yaxis": {
           "automargin": true,
           "gridcolor": "white",
           "linecolor": "white",
           "ticks": "",
           "title": {
            "standoff": 15
           },
           "zerolinecolor": "white",
           "zerolinewidth": 2
          }
         }
        },
        "title": {
         "text": "Total Sales per Platform per Year"
        },
        "xaxis": {
         "anchor": "y",
         "domain": [
          0,
          1
         ],
         "title": {
          "text": "Release Year"
         }
        },
        "yaxis": {
         "anchor": "x",
         "domain": [
          0,
          1
         ],
         "title": {
          "text": "Total Sales (in millions)"
         }
        }
       }
      }
     },
     "metadata": {},
     "output_type": "display_data"
    }
   ],
   "source": [
    "# Checking platforms that used to be popular but now have no sales.\n",
    "# How long does it take for new platforms to appear and old ones to disappear?\n",
    "\n",
    "# Group by platform and year_of_release\n",
    "sales_by_platform_per_year = (\n",
    "  df.groupby(['platform', 'year_of_release'])['total_sales']\n",
    "  .sum()\n",
    "  .reset_index()\n",
    ")\n",
    "print(sales_by_platform_per_year)\n",
    "\n",
    "# Creating an interative plot of lines\n",
    "fig = px.line(\n",
    "    sales_by_platform_per_year, \n",
    "    x = 'year_of_release', \n",
    "    y = 'total_sales',\n",
    "    color = 'platform',\n",
    "    title = 'Total Sales per Platform per Year',\n",
    "    labels = {'year_of_release': 'Release Year', 'total_sales': 'Total Sales (in millions)'}\n",
    ")\n",
    "\n",
    "# Showing the plot\n",
    "fig.show()"
   ]
  },
  {
   "cell_type": "markdown",
   "metadata": {},
   "source": [
    "#### Comments: \n",
    "1. Based on visual analysis, the platforms 'NES', 'SNES', and '2600' seems the most popular in the past few years, but are no longer popular in recent years.\n",
    "2. The platforms mentioned lasted about 10 years.\n",
    "3. The platforms 'PS2', 'X360', and 'PS3' (popular after 2000) took about 10 years to appear and disappear, and about every 5 years a new platform is released."
   ]
  },
  {
   "cell_type": "markdown",
   "metadata": {},
   "source": [
    "### Determining a period for data analysis to build a model for 2017\n",
    "In the fast-paced gaming industry, avoiding longer periods is important, as we may end up tracking outdated trends. Therefore, is was chosen a period of 3 years, between 2014 to 2016.  "
   ]
  },
  {
   "cell_type": "code",
   "execution_count": 1154,
   "metadata": {},
   "outputs": [
    {
     "data": {
      "text/html": [
       "<div>\n",
       "<style scoped>\n",
       "    .dataframe tbody tr th:only-of-type {\n",
       "        vertical-align: middle;\n",
       "    }\n",
       "\n",
       "    .dataframe tbody tr th {\n",
       "        vertical-align: top;\n",
       "    }\n",
       "\n",
       "    .dataframe thead th {\n",
       "        text-align: right;\n",
       "    }\n",
       "</style>\n",
       "<table border=\"1\" class=\"dataframe\">\n",
       "  <thead>\n",
       "    <tr style=\"text-align: right;\">\n",
       "      <th></th>\n",
       "      <th>index</th>\n",
       "      <th>name</th>\n",
       "      <th>platform</th>\n",
       "      <th>year_of_release</th>\n",
       "      <th>genre</th>\n",
       "      <th>na_sales</th>\n",
       "      <th>eu_sales</th>\n",
       "      <th>jp_sales</th>\n",
       "      <th>other_sales</th>\n",
       "      <th>critic_score</th>\n",
       "      <th>user_score</th>\n",
       "      <th>rating</th>\n",
       "      <th>total_sales</th>\n",
       "    </tr>\n",
       "  </thead>\n",
       "  <tbody>\n",
       "    <tr>\n",
       "      <th>0</th>\n",
       "      <td>31</td>\n",
       "      <td>Call of Duty: Black Ops 3</td>\n",
       "      <td>PS4</td>\n",
       "      <td>2015</td>\n",
       "      <td>Shooter</td>\n",
       "      <td>6.03</td>\n",
       "      <td>5.86</td>\n",
       "      <td>0.36</td>\n",
       "      <td>2.38</td>\n",
       "      <td>NaN</td>\n",
       "      <td>NaN</td>\n",
       "      <td>NaN</td>\n",
       "      <td>14.63</td>\n",
       "    </tr>\n",
       "    <tr>\n",
       "      <th>1</th>\n",
       "      <td>42</td>\n",
       "      <td>Grand Theft Auto V</td>\n",
       "      <td>PS4</td>\n",
       "      <td>2014</td>\n",
       "      <td>Action</td>\n",
       "      <td>3.96</td>\n",
       "      <td>6.31</td>\n",
       "      <td>0.38</td>\n",
       "      <td>1.97</td>\n",
       "      <td>97.0</td>\n",
       "      <td>8.3</td>\n",
       "      <td>M</td>\n",
       "      <td>12.62</td>\n",
       "    </tr>\n",
       "    <tr>\n",
       "      <th>2</th>\n",
       "      <td>47</td>\n",
       "      <td>Pokemon Omega Ruby/Pokemon Alpha Sapphire</td>\n",
       "      <td>3DS</td>\n",
       "      <td>2014</td>\n",
       "      <td>Role-Playing</td>\n",
       "      <td>4.35</td>\n",
       "      <td>3.49</td>\n",
       "      <td>3.10</td>\n",
       "      <td>0.74</td>\n",
       "      <td>NaN</td>\n",
       "      <td>NaN</td>\n",
       "      <td>NaN</td>\n",
       "      <td>11.68</td>\n",
       "    </tr>\n",
       "    <tr>\n",
       "      <th>3</th>\n",
       "      <td>77</td>\n",
       "      <td>FIFA 16</td>\n",
       "      <td>PS4</td>\n",
       "      <td>2015</td>\n",
       "      <td>Sports</td>\n",
       "      <td>1.12</td>\n",
       "      <td>6.12</td>\n",
       "      <td>0.06</td>\n",
       "      <td>1.28</td>\n",
       "      <td>82.0</td>\n",
       "      <td>4.3</td>\n",
       "      <td>E</td>\n",
       "      <td>8.58</td>\n",
       "    </tr>\n",
       "    <tr>\n",
       "      <th>4</th>\n",
       "      <td>87</td>\n",
       "      <td>Star Wars Battlefront (2015)</td>\n",
       "      <td>PS4</td>\n",
       "      <td>2015</td>\n",
       "      <td>Shooter</td>\n",
       "      <td>2.99</td>\n",
       "      <td>3.49</td>\n",
       "      <td>0.22</td>\n",
       "      <td>1.28</td>\n",
       "      <td>NaN</td>\n",
       "      <td>NaN</td>\n",
       "      <td>NaN</td>\n",
       "      <td>7.98</td>\n",
       "    </tr>\n",
       "    <tr>\n",
       "      <th>...</th>\n",
       "      <td>...</td>\n",
       "      <td>...</td>\n",
       "      <td>...</td>\n",
       "      <td>...</td>\n",
       "      <td>...</td>\n",
       "      <td>...</td>\n",
       "      <td>...</td>\n",
       "      <td>...</td>\n",
       "      <td>...</td>\n",
       "      <td>...</td>\n",
       "      <td>...</td>\n",
       "      <td>...</td>\n",
       "      <td>...</td>\n",
       "    </tr>\n",
       "    <tr>\n",
       "      <th>1684</th>\n",
       "      <td>16703</td>\n",
       "      <td>Strawberry Nauts</td>\n",
       "      <td>PSV</td>\n",
       "      <td>2016</td>\n",
       "      <td>Adventure</td>\n",
       "      <td>0.00</td>\n",
       "      <td>0.00</td>\n",
       "      <td>0.01</td>\n",
       "      <td>0.00</td>\n",
       "      <td>NaN</td>\n",
       "      <td>NaN</td>\n",
       "      <td>NaN</td>\n",
       "      <td>0.01</td>\n",
       "    </tr>\n",
       "    <tr>\n",
       "      <th>1685</th>\n",
       "      <td>16707</td>\n",
       "      <td>Aiyoku no Eustia</td>\n",
       "      <td>PSV</td>\n",
       "      <td>2014</td>\n",
       "      <td>Misc</td>\n",
       "      <td>0.00</td>\n",
       "      <td>0.00</td>\n",
       "      <td>0.01</td>\n",
       "      <td>0.00</td>\n",
       "      <td>NaN</td>\n",
       "      <td>NaN</td>\n",
       "      <td>NaN</td>\n",
       "      <td>0.01</td>\n",
       "    </tr>\n",
       "    <tr>\n",
       "      <th>1686</th>\n",
       "      <td>16710</td>\n",
       "      <td>Samurai Warriors: Sanada Maru</td>\n",
       "      <td>PS3</td>\n",
       "      <td>2016</td>\n",
       "      <td>Action</td>\n",
       "      <td>0.00</td>\n",
       "      <td>0.00</td>\n",
       "      <td>0.01</td>\n",
       "      <td>0.00</td>\n",
       "      <td>NaN</td>\n",
       "      <td>NaN</td>\n",
       "      <td>NaN</td>\n",
       "      <td>0.01</td>\n",
       "    </tr>\n",
       "    <tr>\n",
       "      <th>1687</th>\n",
       "      <td>16712</td>\n",
       "      <td>Haitaka no Psychedelica</td>\n",
       "      <td>PSV</td>\n",
       "      <td>2016</td>\n",
       "      <td>Adventure</td>\n",
       "      <td>0.00</td>\n",
       "      <td>0.00</td>\n",
       "      <td>0.01</td>\n",
       "      <td>0.00</td>\n",
       "      <td>NaN</td>\n",
       "      <td>NaN</td>\n",
       "      <td>NaN</td>\n",
       "      <td>0.01</td>\n",
       "    </tr>\n",
       "    <tr>\n",
       "      <th>1688</th>\n",
       "      <td>16714</td>\n",
       "      <td>Winning Post 8 2016</td>\n",
       "      <td>PSV</td>\n",
       "      <td>2016</td>\n",
       "      <td>Simulation</td>\n",
       "      <td>0.00</td>\n",
       "      <td>0.00</td>\n",
       "      <td>0.01</td>\n",
       "      <td>0.00</td>\n",
       "      <td>NaN</td>\n",
       "      <td>NaN</td>\n",
       "      <td>NaN</td>\n",
       "      <td>0.01</td>\n",
       "    </tr>\n",
       "  </tbody>\n",
       "</table>\n",
       "<p>1689 rows × 13 columns</p>\n",
       "</div>"
      ],
      "text/plain": [
       "      index                                       name platform  \\\n",
       "0        31                  Call of Duty: Black Ops 3      PS4   \n",
       "1        42                         Grand Theft Auto V      PS4   \n",
       "2        47  Pokemon Omega Ruby/Pokemon Alpha Sapphire      3DS   \n",
       "3        77                                    FIFA 16      PS4   \n",
       "4        87               Star Wars Battlefront (2015)      PS4   \n",
       "...     ...                                        ...      ...   \n",
       "1684  16703                           Strawberry Nauts      PSV   \n",
       "1685  16707                           Aiyoku no Eustia      PSV   \n",
       "1686  16710              Samurai Warriors: Sanada Maru      PS3   \n",
       "1687  16712                    Haitaka no Psychedelica      PSV   \n",
       "1688  16714                        Winning Post 8 2016      PSV   \n",
       "\n",
       "      year_of_release         genre  na_sales  eu_sales  jp_sales  \\\n",
       "0                2015       Shooter      6.03      5.86      0.36   \n",
       "1                2014        Action      3.96      6.31      0.38   \n",
       "2                2014  Role-Playing      4.35      3.49      3.10   \n",
       "3                2015        Sports      1.12      6.12      0.06   \n",
       "4                2015       Shooter      2.99      3.49      0.22   \n",
       "...               ...           ...       ...       ...       ...   \n",
       "1684             2016     Adventure      0.00      0.00      0.01   \n",
       "1685             2014          Misc      0.00      0.00      0.01   \n",
       "1686             2016        Action      0.00      0.00      0.01   \n",
       "1687             2016     Adventure      0.00      0.00      0.01   \n",
       "1688             2016    Simulation      0.00      0.00      0.01   \n",
       "\n",
       "      other_sales  critic_score  user_score rating  total_sales  \n",
       "0            2.38           NaN         NaN    NaN        14.63  \n",
       "1            1.97          97.0         8.3      M        12.62  \n",
       "2            0.74           NaN         NaN    NaN        11.68  \n",
       "3            1.28          82.0         4.3      E         8.58  \n",
       "4            1.28           NaN         NaN    NaN         7.98  \n",
       "...           ...           ...         ...    ...          ...  \n",
       "1684         0.00           NaN         NaN    NaN         0.01  \n",
       "1685         0.00           NaN         NaN    NaN         0.01  \n",
       "1686         0.00           NaN         NaN    NaN         0.01  \n",
       "1687         0.00           NaN         NaN    NaN         0.01  \n",
       "1688         0.00           NaN         NaN    NaN         0.01  \n",
       "\n",
       "[1689 rows x 13 columns]"
      ]
     },
     "execution_count": 1154,
     "metadata": {},
     "output_type": "execute_result"
    }
   ],
   "source": [
    "# Create a new dataframe from the original one with data from 2014 \n",
    "filtered_df = df[df['year_of_release'] >= 2014].reset_index()\n",
    "\n",
    "# Showing the result\n",
    "filtered_df"
   ]
  },
  {
   "cell_type": "markdown",
   "metadata": {},
   "source": [
    "### Best selling platforms\n",
    "- Which platforms are leading in sales?\n",
    "- Which are growing or declining?\n",
    "- Select several potentially profitable platforms."
   ]
  },
  {
   "cell_type": "code",
   "execution_count": 1155,
   "metadata": {},
   "outputs": [
    {
     "name": "stdout",
     "output_type": "stream",
     "text": [
      "platform\n",
      "PS4     288.15\n",
      "XOne    140.36\n",
      "3DS      86.68\n",
      "PS3      68.18\n",
      "X360     48.22\n",
      "WiiU     42.98\n",
      "PC       27.05\n",
      "PSV      22.40\n",
      "Wii       5.07\n",
      "PSP       0.36\n",
      "Name: total_sales, dtype: float64\n",
      "   platform  year_of_release  total_sales\n",
      "0       3DS             2014        43.76\n",
      "1       3DS             2015        27.78\n",
      "2       3DS             2016        15.14\n",
      "3       PS3             2014        47.76\n",
      "4       PS3             2015        16.82\n",
      "5       PS3             2016         3.60\n",
      "6       PS4             2014       100.00\n",
      "7       PS4             2015       118.90\n",
      "8       PS4             2016        69.25\n",
      "9      X360             2014        34.74\n",
      "10     X360             2015        11.96\n",
      "11     X360             2016         1.52\n",
      "12     XOne             2014        54.07\n",
      "13     XOne             2015        60.14\n",
      "14     XOne             2016        26.15\n"
     ]
    },
    {
     "data": {
      "application/vnd.plotly.v1+json": {
       "config": {
        "plotlyServerURL": "https://plot.ly"
       },
       "data": [
        {
         "hovertemplate": "platform=3DS<br>Year=%{x}<br>Total Sales (in millions)=%{y}<extra></extra>",
         "legendgroup": "3DS",
         "line": {
          "color": "#636efa",
          "dash": "solid"
         },
         "marker": {
          "symbol": "circle"
         },
         "mode": "lines+markers",
         "name": "3DS",
         "orientation": "v",
         "showlegend": true,
         "type": "scatter",
         "x": [
          2014,
          2015,
          2016
         ],
         "xaxis": "x",
         "y": [
          43.76,
          27.78,
          15.14
         ],
         "yaxis": "y"
        },
        {
         "hovertemplate": "platform=PS3<br>Year=%{x}<br>Total Sales (in millions)=%{y}<extra></extra>",
         "legendgroup": "PS3",
         "line": {
          "color": "#EF553B",
          "dash": "solid"
         },
         "marker": {
          "symbol": "circle"
         },
         "mode": "lines+markers",
         "name": "PS3",
         "orientation": "v",
         "showlegend": true,
         "type": "scatter",
         "x": [
          2014,
          2015,
          2016
         ],
         "xaxis": "x",
         "y": [
          47.760000000000005,
          16.82,
          3.6
         ],
         "yaxis": "y"
        },
        {
         "hovertemplate": "platform=PS4<br>Year=%{x}<br>Total Sales (in millions)=%{y}<extra></extra>",
         "legendgroup": "PS4",
         "line": {
          "color": "#00cc96",
          "dash": "solid"
         },
         "marker": {
          "symbol": "circle"
         },
         "mode": "lines+markers",
         "name": "PS4",
         "orientation": "v",
         "showlegend": true,
         "type": "scatter",
         "x": [
          2014,
          2015,
          2016
         ],
         "xaxis": "x",
         "y": [
          100,
          118.9,
          69.25
         ],
         "yaxis": "y"
        },
        {
         "hovertemplate": "platform=X360<br>Year=%{x}<br>Total Sales (in millions)=%{y}<extra></extra>",
         "legendgroup": "X360",
         "line": {
          "color": "#ab63fa",
          "dash": "solid"
         },
         "marker": {
          "symbol": "circle"
         },
         "mode": "lines+markers",
         "name": "X360",
         "orientation": "v",
         "showlegend": true,
         "type": "scatter",
         "x": [
          2014,
          2015,
          2016
         ],
         "xaxis": "x",
         "y": [
          34.74,
          11.959999999999999,
          1.52
         ],
         "yaxis": "y"
        },
        {
         "hovertemplate": "platform=XOne<br>Year=%{x}<br>Total Sales (in millions)=%{y}<extra></extra>",
         "legendgroup": "XOne",
         "line": {
          "color": "#FFA15A",
          "dash": "solid"
         },
         "marker": {
          "symbol": "circle"
         },
         "mode": "lines+markers",
         "name": "XOne",
         "orientation": "v",
         "showlegend": true,
         "type": "scatter",
         "x": [
          2014,
          2015,
          2016
         ],
         "xaxis": "x",
         "y": [
          54.07,
          60.14,
          26.150000000000002
         ],
         "yaxis": "y"
        }
       ],
       "layout": {
        "height": 600,
        "legend": {
         "title": {
          "text": "platform"
         },
         "tracegroupgap": 0
        },
        "template": {
         "data": {
          "bar": [
           {
            "error_x": {
             "color": "#2a3f5f"
            },
            "error_y": {
             "color": "#2a3f5f"
            },
            "marker": {
             "line": {
              "color": "#E5ECF6",
              "width": 0.5
             },
             "pattern": {
              "fillmode": "overlay",
              "size": 10,
              "solidity": 0.2
             }
            },
            "type": "bar"
           }
          ],
          "barpolar": [
           {
            "marker": {
             "line": {
              "color": "#E5ECF6",
              "width": 0.5
             },
             "pattern": {
              "fillmode": "overlay",
              "size": 10,
              "solidity": 0.2
             }
            },
            "type": "barpolar"
           }
          ],
          "carpet": [
           {
            "aaxis": {
             "endlinecolor": "#2a3f5f",
             "gridcolor": "white",
             "linecolor": "white",
             "minorgridcolor": "white",
             "startlinecolor": "#2a3f5f"
            },
            "baxis": {
             "endlinecolor": "#2a3f5f",
             "gridcolor": "white",
             "linecolor": "white",
             "minorgridcolor": "white",
             "startlinecolor": "#2a3f5f"
            },
            "type": "carpet"
           }
          ],
          "choropleth": [
           {
            "colorbar": {
             "outlinewidth": 0,
             "ticks": ""
            },
            "type": "choropleth"
           }
          ],
          "contour": [
           {
            "colorbar": {
             "outlinewidth": 0,
             "ticks": ""
            },
            "colorscale": [
             [
              0,
              "#0d0887"
             ],
             [
              0.1111111111111111,
              "#46039f"
             ],
             [
              0.2222222222222222,
              "#7201a8"
             ],
             [
              0.3333333333333333,
              "#9c179e"
             ],
             [
              0.4444444444444444,
              "#bd3786"
             ],
             [
              0.5555555555555556,
              "#d8576b"
             ],
             [
              0.6666666666666666,
              "#ed7953"
             ],
             [
              0.7777777777777778,
              "#fb9f3a"
             ],
             [
              0.8888888888888888,
              "#fdca26"
             ],
             [
              1,
              "#f0f921"
             ]
            ],
            "type": "contour"
           }
          ],
          "contourcarpet": [
           {
            "colorbar": {
             "outlinewidth": 0,
             "ticks": ""
            },
            "type": "contourcarpet"
           }
          ],
          "heatmap": [
           {
            "colorbar": {
             "outlinewidth": 0,
             "ticks": ""
            },
            "colorscale": [
             [
              0,
              "#0d0887"
             ],
             [
              0.1111111111111111,
              "#46039f"
             ],
             [
              0.2222222222222222,
              "#7201a8"
             ],
             [
              0.3333333333333333,
              "#9c179e"
             ],
             [
              0.4444444444444444,
              "#bd3786"
             ],
             [
              0.5555555555555556,
              "#d8576b"
             ],
             [
              0.6666666666666666,
              "#ed7953"
             ],
             [
              0.7777777777777778,
              "#fb9f3a"
             ],
             [
              0.8888888888888888,
              "#fdca26"
             ],
             [
              1,
              "#f0f921"
             ]
            ],
            "type": "heatmap"
           }
          ],
          "heatmapgl": [
           {
            "colorbar": {
             "outlinewidth": 0,
             "ticks": ""
            },
            "colorscale": [
             [
              0,
              "#0d0887"
             ],
             [
              0.1111111111111111,
              "#46039f"
             ],
             [
              0.2222222222222222,
              "#7201a8"
             ],
             [
              0.3333333333333333,
              "#9c179e"
             ],
             [
              0.4444444444444444,
              "#bd3786"
             ],
             [
              0.5555555555555556,
              "#d8576b"
             ],
             [
              0.6666666666666666,
              "#ed7953"
             ],
             [
              0.7777777777777778,
              "#fb9f3a"
             ],
             [
              0.8888888888888888,
              "#fdca26"
             ],
             [
              1,
              "#f0f921"
             ]
            ],
            "type": "heatmapgl"
           }
          ],
          "histogram": [
           {
            "marker": {
             "pattern": {
              "fillmode": "overlay",
              "size": 10,
              "solidity": 0.2
             }
            },
            "type": "histogram"
           }
          ],
          "histogram2d": [
           {
            "colorbar": {
             "outlinewidth": 0,
             "ticks": ""
            },
            "colorscale": [
             [
              0,
              "#0d0887"
             ],
             [
              0.1111111111111111,
              "#46039f"
             ],
             [
              0.2222222222222222,
              "#7201a8"
             ],
             [
              0.3333333333333333,
              "#9c179e"
             ],
             [
              0.4444444444444444,
              "#bd3786"
             ],
             [
              0.5555555555555556,
              "#d8576b"
             ],
             [
              0.6666666666666666,
              "#ed7953"
             ],
             [
              0.7777777777777778,
              "#fb9f3a"
             ],
             [
              0.8888888888888888,
              "#fdca26"
             ],
             [
              1,
              "#f0f921"
             ]
            ],
            "type": "histogram2d"
           }
          ],
          "histogram2dcontour": [
           {
            "colorbar": {
             "outlinewidth": 0,
             "ticks": ""
            },
            "colorscale": [
             [
              0,
              "#0d0887"
             ],
             [
              0.1111111111111111,
              "#46039f"
             ],
             [
              0.2222222222222222,
              "#7201a8"
             ],
             [
              0.3333333333333333,
              "#9c179e"
             ],
             [
              0.4444444444444444,
              "#bd3786"
             ],
             [
              0.5555555555555556,
              "#d8576b"
             ],
             [
              0.6666666666666666,
              "#ed7953"
             ],
             [
              0.7777777777777778,
              "#fb9f3a"
             ],
             [
              0.8888888888888888,
              "#fdca26"
             ],
             [
              1,
              "#f0f921"
             ]
            ],
            "type": "histogram2dcontour"
           }
          ],
          "mesh3d": [
           {
            "colorbar": {
             "outlinewidth": 0,
             "ticks": ""
            },
            "type": "mesh3d"
           }
          ],
          "parcoords": [
           {
            "line": {
             "colorbar": {
              "outlinewidth": 0,
              "ticks": ""
             }
            },
            "type": "parcoords"
           }
          ],
          "pie": [
           {
            "automargin": true,
            "type": "pie"
           }
          ],
          "scatter": [
           {
            "fillpattern": {
             "fillmode": "overlay",
             "size": 10,
             "solidity": 0.2
            },
            "type": "scatter"
           }
          ],
          "scatter3d": [
           {
            "line": {
             "colorbar": {
              "outlinewidth": 0,
              "ticks": ""
             }
            },
            "marker": {
             "colorbar": {
              "outlinewidth": 0,
              "ticks": ""
             }
            },
            "type": "scatter3d"
           }
          ],
          "scattercarpet": [
           {
            "marker": {
             "colorbar": {
              "outlinewidth": 0,
              "ticks": ""
             }
            },
            "type": "scattercarpet"
           }
          ],
          "scattergeo": [
           {
            "marker": {
             "colorbar": {
              "outlinewidth": 0,
              "ticks": ""
             }
            },
            "type": "scattergeo"
           }
          ],
          "scattergl": [
           {
            "marker": {
             "colorbar": {
              "outlinewidth": 0,
              "ticks": ""
             }
            },
            "type": "scattergl"
           }
          ],
          "scattermapbox": [
           {
            "marker": {
             "colorbar": {
              "outlinewidth": 0,
              "ticks": ""
             }
            },
            "type": "scattermapbox"
           }
          ],
          "scatterpolar": [
           {
            "marker": {
             "colorbar": {
              "outlinewidth": 0,
              "ticks": ""
             }
            },
            "type": "scatterpolar"
           }
          ],
          "scatterpolargl": [
           {
            "marker": {
             "colorbar": {
              "outlinewidth": 0,
              "ticks": ""
             }
            },
            "type": "scatterpolargl"
           }
          ],
          "scatterternary": [
           {
            "marker": {
             "colorbar": {
              "outlinewidth": 0,
              "ticks": ""
             }
            },
            "type": "scatterternary"
           }
          ],
          "surface": [
           {
            "colorbar": {
             "outlinewidth": 0,
             "ticks": ""
            },
            "colorscale": [
             [
              0,
              "#0d0887"
             ],
             [
              0.1111111111111111,
              "#46039f"
             ],
             [
              0.2222222222222222,
              "#7201a8"
             ],
             [
              0.3333333333333333,
              "#9c179e"
             ],
             [
              0.4444444444444444,
              "#bd3786"
             ],
             [
              0.5555555555555556,
              "#d8576b"
             ],
             [
              0.6666666666666666,
              "#ed7953"
             ],
             [
              0.7777777777777778,
              "#fb9f3a"
             ],
             [
              0.8888888888888888,
              "#fdca26"
             ],
             [
              1,
              "#f0f921"
             ]
            ],
            "type": "surface"
           }
          ],
          "table": [
           {
            "cells": {
             "fill": {
              "color": "#EBF0F8"
             },
             "line": {
              "color": "white"
             }
            },
            "header": {
             "fill": {
              "color": "#C8D4E3"
             },
             "line": {
              "color": "white"
             }
            },
            "type": "table"
           }
          ]
         },
         "layout": {
          "annotationdefaults": {
           "arrowcolor": "#2a3f5f",
           "arrowhead": 0,
           "arrowwidth": 1
          },
          "autotypenumbers": "strict",
          "coloraxis": {
           "colorbar": {
            "outlinewidth": 0,
            "ticks": ""
           }
          },
          "colorscale": {
           "diverging": [
            [
             0,
             "#8e0152"
            ],
            [
             0.1,
             "#c51b7d"
            ],
            [
             0.2,
             "#de77ae"
            ],
            [
             0.3,
             "#f1b6da"
            ],
            [
             0.4,
             "#fde0ef"
            ],
            [
             0.5,
             "#f7f7f7"
            ],
            [
             0.6,
             "#e6f5d0"
            ],
            [
             0.7,
             "#b8e186"
            ],
            [
             0.8,
             "#7fbc41"
            ],
            [
             0.9,
             "#4d9221"
            ],
            [
             1,
             "#276419"
            ]
           ],
           "sequential": [
            [
             0,
             "#0d0887"
            ],
            [
             0.1111111111111111,
             "#46039f"
            ],
            [
             0.2222222222222222,
             "#7201a8"
            ],
            [
             0.3333333333333333,
             "#9c179e"
            ],
            [
             0.4444444444444444,
             "#bd3786"
            ],
            [
             0.5555555555555556,
             "#d8576b"
            ],
            [
             0.6666666666666666,
             "#ed7953"
            ],
            [
             0.7777777777777778,
             "#fb9f3a"
            ],
            [
             0.8888888888888888,
             "#fdca26"
            ],
            [
             1,
             "#f0f921"
            ]
           ],
           "sequentialminus": [
            [
             0,
             "#0d0887"
            ],
            [
             0.1111111111111111,
             "#46039f"
            ],
            [
             0.2222222222222222,
             "#7201a8"
            ],
            [
             0.3333333333333333,
             "#9c179e"
            ],
            [
             0.4444444444444444,
             "#bd3786"
            ],
            [
             0.5555555555555556,
             "#d8576b"
            ],
            [
             0.6666666666666666,
             "#ed7953"
            ],
            [
             0.7777777777777778,
             "#fb9f3a"
            ],
            [
             0.8888888888888888,
             "#fdca26"
            ],
            [
             1,
             "#f0f921"
            ]
           ]
          },
          "colorway": [
           "#636efa",
           "#EF553B",
           "#00cc96",
           "#ab63fa",
           "#FFA15A",
           "#19d3f3",
           "#FF6692",
           "#B6E880",
           "#FF97FF",
           "#FECB52"
          ],
          "font": {
           "color": "#2a3f5f"
          },
          "geo": {
           "bgcolor": "white",
           "lakecolor": "white",
           "landcolor": "#E5ECF6",
           "showlakes": true,
           "showland": true,
           "subunitcolor": "white"
          },
          "hoverlabel": {
           "align": "left"
          },
          "hovermode": "closest",
          "mapbox": {
           "style": "light"
          },
          "paper_bgcolor": "white",
          "plot_bgcolor": "#E5ECF6",
          "polar": {
           "angularaxis": {
            "gridcolor": "white",
            "linecolor": "white",
            "ticks": ""
           },
           "bgcolor": "#E5ECF6",
           "radialaxis": {
            "gridcolor": "white",
            "linecolor": "white",
            "ticks": ""
           }
          },
          "scene": {
           "xaxis": {
            "backgroundcolor": "#E5ECF6",
            "gridcolor": "white",
            "gridwidth": 2,
            "linecolor": "white",
            "showbackground": true,
            "ticks": "",
            "zerolinecolor": "white"
           },
           "yaxis": {
            "backgroundcolor": "#E5ECF6",
            "gridcolor": "white",
            "gridwidth": 2,
            "linecolor": "white",
            "showbackground": true,
            "ticks": "",
            "zerolinecolor": "white"
           },
           "zaxis": {
            "backgroundcolor": "#E5ECF6",
            "gridcolor": "white",
            "gridwidth": 2,
            "linecolor": "white",
            "showbackground": true,
            "ticks": "",
            "zerolinecolor": "white"
           }
          },
          "shapedefaults": {
           "line": {
            "color": "#2a3f5f"
           }
          },
          "ternary": {
           "aaxis": {
            "gridcolor": "white",
            "linecolor": "white",
            "ticks": ""
           },
           "baxis": {
            "gridcolor": "white",
            "linecolor": "white",
            "ticks": ""
           },
           "bgcolor": "#E5ECF6",
           "caxis": {
            "gridcolor": "white",
            "linecolor": "white",
            "ticks": ""
           }
          },
          "title": {
           "x": 0.05
          },
          "xaxis": {
           "automargin": true,
           "gridcolor": "white",
           "linecolor": "white",
           "ticks": "",
           "title": {
            "standoff": 15
           },
           "zerolinecolor": "white",
           "zerolinewidth": 2
          },
          "yaxis": {
           "automargin": true,
           "gridcolor": "white",
           "linecolor": "white",
           "ticks": "",
           "title": {
            "standoff": 15
           },
           "zerolinecolor": "white",
           "zerolinewidth": 2
          }
         }
        },
        "title": {
         "text": "Potentially Lucrative Platforms Between 2014-2016: Total Sales per Year"
        },
        "width": 900,
        "xaxis": {
         "anchor": "y",
         "domain": [
          0,
          1
         ],
         "dtick": 1,
         "range": [
          2014,
          2016
         ],
         "tickmode": "linear",
         "title": {
          "text": "Year"
         }
        },
        "yaxis": {
         "anchor": "x",
         "domain": [
          0,
          1
         ],
         "title": {
          "text": "Total Sales (in millions)"
         }
        }
       }
      }
     },
     "metadata": {},
     "output_type": "display_data"
    }
   ],
   "source": [
    "# Group the dataframe filtered_df by platform, sum the total_sales per platform and sort the results\n",
    "grouped_platforms = (\n",
    "  filtered_df\n",
    "  .groupby('platform')['total_sales']\n",
    "  .sum()\n",
    "  .sort_values(ascending = False)\n",
    ")\n",
    "\n",
    "# Showing the results\n",
    "print(grouped_platforms)\n",
    "\n",
    "# Selecting pottentially lucrative platforms in the period\n",
    "potentially_lucrative = (\n",
    " filtered_df[filtered_df['platform'].isin(['PS4', 'XOne', '3DS', 'PS3', 'X360'])]\n",
    " .groupby(['platform', 'year_of_release'])['total_sales']\n",
    " .sum()\n",
    " .reset_index()\n",
    ")\n",
    "\n",
    "# Showing the results\n",
    "print(potentially_lucrative)\n",
    "\n",
    "# Creating an interative plot of lines\n",
    "fig = px.line(\n",
    "    potentially_lucrative, \n",
    "    x = 'year_of_release', \n",
    "    y = 'total_sales',\n",
    "    color = 'platform',\n",
    "    title = 'Potentially Lucrative Platforms Between 2014-2016: Total Sales per Year',\n",
    "    labels = {'year_of_release': 'Year', 'total_sales': 'Total Sales (in millions)'},\n",
    "    markers = True\n",
    ")\n",
    "\n",
    "# Improving layout\n",
    "fig.update_layout(\n",
    "    width = 900,  # Plot width\n",
    "    height = 600,  # Plot height\n",
    "    xaxis = dict (\n",
    "        tickmode = 'linear',\n",
    "        dtick = 1,  # Defining 1 year interval at X-axis\n",
    "        range = [2014, 2016],  # Limiting X-axis\n",
    "    ),\n",
    ")\n",
    "\n",
    "# Showing the plot\n",
    "fig.show()"
   ]
  },
  {
   "cell_type": "markdown",
   "metadata": {},
   "source": [
    "### Comments:\n",
    "- The leading platforms during the period of 2014 to 2016 were 'PS4', 'XOne', '3DS', 'PS3', 'X360'. PS4 and XOne were the only ones showing increasing trends between 2014 and 2015, and then decreasing from 2015 to 2016. The others showed decreasing trends of sales in all period. "
   ]
  },
  {
   "cell_type": "markdown",
   "metadata": {},
   "source": [
    "### Global sales per platform"
   ]
  },
  {
   "cell_type": "code",
   "execution_count": 1156,
   "metadata": {},
   "outputs": [
    {
     "data": {
      "image/png": "[encoded data removed]",
      "text/plain": [
       "<Figure size 1200x600 with 1 Axes>"
      ]
     },
     "metadata": {},
     "output_type": "display_data"
    },
    {
     "data": {
      "text/plain": [
       "platform\n",
       "PS4     96.050000\n",
       "XOne    46.786667\n",
       "3DS     28.893333\n",
       "PS3     22.726667\n",
       "X360    16.073333\n",
       "Name: total_sales, dtype: float64"
      ]
     },
     "execution_count": 1156,
     "metadata": {},
     "output_type": "execute_result"
    }
   ],
   "source": [
    "# 1. Building a boxplot for global sales by platform, considering the 5 recent potentially profitable platforms\n",
    "# Adjusting the plot size \n",
    "plt.figure(figsize=(12, 6))\n",
    "\n",
    "# Plotting\n",
    "sns.boxplot(\n",
    " x = potentially_lucrative['platform'],\n",
    " y = potentially_lucrative['total_sales'],\n",
    " data = df\n",
    ")\n",
    "\n",
    "# Showing the result\n",
    "plt.show()\n",
    "\n",
    "\n",
    "# 2. Calculating the average of annual sales per platform\n",
    "mean_potential_lucrative = (\n",
    " potentially_lucrative\n",
    " .groupby(['platform'])['total_sales']\n",
    " .mean()\n",
    " .sort_values(ascending = False)\n",
    ")\n",
    "\n",
    "# Showing the result\n",
    "mean_potential_lucrative"
   ]
  },
  {
   "cell_type": "markdown",
   "metadata": {},
   "source": [
    "### Comments\n",
    "1. It was built a boxplot for the global sales by platform. \n",
    "2. The top 5 best-selling platforms between 2014 and 2016 had very different results. \n",
    "3. The average of annual sales of 'PS4' platform is about twice than the 'XOne' platform'."
   ]
  },
  {
   "cell_type": "markdown",
   "metadata": {},
   "source": [
    "### Professional and Users Rates vs Sales"
   ]
  },
  {
   "cell_type": "code",
   "execution_count": 1157,
   "metadata": {},
   "outputs": [
    {
     "data": {
      "image/png": "[encoded data removed]",
      "text/plain": [
       "<Figure size 1000x600 with 1 Axes>"
      ]
     },
     "metadata": {},
     "output_type": "display_data"
    },
    {
     "data": {
      "image/png": "[encoded data removed]",
      "text/plain": [
       "<Figure size 1000x600 with 1 Axes>"
      ]
     },
     "metadata": {},
     "output_type": "display_data"
    },
    {
     "name": "stdout",
     "output_type": "stream",
     "text": [
      "The correlation between User Score and Total Sales is -0.03\n",
      "The correlation between Critic Score and Total Sales is 0.41\n"
     ]
    }
   ],
   "source": [
    "# 1. Creating a dataframe with data of PS4 platform\n",
    "df_PS4 = df[df['platform'] == 'PS4']\n",
    "\n",
    "# Showing the dataframe\n",
    "df_PS4.head()\n",
    "\n",
    "# 2. Creating a scatter plot for user_score vs total_sales\n",
    "# Buiding the plot\n",
    "plt.figure(figsize=(10, 6)) \n",
    "sns.scatterplot(x = 'user_score', y = 'total_sales', data = df_PS4)\n",
    "\n",
    "# Adding title and labels to axes\n",
    "plt.title('User Score vs Total Sales (PS4)')\n",
    "plt.xlabel('Users Score')\n",
    "plt.ylabel('Total Sales (in millions)')\n",
    "\n",
    "# Showing the plot\n",
    "plt.tight_layout()\n",
    "plt.show()\n",
    "\n",
    "\n",
    "# 3. Creating a scatter plot for critic_score vs total_sales\n",
    "# Buiding the plot\n",
    "plt.figure(figsize=(10, 6)) \n",
    "sns.scatterplot(x = 'critic_score', y = 'total_sales', data = df_PS4)\n",
    "\n",
    "# Adding title and labels to axes\n",
    "plt.title('Critic Score vs Total Sales (PS4)')\n",
    "plt.xlabel('Critic Score')\n",
    "plt.ylabel('Total Sales (in millions)')\n",
    "\n",
    "# Showing the plot\n",
    "plt.tight_layout()\n",
    "plt.show()\n",
    "\n",
    "\n",
    "# 4. Calculating the correlation user_score vs total_sales\n",
    "correlation = df_PS4['user_score'].corr(df_PS4['total_sales'])\n",
    "print(f'The correlation between User Score and Total Sales is {correlation:.2f}')\n",
    "\n",
    "# 5. Calculating the correlation critic_score vs total_sales\n",
    "correlation = df_PS4['critic_score'].corr(df_PS4['total_sales'])\n",
    "print(f'The correlation between Critic Score and Total Sales is {correlation:.2f}')"
   ]
  },
  {
   "cell_type": "markdown",
   "metadata": {},
   "source": [
    "### Comments:\n",
    "Based on the visual analysis of the plots and the correlations calcs, the scores do not influence significantly the sales of the platform 'PS4'. However, the critic scores is about 3 times more important than the users scores in terms of total sales. "
   ]
  },
  {
   "cell_type": "code",
   "execution_count": 1158,
   "metadata": {},
   "outputs": [
    {
     "name": "stdout",
     "output_type": "stream",
     "text": [
      "For XOne platform, the correlation between Critic Score and Total Sales is  0.42\n",
      "For XOne platform, the correlation between User Score and Total Sales is -0.07\n",
      "For X360 platform, the correlation between Critic Score and Total Sales is  0.39\n",
      "For X360 platform, the correlation between User Score and Total Sales is 0.11\n"
     ]
    }
   ],
   "source": [
    "# Calculating correlations to other platforms \n",
    "\n",
    "# 1. Creating a dataframe with data of XOne\n",
    "df_XOne = df[df['platform'] == 'XOne']\n",
    "\n",
    "# 2. Calculating the correlation critic_score vs total_sales\n",
    "correlation = df_XOne['critic_score'].corr(df_XOne['total_sales'])\n",
    "print(f'For XOne platform, the correlation between Critic Score and Total Sales is  {correlation:.2f}')\n",
    "\n",
    "# 3. Calculating the correlation user_score vs total_sales\n",
    "correlation = df_XOne['user_score'].corr(df_XOne['total_sales'])\n",
    "print(f'For XOne platform, the correlation between User Score and Total Sales is {correlation:.2f}')\n",
    "\n",
    "# 4. Creating a dataframe with data of 3DS\n",
    "df_X360 = df[df['platform'] == 'X360']\n",
    "\n",
    "# 5. Calculating the correlation critic_score vs total_sales\n",
    "correlation = df_X360['critic_score'].corr(df_X360['total_sales'])\n",
    "print(f'For X360 platform, the correlation between Critic Score and Total Sales is  {correlation:.2f}')\n",
    "\n",
    "# 6. Calculating the correlation user_score vs total_sales\n",
    "correlation = df_X360['user_score'].corr(df_X360['total_sales'])\n",
    "print(f'For X360 platform, the correlation between User Score and Total Sales is {correlation:.2f}')"
   ]
  },
  {
   "cell_type": "markdown",
   "metadata": {},
   "source": [
    "### Comments\n",
    "The correlactions for XOne and X360 follow the same trend than the ones of PS4 platform: critic scores have more influence in sales, than users scores. "
   ]
  },
  {
   "cell_type": "markdown",
   "metadata": {},
   "source": [
    "### Games genre analysis "
   ]
  },
  {
   "cell_type": "code",
   "execution_count": 1159,
   "metadata": {},
   "outputs": [
    {
     "data": {
      "text/html": [
       "<div>\n",
       "<style scoped>\n",
       "    .dataframe tbody tr th:only-of-type {\n",
       "        vertical-align: middle;\n",
       "    }\n",
       "\n",
       "    .dataframe tbody tr th {\n",
       "        vertical-align: top;\n",
       "    }\n",
       "\n",
       "    .dataframe thead th {\n",
       "        text-align: right;\n",
       "    }\n",
       "</style>\n",
       "<table border=\"1\" class=\"dataframe\">\n",
       "  <thead>\n",
       "    <tr style=\"text-align: right;\">\n",
       "      <th></th>\n",
       "      <th>genre</th>\n",
       "      <th>total_sales</th>\n",
       "      <th>games_count</th>\n",
       "    </tr>\n",
       "  </thead>\n",
       "  <tbody>\n",
       "    <tr>\n",
       "      <th>0</th>\n",
       "      <td>Action</td>\n",
       "      <td>1716.52</td>\n",
       "      <td>3307</td>\n",
       "    </tr>\n",
       "    <tr>\n",
       "      <th>1</th>\n",
       "      <td>Sports</td>\n",
       "      <td>1309.67</td>\n",
       "      <td>2306</td>\n",
       "    </tr>\n",
       "    <tr>\n",
       "      <th>2</th>\n",
       "      <td>Shooter</td>\n",
       "      <td>1041.36</td>\n",
       "      <td>1296</td>\n",
       "    </tr>\n",
       "    <tr>\n",
       "      <th>3</th>\n",
       "      <td>Role-Playing</td>\n",
       "      <td>931.08</td>\n",
       "      <td>1481</td>\n",
       "    </tr>\n",
       "    <tr>\n",
       "      <th>4</th>\n",
       "      <td>Platform</td>\n",
       "      <td>825.55</td>\n",
       "      <td>878</td>\n",
       "    </tr>\n",
       "    <tr>\n",
       "      <th>5</th>\n",
       "      <td>Misc</td>\n",
       "      <td>790.29</td>\n",
       "      <td>1721</td>\n",
       "    </tr>\n",
       "    <tr>\n",
       "      <th>6</th>\n",
       "      <td>Racing</td>\n",
       "      <td>723.49</td>\n",
       "      <td>1226</td>\n",
       "    </tr>\n",
       "    <tr>\n",
       "      <th>7</th>\n",
       "      <td>Fighting</td>\n",
       "      <td>442.66</td>\n",
       "      <td>837</td>\n",
       "    </tr>\n",
       "    <tr>\n",
       "      <th>8</th>\n",
       "      <td>Simulation</td>\n",
       "      <td>387.96</td>\n",
       "      <td>857</td>\n",
       "    </tr>\n",
       "    <tr>\n",
       "      <th>9</th>\n",
       "      <td>Puzzle</td>\n",
       "      <td>239.89</td>\n",
       "      <td>569</td>\n",
       "    </tr>\n",
       "    <tr>\n",
       "      <th>10</th>\n",
       "      <td>Adventure</td>\n",
       "      <td>233.33</td>\n",
       "      <td>1293</td>\n",
       "    </tr>\n",
       "    <tr>\n",
       "      <th>11</th>\n",
       "      <td>Strategy</td>\n",
       "      <td>172.57</td>\n",
       "      <td>673</td>\n",
       "    </tr>\n",
       "  </tbody>\n",
       "</table>\n",
       "</div>"
      ],
      "text/plain": [
       "           genre  total_sales  games_count\n",
       "0         Action      1716.52         3307\n",
       "1         Sports      1309.67         2306\n",
       "2        Shooter      1041.36         1296\n",
       "3   Role-Playing       931.08         1481\n",
       "4       Platform       825.55          878\n",
       "5           Misc       790.29         1721\n",
       "6         Racing       723.49         1226\n",
       "7       Fighting       442.66          837\n",
       "8     Simulation       387.96          857\n",
       "9         Puzzle       239.89          569\n",
       "10     Adventure       233.33         1293\n",
       "11      Strategy       172.57          673"
      ]
     },
     "execution_count": 1159,
     "metadata": {},
     "output_type": "execute_result"
    }
   ],
   "source": [
    "# Games per genre calculation\n",
    "games_per_genre = (\n",
    "  df['genre']\n",
    "  .value_counts()\n",
    "  .reset_index()\n",
    ")\n",
    "\n",
    "# Renaming columns\n",
    "games_per_genre.columns = ['genre', 'games_count']\n",
    "\n",
    "# Grouping dataframe by genre\n",
    "sales_per_genre = (\n",
    "  df\n",
    "  .groupby(['genre'])\n",
    "  .agg(\n",
    "    total_sales = pd.NamedAgg(column = 'total_sales', aggfunc = 'sum')\n",
    "  )\n",
    "  .reset_index()\n",
    "  .sort_values(by = 'total_sales', ascending = False)\n",
    ")\n",
    "\n",
    "# Mergind data\n",
    "merged_genre_df = (\n",
    "  sales_per_genre\n",
    "  .merge(\n",
    "    games_per_genre,\n",
    "    on = 'genre',\n",
    "    how = 'left'\n",
    "  )\n",
    ")\n",
    "\n",
    "# Showing results\n",
    "merged_genre_df\n"
   ]
  },
  {
   "cell_type": "markdown",
   "metadata": {},
   "source": [
    "### Comments\n",
    "The two most profitable genres, action and sports, have the largest number of games. For the other genres, this relationship is not straightforward."
   ]
  },
  {
   "cell_type": "markdown",
   "metadata": {},
   "source": [
    "### Region analysis"
   ]
  },
  {
   "cell_type": "code",
   "execution_count": 1160,
   "metadata": {},
   "outputs": [
    {
     "name": "stdout",
     "output_type": "stream",
     "text": [
      "The top 5 platforms in North America, in terms of sales, are: \n",
      "  platform  na_sales\n",
      "0     X360    595.74\n",
      "1      PS2    572.92\n",
      "2      Wii    486.87\n",
      "3      PS3    390.13\n",
      "4       DS    380.31\n",
      "The top 5 platforms in Europe, in terms of sales, are: \n",
      "  platform  eu_sales\n",
      "0      PS2    332.63\n",
      "1      PS3    327.21\n",
      "2     X360    268.32\n",
      "3      Wii    258.32\n",
      "4       PS    212.39\n",
      "The top 5 platforms in Japan, in terms of sales, are: \n",
      "  platform  jp_sales\n",
      "0       DS    175.02\n",
      "1       PS    139.78\n",
      "2      PS2    137.54\n",
      "3     SNES    116.55\n",
      "4      3DS    100.62\n",
      "The top 5 platforms in Other regions, in terms of sales, are: \n",
      "  platform  other_sales\n",
      "0      PS2       190.47\n",
      "1      PS3       134.59\n",
      "2     X360        84.88\n",
      "3      Wii        77.71\n",
      "4       DS        59.04\n"
     ]
    }
   ],
   "source": [
    "# Function to determine the top platforms of each region\n",
    "def top_platforms_by_region(df, sales_column, region_name):\n",
    "    \"\"\"\n",
    "    Function to determine the top 5 sales platforms in a specific region.\n",
    "    \n",
    "    Args:\n",
    "        df: DataFrame containing the sales data\n",
    "        sales_column: Name of the sales column for the region\n",
    "        region_name: Name of the region for the output title\n",
    "        \n",
    "    Returns:\n",
    "        DataFrame of the top 5 platforms.\n",
    "    \"\"\"\n",
    "    \n",
    "    sales_per_platform = (\n",
    "        df.groupby('platform')[sales_column]\n",
    "        .sum()\n",
    "        .reset_index()\n",
    "    )\n",
    "    top5_platforms = (\n",
    "        sales_per_platform\n",
    "        .nlargest(5, sales_column)\n",
    "        .reset_index(drop=True)\n",
    "    )\n",
    "    print(f'The top 5 platforms in {region_name}, in terms of sales, are: ')\n",
    "    print(top5_platforms)\n",
    "    return \n",
    "\n",
    "# Calling function for each region\n",
    "top_platforms_by_region(df, 'na_sales', 'North America')\n",
    "top_platforms_by_region(df, 'eu_sales', 'Europe')\n",
    "top_platforms_by_region(df, 'jp_sales', 'Japan')\n",
    "top_platforms_by_region(df, 'other_sales', 'Other regions')"
   ]
  },
  {
   "cell_type": "markdown",
   "metadata": {},
   "source": [
    "### Comments\n",
    "1. Overall, the sales of the top 5 platforms in North America are almost double the sales amounts of the top 5 platforms in Europe, which are almost double the sales amounts of the top 5 platforms in Japan.\n",
    "2. There are differences of the preferenced platforms at each region, but PS2 is the one present in the top 5 of all regions."
   ]
  },
  {
   "cell_type": "code",
   "execution_count": 1161,
   "metadata": {},
   "outputs": [
    {
     "name": "stdout",
     "output_type": "stream",
     "text": [
      "The top 5 genres in North America, in terms of sales, are: \n",
      "      genre  na_sales\n",
      "0    Action    863.17\n",
      "1    Sports    671.20\n",
      "2   Shooter    584.83\n",
      "3  Platform    444.44\n",
      "4      Misc    399.57\n",
      "The top 5 genres in Europe, in terms of sales, are: \n",
      "     genre  eu_sales\n",
      "0   Action    510.99\n",
      "1   Sports    371.33\n",
      "2  Shooter    314.52\n",
      "3   Racing    234.49\n",
      "4     Misc    210.60\n",
      "The top 5 genres in Japan, in terms of sales, are: \n",
      "          genre  jp_sales\n",
      "0  Role-Playing    353.39\n",
      "1        Action    160.14\n",
      "2        Sports    134.93\n",
      "3      Platform    130.71\n",
      "4          Misc    107.02\n",
      "The top 5 genres in Other regions, in terms of sales, are: \n",
      "     genre  other_sales\n",
      "0   Action       182.22\n",
      "1   Sports       132.21\n",
      "2  Shooter       103.33\n",
      "3   Racing        75.51\n",
      "4     Misc        73.10\n"
     ]
    }
   ],
   "source": [
    "# Function to determine the top 5 games genres of each region\n",
    "def top_genres_by_region(df, sales_column, region_name):\n",
    "    \"\"\"\n",
    "    Function to determine the top 5 sales genres in a specific region.\n",
    "    \n",
    "    Args:\n",
    "        df: DataFrame containing the sales data\n",
    "        sales_column: Name of the sales column for the region\n",
    "        region_name: Name of the region for the output title\n",
    "        \n",
    "    Returns:\n",
    "        The top 5 genres.\n",
    "    \"\"\"\n",
    "    \n",
    "    sales_per_genre = (\n",
    "        df\n",
    "        .groupby('genre')[sales_column]\n",
    "        .sum()\n",
    "        .reset_index()\n",
    "    )\n",
    "\n",
    "    top5_genres = (\n",
    "        sales_per_genre\n",
    "        .nlargest(5, sales_column)\n",
    "        .reset_index(drop=True)\n",
    "    )\n",
    "    print(f'The top 5 genres in {region_name}, in terms of sales, are: ')\n",
    "    print(top5_genres)\n",
    "    return \n",
    "\n",
    "# Calling function for each region\n",
    "top_genres_by_region(df, 'na_sales', 'North America')\n",
    "top_genres_by_region(df, 'eu_sales', 'Europe')\n",
    "top_genres_by_region(df, 'jp_sales', 'Japan')\n",
    "top_genres_by_region(df, 'other_sales', 'Other regions')"
   ]
  },
  {
   "cell_type": "markdown",
   "metadata": {},
   "source": [
    "### Comments\n",
    "1. The top 5 genres in North America, Europe and Other Regions are similar. The top 3 genres are Action, Sports and Shooter. The variations are in the fourth positions, varying between Platform and Racing. \n",
    "2. The fifth position are the same for all, with the platform Misc.  \n",
    "3. In all regions, the Action, Sports and Misc genres are popular."
   ]
  },
  {
   "cell_type": "markdown",
   "metadata": {},
   "source": [
    "## ESRB Classification analysis"
   ]
  },
  {
   "cell_type": "code",
   "execution_count": 1162,
   "metadata": {},
   "outputs": [
    {
     "name": "stdout",
     "output_type": "stream",
     "text": [
      "The top 5 ESRB classification in North America, in terms of sales, are: \n",
      "  rating  na_sales\n",
      "0      E   1274.24\n",
      "1      T    747.60\n",
      "2      M    742.89\n",
      "3   E10+    345.50\n",
      "4    K-A      2.56\n",
      "The top 5 ESRB classification in Europe, in terms of sales, are: \n",
      "  rating  eu_sales\n",
      "0      E    703.87\n",
      "1      M    480.00\n",
      "2      T    421.79\n",
      "3   E10+    183.35\n",
      "4     AO      0.61\n",
      "The top 5 ESRB classification in Japan, in terms of sales, are: \n",
      "  rating  jp_sales\n",
      "0      E    197.96\n",
      "1      T    150.70\n",
      "2      M     63.58\n",
      "3   E10+     40.20\n",
      "4    K-A      1.46\n",
      "The top 5 ESRB classification in Other regions, in terms of sales, are: \n",
      "  rating  other_sales\n",
      "0      E       231.54\n",
      "1      M       176.06\n",
      "2      T       152.99\n",
      "3   E10+        71.93\n",
      "4     EC         0.11\n"
     ]
    }
   ],
   "source": [
    "# Function to determine the top 5 ESRB classification of each region\n",
    "def top_class_by_region(df, sales_column, region_name):\n",
    "    \"\"\"\n",
    "    Function to determine the top 5 ESRB classification in a specific region.\n",
    "    \n",
    "    Args:\n",
    "        df: DataFrame containing the sales data\n",
    "        sales_column: Name of the sales column for the region\n",
    "        region_name: Name of the region for the output title\n",
    "        \n",
    "    Returns:\n",
    "        The top 5 ESRB classification.\n",
    "    \"\"\"\n",
    "    \n",
    "    sales_per_class = (\n",
    "        df\n",
    "        .groupby('rating')[sales_column]\n",
    "        .sum()\n",
    "        .reset_index()\n",
    "    )\n",
    "\n",
    "    top5_class = (\n",
    "        sales_per_class\n",
    "        .nlargest(5, sales_column)\n",
    "        .reset_index(drop=True)\n",
    "    )\n",
    "    print(f'The top 5 ESRB classification in {region_name}, in terms of sales, are: ')\n",
    "    print(top5_class)\n",
    "    return \n",
    "\n",
    "# Calling function for each region\n",
    "top_class_by_region(df, 'na_sales', 'North America')\n",
    "top_class_by_region(df, 'eu_sales', 'Europe')\n",
    "top_class_by_region(df, 'jp_sales', 'Japan')\n",
    "top_class_by_region(df, 'other_sales', 'Other regions')\n",
    "\n"
   ]
  },
  {
   "cell_type": "markdown",
   "metadata": {},
   "source": [
    "### Comments\n",
    "1. The ESRB classification seems to affect the sales per region. \n",
    "2. The top 4 classifications are the same in all regions. \n",
    "3. The fifth position represents a very small percentage of the total sales in all regions. "
   ]
  },
  {
   "cell_type": "markdown",
   "metadata": {},
   "source": [
    "## Hypothesis Tests - Student's t-test"
   ]
  },
  {
   "cell_type": "markdown",
   "metadata": {},
   "source": [
    "### Test 1: The average user ratings for \"Xbox One\" and \"PC\" platforms are the same"
   ]
  },
  {
   "cell_type": "code",
   "execution_count": 1163,
   "metadata": {},
   "outputs": [
    {
     "name": "stdout",
     "output_type": "stream",
     "text": [
      "For Xbox One users, the Mean of the ratings is 6.52 and the Variance is 1.91\n",
      "For PC users, the Mean of the ratings is 7.07 and the Variance is 2.35\n",
      "P-Value: 0.00\n",
      "We reject the null hypothesis: The mean ratings of users on the Xbox One and PC platforms are different.\n"
     ]
    }
   ],
   "source": [
    "\"\"\"\n",
    "The null hypothesis (H0) will be: \"The average ratings of users on the Xbox One and PC platforms are the same.\"\n",
    "The alternative hypothesis will be: \"The average ratings of users on the Xbox One and PC platforms are different.\"\n",
    "The alpha threshold will be: 0.05\n",
    "\"\"\"\n",
    "\n",
    "# Filtering data per platform and removing NaNs\n",
    "xone_scores = df[df['platform'] == \"XOne\"]['user_score'].dropna()\n",
    "pc_scores = df[df['platform'] == \"PC\"]['user_score'].dropna()\n",
    "\n",
    "# Calculating the mean and variance (for refernece only)\n",
    "xone_mean_user_score = xone_scores.mean()\n",
    "xone_var_user_score = xone_scores.var()\n",
    "\n",
    "pc_mean_user_score = pc_scores.mean()\n",
    "pc_var_user_score = pc_scores.var()\n",
    "\n",
    "print(f'For Xbox One users, the Mean of the ratings is {xone_mean_user_score:.2f} and the Variance is {xone_var_user_score:.2f}')\n",
    "print(f'For PC users, the Mean of the ratings is {pc_mean_user_score:.2f} and the Variance is {pc_var_user_score:.2f}')\n",
    "\n",
    "# Critical statistical significance (threshold)\n",
    "alpha = 0.05\n",
    "\n",
    "# Student's t-test for two independent samples. Use equal_var=False for unequal variances\n",
    "result_1 = st.ttest_ind(xone_scores, pc_scores, equal_var = False)\n",
    "\n",
    "# Print resulting p-value\n",
    "print(f'P-Value: {result_1.pvalue:.2f}')\n",
    "\n",
    "# Comparing P-Value and threshold and print conclusion\n",
    "if result_1.pvalue < alpha:\n",
    "    print(\"We reject the null hypothesis: The mean ratings of users on the Xbox One and PC platforms are different.\")\n",
    "else:\n",
    "    print(\"We cannot reject the null hypothesis: The mean ratings of users on the Xbox One and PC platforms are the same.\")"
   ]
  },
  {
   "cell_type": "markdown",
   "metadata": {},
   "source": [
    "### Test 2: Average user ratings for the Action and Sports genres are different"
   ]
  },
  {
   "cell_type": "code",
   "execution_count": 1164,
   "metadata": {},
   "outputs": [
    {
     "name": "stdout",
     "output_type": "stream",
     "text": [
      "For the Action genre, the Mean of the ratings is 7.06 and the Variance is 2.03\n",
      "For the Sports genre, the Mean of the ratings is 6.95 and the Variance is 2.62\n",
      "P-Value: 0.07\n",
      "We cannot reject the null hypothesis: The mean user ratings for the Action and Sports genres are the same.\n"
     ]
    }
   ],
   "source": [
    "\"\"\"\n",
    "The null hypothesis (H0) will be: \"The average user ratings for the Action and Sports genres are the same.\"\n",
    "The alternative hypothesis will be: \"The average user ratings for the Action and Sports genres are different.\"\n",
    "The alpha threshold will be: 0.05\n",
    "\"\"\"\n",
    "\n",
    "# Filtering data per genre and removing NaNs\n",
    "action_scores = df[df['genre'] == \"Action\"]['user_score'].dropna()\n",
    "sports_scores = df[df['genre'] == \"Sports\"]['user_score'].dropna()\n",
    "\n",
    "# Calculating the mean and variance (for refernece only)\n",
    "action_mean_user_score = action_scores.mean()\n",
    "action_var_user_score = action_scores.var()\n",
    "\n",
    "sports_mean_user_score = sports_scores.mean()\n",
    "sports_var_user_score = sports_scores.var()\n",
    "\n",
    "print(f'For the Action genre, the Mean of the ratings is {action_mean_user_score:.2f} and the Variance is {action_var_user_score:.2f}')\n",
    "print(f'For the Sports genre, the Mean of the ratings is {sports_mean_user_score:.2f} and the Variance is {sports_var_user_score:.2f}')\n",
    "\n",
    "# Critical statistical significance (threshold)\n",
    "alpha = 0.05\n",
    "\n",
    "# Student's t-test for two independent samples. Use equal_var=False for unequal variances\n",
    "result_2 = st.ttest_ind(action_scores, sports_scores, equal_var = False)\n",
    "\n",
    "# Printing p-value \n",
    "print(f'P-Value: {result_2.pvalue:.2f}')\n",
    "\n",
    "# Comparing P-Value and threshold and print conclusion\n",
    "if result_2.pvalue < alpha:\n",
    "    print(\"We reject the null hypothesis: The mean user ratings for the Action and Sports genres are different.\")\n",
    "else:\n",
    "    print(\"We cannot reject the null hypothesis: The mean user ratings for the Action and Sports genres are the same.\")"
   ]
  },
  {
   "cell_type": "markdown",
   "metadata": {},
   "source": [
    "### Comments\n",
    "For reference:\n",
    "1. The null hypothesis were formulated assuming that there is no effect or difference between the study conditions. The alternative hypothesis were one in which there is an effect or difference.\n",
    "2. To test the hypotheses, the Student's t-test for independent samples was used. This test is appropriate when we want to compare the means of two groups and we have continuous data that may follow a normal distribution.\n",
    "3. Equal Variance: equal_var = False was used, which is appropriate when the variances of the groups may be different (assuming that the data do not follow a normal distribution).\n",
    "4. Statistical significance (alpha): the probability of rejecting the null hypothesis when it is true. The value means that a 5% chance of making a Type I error (rejecting the null hypothesis when it is true) is accepted. \n",
    "5. P-value: is the probability of observing the collected data (or something more extreme) under the assumption that the null hypothesis is true. If the p-value obtained from the test is less than the significance level, we reject the null hypothesis. Otherwise, we do not have enough evidence to reject it."
   ]
  }
 ],
 "metadata": {
  "ExecuteTimeLog": [
   {
    "duration": 158,
    "start_time": "2024-10-06T16:06:06.204Z"
   },
   {
    "duration": 13,
    "start_time": "2024-10-06T16:06:23.512Z"
   },
   {
    "duration": 6,
    "start_time": "2024-10-06T16:06:28.217Z"
   },
   {
    "duration": 12,
    "start_time": "2024-10-06T16:06:28.629Z"
   },
   {
    "duration": 12,
    "start_time": "2024-10-06T16:06:29.161Z"
   },
   {
    "duration": 12,
    "start_time": "2024-10-06T16:06:29.544Z"
   },
   {
    "duration": 12,
    "start_time": "2024-10-06T16:06:29.911Z"
   },
   {
    "duration": 13,
    "start_time": "2024-10-06T16:06:30.278Z"
   },
   {
    "duration": 3,
    "start_time": "2024-10-06T16:06:30.478Z"
   },
   {
    "duration": 282,
    "start_time": "2024-10-06T16:06:46.488Z"
   },
   {
    "duration": 51,
    "start_time": "2024-10-06T16:07:17.427Z"
   },
   {
    "duration": 279,
    "start_time": "2024-10-06T16:07:38.401Z"
   },
   {
    "duration": 44,
    "start_time": "2024-10-06T16:07:38.682Z"
   },
   {
    "duration": 4,
    "start_time": "2024-10-06T16:07:38.728Z"
   },
   {
    "duration": 3,
    "start_time": "2024-10-06T16:07:38.735Z"
   },
   {
    "duration": 13,
    "start_time": "2024-10-06T16:07:38.740Z"
   },
   {
    "duration": 17,
    "start_time": "2024-10-06T16:07:38.754Z"
   },
   {
    "duration": 2,
    "start_time": "2024-10-06T16:07:38.773Z"
   },
   {
    "duration": 312,
    "start_time": "2024-10-06T16:19:24.841Z"
   },
   {
    "duration": 38,
    "start_time": "2024-10-06T16:19:25.155Z"
   },
   {
    "duration": 3,
    "start_time": "2024-10-06T16:19:25.195Z"
   },
   {
    "duration": 4,
    "start_time": "2024-10-06T16:19:25.210Z"
   },
   {
    "duration": 13,
    "start_time": "2024-10-06T16:19:25.215Z"
   },
   {
    "duration": 16,
    "start_time": "2024-10-06T16:19:25.230Z"
   },
   {
    "duration": 16,
    "start_time": "2024-10-06T16:19:25.248Z"
   },
   {
    "duration": 354,
    "start_time": "2024-10-06T16:21:18.004Z"
   },
   {
    "duration": 3,
    "start_time": "2024-10-06T16:21:18.361Z"
   },
   {
    "duration": 5,
    "start_time": "2024-10-06T16:21:18.366Z"
   },
   {
    "duration": 13,
    "start_time": "2024-10-06T16:21:18.372Z"
   },
   {
    "duration": 37,
    "start_time": "2024-10-06T16:21:18.387Z"
   },
   {
    "duration": 14,
    "start_time": "2024-10-06T16:21:18.426Z"
   },
   {
    "duration": 318,
    "start_time": "2024-10-06T16:22:12.475Z"
   },
   {
    "duration": 4,
    "start_time": "2024-10-06T16:22:12.795Z"
   },
   {
    "duration": 3,
    "start_time": "2024-10-06T16:22:12.801Z"
   },
   {
    "duration": 13,
    "start_time": "2024-10-06T16:22:12.809Z"
   },
   {
    "duration": 26,
    "start_time": "2024-10-06T16:22:12.823Z"
   },
   {
    "duration": 14,
    "start_time": "2024-10-06T16:22:12.851Z"
   },
   {
    "duration": 4,
    "start_time": "2024-10-06T16:27:13.402Z"
   },
   {
    "duration": 180,
    "start_time": "2024-10-06T16:29:32.570Z"
   },
   {
    "duration": 2112,
    "start_time": "2024-10-06T16:29:41.382Z"
   },
   {
    "duration": 3,
    "start_time": "2024-10-06T16:29:43.497Z"
   },
   {
    "duration": 9,
    "start_time": "2024-10-06T16:29:43.502Z"
   },
   {
    "duration": 12,
    "start_time": "2024-10-06T16:29:43.514Z"
   },
   {
    "duration": 17,
    "start_time": "2024-10-06T16:29:43.528Z"
   },
   {
    "duration": 13,
    "start_time": "2024-10-06T16:29:43.547Z"
   },
   {
    "duration": 339,
    "start_time": "2024-10-06T16:29:43.562Z"
   },
   {
    "duration": 6,
    "start_time": "2024-10-06T16:38:18.026Z"
   },
   {
    "duration": 225,
    "start_time": "2024-10-06T16:39:37.866Z"
   },
   {
    "duration": 6,
    "start_time": "2024-10-06T16:39:45.422Z"
   },
   {
    "duration": 27,
    "start_time": "2024-10-06T16:44:38.902Z"
   },
   {
    "duration": 19,
    "start_time": "2024-10-06T16:45:40.065Z"
   },
   {
    "duration": 7,
    "start_time": "2024-10-06T16:45:52.188Z"
   },
   {
    "duration": 17,
    "start_time": "2024-10-06T16:47:05.852Z"
   },
   {
    "duration": 7,
    "start_time": "2024-10-06T16:47:14.737Z"
   },
   {
    "duration": 11,
    "start_time": "2024-10-06T16:50:51.125Z"
   },
   {
    "duration": 7,
    "start_time": "2024-10-06T16:52:31.406Z"
   },
   {
    "duration": 8,
    "start_time": "2024-10-06T16:54:27.408Z"
   },
   {
    "duration": 17,
    "start_time": "2024-10-06T16:55:47.672Z"
   },
   {
    "duration": 8,
    "start_time": "2024-10-06T16:57:02.722Z"
   },
   {
    "duration": 24,
    "start_time": "2024-10-06T16:58:16.980Z"
   },
   {
    "duration": 13,
    "start_time": "2024-10-06T16:58:41.872Z"
   },
   {
    "duration": 31,
    "start_time": "2024-10-06T17:03:13.755Z"
   },
   {
    "duration": 48,
    "start_time": "2024-10-06T17:03:28.048Z"
   },
   {
    "duration": 21,
    "start_time": "2024-10-06T17:03:39.574Z"
   },
   {
    "duration": 26,
    "start_time": "2024-10-06T17:04:12.925Z"
   },
   {
    "duration": 21,
    "start_time": "2024-10-06T17:05:12.009Z"
   },
   {
    "duration": 283,
    "start_time": "2024-10-06T17:07:52.181Z"
   },
   {
    "duration": 524,
    "start_time": "2024-10-06T17:10:50.362Z"
   },
   {
    "duration": 4,
    "start_time": "2024-10-06T17:10:50.888Z"
   },
   {
    "duration": 15,
    "start_time": "2024-10-06T17:10:50.894Z"
   },
   {
    "duration": 16,
    "start_time": "2024-10-06T17:10:50.911Z"
   },
   {
    "duration": 23,
    "start_time": "2024-10-06T17:10:50.930Z"
   },
   {
    "duration": 20,
    "start_time": "2024-10-06T17:10:50.955Z"
   },
   {
    "duration": 286,
    "start_time": "2024-10-06T17:10:50.978Z"
   },
   {
    "duration": 7,
    "start_time": "2024-10-06T17:10:51.265Z"
   },
   {
    "duration": 285,
    "start_time": "2024-10-06T17:10:51.273Z"
   },
   {
    "duration": 3,
    "start_time": "2024-10-06T17:10:51.559Z"
   },
   {
    "duration": 2,
    "start_time": "2024-10-06T17:10:51.564Z"
   },
   {
    "duration": 3,
    "start_time": "2024-10-06T17:10:51.568Z"
   },
   {
    "duration": 5,
    "start_time": "2024-10-06T17:10:51.572Z"
   },
   {
    "duration": 2,
    "start_time": "2024-10-06T17:10:51.580Z"
   },
   {
    "duration": 25,
    "start_time": "2024-10-06T17:10:51.584Z"
   },
   {
    "duration": 2,
    "start_time": "2024-10-06T17:10:51.611Z"
   },
   {
    "duration": 13,
    "start_time": "2024-10-06T17:11:15.206Z"
   },
   {
    "duration": 532,
    "start_time": "2024-10-06T17:11:28.045Z"
   },
   {
    "duration": 3,
    "start_time": "2024-10-06T17:11:28.579Z"
   },
   {
    "duration": 26,
    "start_time": "2024-10-06T17:11:28.584Z"
   },
   {
    "duration": 14,
    "start_time": "2024-10-06T17:11:28.612Z"
   },
   {
    "duration": 17,
    "start_time": "2024-10-06T17:11:28.627Z"
   },
   {
    "duration": 14,
    "start_time": "2024-10-06T17:11:28.645Z"
   },
   {
    "duration": 307,
    "start_time": "2024-10-06T17:11:28.661Z"
   },
   {
    "duration": 8,
    "start_time": "2024-10-06T17:11:28.970Z"
   },
   {
    "duration": 341,
    "start_time": "2024-10-06T17:11:28.981Z"
   },
   {
    "duration": 3,
    "start_time": "2024-10-06T17:11:29.324Z"
   },
   {
    "duration": 2,
    "start_time": "2024-10-06T17:11:29.328Z"
   },
   {
    "duration": 2,
    "start_time": "2024-10-06T17:11:29.332Z"
   },
   {
    "duration": 2,
    "start_time": "2024-10-06T17:11:29.336Z"
   },
   {
    "duration": 3,
    "start_time": "2024-10-06T17:11:29.339Z"
   },
   {
    "duration": 2,
    "start_time": "2024-10-06T17:11:29.344Z"
   },
   {
    "duration": 3,
    "start_time": "2024-10-06T17:11:29.347Z"
   },
   {
    "duration": 21,
    "start_time": "2024-10-06T17:17:14.339Z"
   },
   {
    "duration": 24,
    "start_time": "2024-10-06T17:19:09.266Z"
   },
   {
    "duration": 266,
    "start_time": "2024-10-06T17:20:23.725Z"
   },
   {
    "duration": 276,
    "start_time": "2024-10-06T17:22:17.271Z"
   },
   {
    "duration": 231,
    "start_time": "2024-10-06T17:23:09.038Z"
   },
   {
    "duration": 10,
    "start_time": "2024-10-06T17:27:17.106Z"
   },
   {
    "duration": 5,
    "start_time": "2024-10-06T17:31:35.643Z"
   },
   {
    "duration": 635,
    "start_time": "2024-10-06T17:31:41.556Z"
   },
   {
    "duration": 12,
    "start_time": "2024-10-06T17:32:19.842Z"
   },
   {
    "duration": 11,
    "start_time": "2024-10-06T17:32:32.781Z"
   },
   {
    "duration": 11,
    "start_time": "2024-10-06T17:37:10.503Z"
   },
   {
    "duration": 10,
    "start_time": "2024-10-06T17:37:28.875Z"
   },
   {
    "duration": 10,
    "start_time": "2024-10-06T17:38:11.314Z"
   },
   {
    "duration": 15,
    "start_time": "2024-10-06T17:38:28.422Z"
   },
   {
    "duration": 12,
    "start_time": "2024-10-06T17:39:04.028Z"
   },
   {
    "duration": 3,
    "start_time": "2024-10-06T17:53:40.739Z"
   },
   {
    "duration": 16,
    "start_time": "2024-10-06T17:57:48.766Z"
   },
   {
    "duration": 8,
    "start_time": "2024-10-06T17:58:05.843Z"
   },
   {
    "duration": 15,
    "start_time": "2024-10-06T17:59:19.442Z"
   },
   {
    "duration": 6,
    "start_time": "2024-10-06T18:01:00.165Z"
   },
   {
    "duration": 16,
    "start_time": "2024-10-06T18:01:12.369Z"
   },
   {
    "duration": 16,
    "start_time": "2024-10-06T18:08:00.850Z"
   },
   {
    "duration": 16,
    "start_time": "2024-10-06T18:08:53.828Z"
   },
   {
    "duration": 17,
    "start_time": "2024-10-06T18:15:28.236Z"
   },
   {
    "duration": 21,
    "start_time": "2024-10-06T18:32:39.267Z"
   },
   {
    "duration": 511,
    "start_time": "2024-10-06T18:44:23.015Z"
   },
   {
    "duration": 3,
    "start_time": "2024-10-06T18:44:23.528Z"
   },
   {
    "duration": 14,
    "start_time": "2024-10-06T18:44:23.533Z"
   },
   {
    "duration": 12,
    "start_time": "2024-10-06T18:44:23.550Z"
   },
   {
    "duration": 16,
    "start_time": "2024-10-06T18:44:23.563Z"
   },
   {
    "duration": 40,
    "start_time": "2024-10-06T18:44:23.581Z"
   },
   {
    "duration": 288,
    "start_time": "2024-10-06T18:44:23.622Z"
   },
   {
    "duration": 6,
    "start_time": "2024-10-06T18:44:23.912Z"
   },
   {
    "duration": 293,
    "start_time": "2024-10-06T18:44:23.920Z"
   },
   {
    "duration": 2,
    "start_time": "2024-10-06T18:44:24.216Z"
   },
   {
    "duration": 3,
    "start_time": "2024-10-06T18:44:24.220Z"
   },
   {
    "duration": 3,
    "start_time": "2024-10-06T18:44:24.224Z"
   },
   {
    "duration": 3,
    "start_time": "2024-10-06T18:44:24.229Z"
   },
   {
    "duration": 3,
    "start_time": "2024-10-06T18:44:24.233Z"
   },
   {
    "duration": 3,
    "start_time": "2024-10-06T18:44:24.237Z"
   },
   {
    "duration": 2,
    "start_time": "2024-10-06T18:44:24.242Z"
   },
   {
    "duration": 3,
    "start_time": "2024-10-06T18:44:24.246Z"
   },
   {
    "duration": 15,
    "start_time": "2024-10-06T18:44:24.250Z"
   },
   {
    "duration": 55,
    "start_time": "2024-10-06T18:44:24.267Z"
   },
   {
    "duration": 17,
    "start_time": "2024-10-06T18:44:24.325Z"
   },
   {
    "duration": 17,
    "start_time": "2024-10-06T18:45:16.863Z"
   },
   {
    "duration": 20,
    "start_time": "2024-10-06T18:45:37.307Z"
   },
   {
    "duration": 21,
    "start_time": "2024-10-06T18:45:46.893Z"
   },
   {
    "duration": 16,
    "start_time": "2024-10-06T18:46:28.956Z"
   },
   {
    "duration": 16,
    "start_time": "2024-10-06T18:46:42.500Z"
   },
   {
    "duration": 19,
    "start_time": "2024-10-06T18:46:52.314Z"
   },
   {
    "duration": 7,
    "start_time": "2024-10-06T19:09:21.791Z"
   },
   {
    "duration": 7,
    "start_time": "2024-10-06T19:09:40.285Z"
   },
   {
    "duration": 7,
    "start_time": "2024-10-06T19:10:04.227Z"
   },
   {
    "duration": 193,
    "start_time": "2024-10-06T19:14:00.945Z"
   },
   {
    "duration": 843,
    "start_time": "2024-10-06T19:14:38.829Z"
   },
   {
    "duration": 3,
    "start_time": "2024-10-06T19:14:39.674Z"
   },
   {
    "duration": 14,
    "start_time": "2024-10-06T19:14:39.679Z"
   },
   {
    "duration": 32,
    "start_time": "2024-10-06T19:14:39.696Z"
   },
   {
    "duration": 24,
    "start_time": "2024-10-06T19:14:39.732Z"
   },
   {
    "duration": 21,
    "start_time": "2024-10-06T19:14:39.758Z"
   },
   {
    "duration": 298,
    "start_time": "2024-10-06T19:14:39.782Z"
   },
   {
    "duration": 7,
    "start_time": "2024-10-06T19:14:40.082Z"
   },
   {
    "duration": 289,
    "start_time": "2024-10-06T19:14:40.090Z"
   },
   {
    "duration": 2,
    "start_time": "2024-10-06T19:14:40.382Z"
   },
   {
    "duration": 3,
    "start_time": "2024-10-06T19:14:40.386Z"
   },
   {
    "duration": 19,
    "start_time": "2024-10-06T19:14:40.390Z"
   },
   {
    "duration": 3,
    "start_time": "2024-10-06T19:14:40.410Z"
   },
   {
    "duration": 2,
    "start_time": "2024-10-06T19:14:40.416Z"
   },
   {
    "duration": 3,
    "start_time": "2024-10-06T19:14:40.420Z"
   },
   {
    "duration": 4,
    "start_time": "2024-10-06T19:14:40.424Z"
   },
   {
    "duration": 3,
    "start_time": "2024-10-06T19:14:40.430Z"
   },
   {
    "duration": 89,
    "start_time": "2024-10-06T19:14:40.434Z"
   },
   {
    "duration": 15,
    "start_time": "2024-10-06T19:14:40.525Z"
   },
   {
    "duration": 16,
    "start_time": "2024-10-06T19:14:40.542Z"
   },
   {
    "duration": 243,
    "start_time": "2024-10-06T19:14:40.559Z"
   },
   {
    "duration": 0,
    "start_time": "2024-10-06T19:14:40.809Z"
   },
   {
    "duration": 9,
    "start_time": "2024-10-06T19:15:24.747Z"
   },
   {
    "duration": 9,
    "start_time": "2024-10-06T19:15:53.806Z"
   },
   {
    "duration": 8,
    "start_time": "2024-10-06T19:21:34.227Z"
   },
   {
    "duration": 10,
    "start_time": "2024-10-06T19:22:36.098Z"
   },
   {
    "duration": 10,
    "start_time": "2024-10-06T19:27:34.644Z"
   },
   {
    "duration": 11,
    "start_time": "2024-10-06T19:29:04.296Z"
   },
   {
    "duration": 855,
    "start_time": "2024-10-06T19:34:48.619Z"
   },
   {
    "duration": 3,
    "start_time": "2024-10-06T19:34:49.476Z"
   },
   {
    "duration": 14,
    "start_time": "2024-10-06T19:34:49.481Z"
   },
   {
    "duration": 22,
    "start_time": "2024-10-06T19:34:49.496Z"
   },
   {
    "duration": 16,
    "start_time": "2024-10-06T19:34:49.521Z"
   },
   {
    "duration": 13,
    "start_time": "2024-10-06T19:34:49.538Z"
   },
   {
    "duration": 295,
    "start_time": "2024-10-06T19:34:49.553Z"
   },
   {
    "duration": 7,
    "start_time": "2024-10-06T19:34:49.850Z"
   },
   {
    "duration": 290,
    "start_time": "2024-10-06T19:34:49.858Z"
   },
   {
    "duration": 2,
    "start_time": "2024-10-06T19:34:50.150Z"
   },
   {
    "duration": 3,
    "start_time": "2024-10-06T19:34:50.154Z"
   },
   {
    "duration": 3,
    "start_time": "2024-10-06T19:34:50.158Z"
   },
   {
    "duration": 3,
    "start_time": "2024-10-06T19:34:50.162Z"
   },
   {
    "duration": 2,
    "start_time": "2024-10-06T19:34:50.169Z"
   },
   {
    "duration": 3,
    "start_time": "2024-10-06T19:34:50.172Z"
   },
   {
    "duration": 33,
    "start_time": "2024-10-06T19:34:50.176Z"
   },
   {
    "duration": 2,
    "start_time": "2024-10-06T19:34:50.211Z"
   },
   {
    "duration": 77,
    "start_time": "2024-10-06T19:34:50.214Z"
   },
   {
    "duration": 25,
    "start_time": "2024-10-06T19:34:50.293Z"
   },
   {
    "duration": 16,
    "start_time": "2024-10-06T19:34:50.320Z"
   },
   {
    "duration": 9,
    "start_time": "2024-10-06T19:34:50.338Z"
   },
   {
    "duration": 10,
    "start_time": "2024-10-06T19:34:50.348Z"
   },
   {
    "duration": 2677,
    "start_time": "2024-10-08T22:36:30.946Z"
   },
   {
    "duration": 5,
    "start_time": "2024-10-08T22:36:33.626Z"
   },
   {
    "duration": 14,
    "start_time": "2024-10-08T22:36:33.633Z"
   },
   {
    "duration": 17,
    "start_time": "2024-10-08T22:36:33.650Z"
   },
   {
    "duration": 18,
    "start_time": "2024-10-08T22:36:33.669Z"
   },
   {
    "duration": 14,
    "start_time": "2024-10-08T22:36:33.711Z"
   },
   {
    "duration": 322,
    "start_time": "2024-10-08T22:36:33.727Z"
   },
   {
    "duration": 8,
    "start_time": "2024-10-08T22:36:34.051Z"
   },
   {
    "duration": 290,
    "start_time": "2024-10-08T22:36:34.061Z"
   },
   {
    "duration": 2,
    "start_time": "2024-10-08T22:36:34.354Z"
   },
   {
    "duration": 4,
    "start_time": "2024-10-08T22:36:34.357Z"
   },
   {
    "duration": 3,
    "start_time": "2024-10-08T22:36:34.363Z"
   },
   {
    "duration": 3,
    "start_time": "2024-10-08T22:36:34.368Z"
   },
   {
    "duration": 3,
    "start_time": "2024-10-08T22:36:34.373Z"
   },
   {
    "duration": 2,
    "start_time": "2024-10-08T22:36:34.378Z"
   },
   {
    "duration": 2,
    "start_time": "2024-10-08T22:36:34.383Z"
   },
   {
    "duration": 2,
    "start_time": "2024-10-08T22:36:34.413Z"
   },
   {
    "duration": 17,
    "start_time": "2024-10-08T22:36:34.417Z"
   },
   {
    "duration": 16,
    "start_time": "2024-10-08T22:36:34.436Z"
   },
   {
    "duration": 15,
    "start_time": "2024-10-08T22:36:34.454Z"
   },
   {
    "duration": 9,
    "start_time": "2024-10-08T22:36:34.471Z"
   },
   {
    "duration": 12,
    "start_time": "2024-10-08T22:36:34.512Z"
   },
   {
    "duration": 433,
    "start_time": "2024-10-08T22:37:48.964Z"
   },
   {
    "duration": 573,
    "start_time": "2024-10-08T22:39:17.783Z"
   },
   {
    "duration": 30,
    "start_time": "2024-10-08T22:46:40.841Z"
   },
   {
    "duration": 574,
    "start_time": "2024-10-08T22:47:17.925Z"
   },
   {
    "duration": 849,
    "start_time": "2024-10-08T22:47:45.610Z"
   },
   {
    "duration": 914,
    "start_time": "2024-10-08T22:47:56.623Z"
   },
   {
    "duration": 730,
    "start_time": "2024-10-08T22:48:19.126Z"
   },
   {
    "duration": 994,
    "start_time": "2024-10-08T22:49:02.823Z"
   },
   {
    "duration": 1031,
    "start_time": "2024-10-08T22:49:12.553Z"
   },
   {
    "duration": 6,
    "start_time": "2024-10-08T22:52:50.741Z"
   },
   {
    "duration": 927,
    "start_time": "2024-10-08T22:53:24.330Z"
   },
   {
    "duration": 329,
    "start_time": "2024-10-08T22:54:11.436Z"
   },
   {
    "duration": 953,
    "start_time": "2024-10-08T22:54:51.438Z"
   },
   {
    "duration": 14,
    "start_time": "2024-10-09T00:06:41.704Z"
   },
   {
    "duration": 14,
    "start_time": "2024-10-09T00:08:12.590Z"
   },
   {
    "duration": 6,
    "start_time": "2024-10-09T00:09:49.430Z"
   },
   {
    "duration": 7,
    "start_time": "2024-10-09T00:11:41.150Z"
   },
   {
    "duration": 6,
    "start_time": "2024-10-09T00:12:07.601Z"
   },
   {
    "duration": 2,
    "start_time": "2024-10-09T00:12:07.610Z"
   },
   {
    "duration": 3,
    "start_time": "2024-10-09T00:12:07.614Z"
   },
   {
    "duration": 2,
    "start_time": "2024-10-09T00:12:07.619Z"
   },
   {
    "duration": 2,
    "start_time": "2024-10-09T00:12:07.624Z"
   },
   {
    "duration": 16,
    "start_time": "2024-10-09T00:12:07.627Z"
   },
   {
    "duration": 21,
    "start_time": "2024-10-09T00:12:07.645Z"
   },
   {
    "duration": 49,
    "start_time": "2024-10-09T00:12:07.668Z"
   },
   {
    "duration": 17,
    "start_time": "2024-10-09T00:12:07.718Z"
   },
   {
    "duration": 16,
    "start_time": "2024-10-09T00:12:07.737Z"
   },
   {
    "duration": 7,
    "start_time": "2024-10-09T00:14:09.552Z"
   },
   {
    "duration": 12,
    "start_time": "2024-10-09T00:15:53.388Z"
   },
   {
    "duration": 682,
    "start_time": "2024-10-09T00:17:11.129Z"
   },
   {
    "duration": 236,
    "start_time": "2024-10-09T00:19:42.432Z"
   },
   {
    "duration": 542,
    "start_time": "2024-10-09T00:20:54.646Z"
   },
   {
    "duration": 527,
    "start_time": "2024-10-09T00:28:18.089Z"
   },
   {
    "duration": 2663,
    "start_time": "2024-10-09T21:27:56.332Z"
   },
   {
    "duration": 4,
    "start_time": "2024-10-09T21:27:58.997Z"
   },
   {
    "duration": 14,
    "start_time": "2024-10-09T21:27:59.002Z"
   },
   {
    "duration": 12,
    "start_time": "2024-10-09T21:27:59.018Z"
   },
   {
    "duration": 19,
    "start_time": "2024-10-09T21:27:59.033Z"
   },
   {
    "duration": 14,
    "start_time": "2024-10-09T21:27:59.053Z"
   },
   {
    "duration": 296,
    "start_time": "2024-10-09T21:27:59.069Z"
   },
   {
    "duration": 6,
    "start_time": "2024-10-09T21:27:59.367Z"
   },
   {
    "duration": 294,
    "start_time": "2024-10-09T21:27:59.376Z"
   },
   {
    "duration": 1022,
    "start_time": "2024-10-09T21:27:59.672Z"
   },
   {
    "duration": 19,
    "start_time": "2024-10-09T21:28:00.696Z"
   },
   {
    "duration": 452,
    "start_time": "2024-10-09T21:28:00.716Z"
   },
   {
    "duration": 5,
    "start_time": "2024-10-09T21:28:01.170Z"
   },
   {
    "duration": 0,
    "start_time": "2024-10-09T21:28:01.177Z"
   },
   {
    "duration": 0,
    "start_time": "2024-10-09T21:28:01.179Z"
   },
   {
    "duration": 0,
    "start_time": "2024-10-09T21:28:01.180Z"
   },
   {
    "duration": 0,
    "start_time": "2024-10-09T21:28:01.181Z"
   },
   {
    "duration": 0,
    "start_time": "2024-10-09T21:28:01.182Z"
   },
   {
    "duration": 0,
    "start_time": "2024-10-09T21:28:01.183Z"
   },
   {
    "duration": 0,
    "start_time": "2024-10-09T21:28:01.184Z"
   },
   {
    "duration": 0,
    "start_time": "2024-10-09T21:28:01.186Z"
   },
   {
    "duration": 0,
    "start_time": "2024-10-09T21:28:01.205Z"
   },
   {
    "duration": 256,
    "start_time": "2024-10-09T21:28:11.536Z"
   },
   {
    "duration": 12,
    "start_time": "2024-10-09T21:28:13.588Z"
   },
   {
    "duration": 370,
    "start_time": "2024-10-09T21:31:18.535Z"
   },
   {
    "duration": 13,
    "start_time": "2024-10-09T21:41:09.393Z"
   },
   {
    "duration": 935,
    "start_time": "2024-10-09T21:47:30.386Z"
   },
   {
    "duration": 6,
    "start_time": "2024-10-09T21:51:06.330Z"
   },
   {
    "duration": 8,
    "start_time": "2024-10-09T21:51:52.208Z"
   },
   {
    "duration": 9,
    "start_time": "2024-10-09T21:52:16.372Z"
   },
   {
    "duration": 14,
    "start_time": "2024-10-09T21:52:48.970Z"
   },
   {
    "duration": 20,
    "start_time": "2024-10-09T22:03:39.489Z"
   },
   {
    "duration": 26,
    "start_time": "2024-10-09T22:07:32.832Z"
   },
   {
    "duration": 2668,
    "start_time": "2024-10-10T11:27:46.534Z"
   },
   {
    "duration": 3,
    "start_time": "2024-10-10T11:27:49.205Z"
   },
   {
    "duration": 15,
    "start_time": "2024-10-10T11:27:49.209Z"
   },
   {
    "duration": 13,
    "start_time": "2024-10-10T11:27:49.226Z"
   },
   {
    "duration": 16,
    "start_time": "2024-10-10T11:27:49.241Z"
   },
   {
    "duration": 14,
    "start_time": "2024-10-10T11:27:49.258Z"
   },
   {
    "duration": 299,
    "start_time": "2024-10-10T11:27:49.274Z"
   },
   {
    "duration": 8,
    "start_time": "2024-10-10T11:27:49.575Z"
   },
   {
    "duration": 26,
    "start_time": "2024-10-10T11:27:49.585Z"
   },
   {
    "duration": 279,
    "start_time": "2024-10-10T11:27:49.613Z"
   },
   {
    "duration": 986,
    "start_time": "2024-10-10T11:27:49.895Z"
   },
   {
    "duration": 38,
    "start_time": "2024-10-10T11:27:50.882Z"
   },
   {
    "duration": 11,
    "start_time": "2024-10-10T11:27:50.922Z"
   },
   {
    "duration": 430,
    "start_time": "2024-10-10T11:27:50.937Z"
   },
   {
    "duration": 5,
    "start_time": "2024-10-10T11:27:51.369Z"
   },
   {
    "duration": 0,
    "start_time": "2024-10-10T11:27:51.375Z"
   },
   {
    "duration": 0,
    "start_time": "2024-10-10T11:27:51.377Z"
   },
   {
    "duration": 0,
    "start_time": "2024-10-10T11:27:51.379Z"
   },
   {
    "duration": 0,
    "start_time": "2024-10-10T11:27:51.380Z"
   },
   {
    "duration": 0,
    "start_time": "2024-10-10T11:27:51.382Z"
   },
   {
    "duration": 0,
    "start_time": "2024-10-10T11:27:51.383Z"
   },
   {
    "duration": 0,
    "start_time": "2024-10-10T11:27:51.385Z"
   },
   {
    "duration": 0,
    "start_time": "2024-10-10T11:27:51.385Z"
   },
   {
    "duration": 0,
    "start_time": "2024-10-10T11:27:51.387Z"
   },
   {
    "duration": 11,
    "start_time": "2024-10-10T11:32:45.938Z"
   },
   {
    "duration": 136,
    "start_time": "2024-10-10T11:39:41.447Z"
   },
   {
    "duration": 12,
    "start_time": "2024-10-10T11:40:04.977Z"
   },
   {
    "duration": 21,
    "start_time": "2024-10-10T11:40:10.589Z"
   },
   {
    "duration": 11,
    "start_time": "2024-10-10T11:40:21.925Z"
   },
   {
    "duration": 11,
    "start_time": "2024-10-10T11:41:36.177Z"
   },
   {
    "duration": 13,
    "start_time": "2024-10-10T11:41:56.150Z"
   },
   {
    "duration": 3666,
    "start_time": "2024-10-10T11:46:30.790Z"
   },
   {
    "duration": 387,
    "start_time": "2024-10-10T11:46:56.467Z"
   },
   {
    "duration": 408,
    "start_time": "2024-10-10T11:47:24.655Z"
   },
   {
    "duration": 404,
    "start_time": "2024-10-10T11:52:11.504Z"
   },
   {
    "duration": 405,
    "start_time": "2024-10-10T11:54:02.671Z"
   },
   {
    "duration": 465,
    "start_time": "2024-10-10T11:54:38.502Z"
   },
   {
    "duration": 396,
    "start_time": "2024-10-10T11:55:11.270Z"
   },
   {
    "duration": 333,
    "start_time": "2024-10-10T11:57:43.175Z"
   },
   {
    "duration": 318,
    "start_time": "2024-10-10T11:57:55.700Z"
   },
   {
    "duration": 156,
    "start_time": "2024-10-10T12:47:45.284Z"
   },
   {
    "duration": 2522,
    "start_time": "2024-10-10T12:47:53.876Z"
   },
   {
    "duration": 4,
    "start_time": "2024-10-10T12:47:56.400Z"
   },
   {
    "duration": 15,
    "start_time": "2024-10-10T12:47:56.405Z"
   },
   {
    "duration": 12,
    "start_time": "2024-10-10T12:47:56.422Z"
   },
   {
    "duration": 15,
    "start_time": "2024-10-10T12:47:56.436Z"
   },
   {
    "duration": 13,
    "start_time": "2024-10-10T12:47:56.452Z"
   },
   {
    "duration": 351,
    "start_time": "2024-10-10T12:47:56.467Z"
   },
   {
    "duration": 10,
    "start_time": "2024-10-10T12:47:56.824Z"
   },
   {
    "duration": 349,
    "start_time": "2024-10-10T12:47:56.835Z"
   },
   {
    "duration": 25,
    "start_time": "2024-10-10T12:47:57.186Z"
   },
   {
    "duration": 982,
    "start_time": "2024-10-10T12:47:57.213Z"
   },
   {
    "duration": 11,
    "start_time": "2024-10-10T12:47:58.197Z"
   },
   {
    "duration": 454,
    "start_time": "2024-10-10T12:47:58.211Z"
   },
   {
    "duration": 6,
    "start_time": "2024-10-10T12:47:58.668Z"
   },
   {
    "duration": 0,
    "start_time": "2024-10-10T12:47:58.675Z"
   },
   {
    "duration": 0,
    "start_time": "2024-10-10T12:47:58.676Z"
   },
   {
    "duration": 0,
    "start_time": "2024-10-10T12:47:58.678Z"
   },
   {
    "duration": 0,
    "start_time": "2024-10-10T12:47:58.679Z"
   },
   {
    "duration": 0,
    "start_time": "2024-10-10T12:47:58.681Z"
   },
   {
    "duration": 0,
    "start_time": "2024-10-10T12:47:58.682Z"
   },
   {
    "duration": 0,
    "start_time": "2024-10-10T12:47:58.684Z"
   },
   {
    "duration": 0,
    "start_time": "2024-10-10T12:47:58.685Z"
   },
   {
    "duration": 0,
    "start_time": "2024-10-10T12:47:58.687Z"
   },
   {
    "duration": 241,
    "start_time": "2024-10-10T12:48:29.087Z"
   },
   {
    "duration": 26,
    "start_time": "2024-10-10T12:56:20.541Z"
   },
   {
    "duration": 25,
    "start_time": "2024-10-10T12:59:21.197Z"
   },
   {
    "duration": 231,
    "start_time": "2024-10-10T13:02:49.778Z"
   },
   {
    "duration": 5,
    "start_time": "2024-10-10T13:04:33.022Z"
   },
   {
    "duration": 30,
    "start_time": "2024-10-10T13:04:43.415Z"
   },
   {
    "duration": 21,
    "start_time": "2024-10-10T13:05:03.572Z"
   },
   {
    "duration": 29,
    "start_time": "2024-10-10T13:05:54.990Z"
   },
   {
    "duration": 24,
    "start_time": "2024-10-10T13:15:05.075Z"
   },
   {
    "duration": 37,
    "start_time": "2024-10-10T13:16:44.168Z"
   },
   {
    "duration": 24,
    "start_time": "2024-10-10T13:16:59.086Z"
   },
   {
    "duration": 36,
    "start_time": "2024-10-10T13:20:12.554Z"
   },
   {
    "duration": 41,
    "start_time": "2024-10-10T13:23:41.813Z"
   },
   {
    "duration": 40,
    "start_time": "2024-10-10T13:25:03.865Z"
   },
   {
    "duration": 418,
    "start_time": "2024-10-10T13:27:04.108Z"
   },
   {
    "duration": 32,
    "start_time": "2024-10-10T13:28:03.286Z"
   },
   {
    "duration": 941,
    "start_time": "2024-10-10T14:00:12.328Z"
   },
   {
    "duration": 249,
    "start_time": "2024-10-10T14:01:28.013Z"
   },
   {
    "duration": 357,
    "start_time": "2024-10-10T14:01:32.746Z"
   },
   {
    "duration": 34,
    "start_time": "2024-10-10T14:22:07.372Z"
   },
   {
    "duration": 31,
    "start_time": "2024-10-10T14:22:58.436Z"
   },
   {
    "duration": 12,
    "start_time": "2024-10-10T14:37:11.639Z"
   },
   {
    "duration": 507,
    "start_time": "2024-10-10T14:38:15.684Z"
   },
   {
    "duration": 535,
    "start_time": "2024-10-10T14:38:25.716Z"
   },
   {
    "duration": 542,
    "start_time": "2024-10-10T14:44:32.877Z"
   },
   {
    "duration": 343,
    "start_time": "2024-10-10T14:45:11.211Z"
   },
   {
    "duration": 181,
    "start_time": "2024-10-10T14:46:49.470Z"
   },
   {
    "duration": 281,
    "start_time": "2024-10-10T14:56:45.910Z"
   },
   {
    "duration": 177,
    "start_time": "2024-10-10T14:57:31.823Z"
   },
   {
    "duration": 178,
    "start_time": "2024-10-10T14:57:50.050Z"
   },
   {
    "duration": 179,
    "start_time": "2024-10-10T14:57:58.507Z"
   },
   {
    "duration": 181,
    "start_time": "2024-10-10T14:58:49.465Z"
   },
   {
    "duration": 579,
    "start_time": "2024-10-10T14:59:18.764Z"
   },
   {
    "duration": 187,
    "start_time": "2024-10-10T14:59:57.860Z"
   },
   {
    "duration": 178,
    "start_time": "2024-10-10T15:00:26.873Z"
   },
   {
    "duration": 184,
    "start_time": "2024-10-10T15:00:45.241Z"
   },
   {
    "duration": 183,
    "start_time": "2024-10-10T15:01:24.128Z"
   },
   {
    "duration": 368,
    "start_time": "2024-10-10T15:05:13.138Z"
   },
   {
    "duration": 369,
    "start_time": "2024-10-10T15:06:23.639Z"
   },
   {
    "duration": 346,
    "start_time": "2024-10-10T15:06:49.956Z"
   },
   {
    "duration": 470,
    "start_time": "2024-10-10T15:07:11.189Z"
   },
   {
    "duration": 352,
    "start_time": "2024-10-10T15:07:45.556Z"
   },
   {
    "duration": 225,
    "start_time": "2024-10-10T15:08:36.589Z"
   },
   {
    "duration": 383,
    "start_time": "2024-10-10T15:09:38.012Z"
   },
   {
    "duration": 350,
    "start_time": "2024-10-10T15:09:50.091Z"
   },
   {
    "duration": 257,
    "start_time": "2024-10-10T15:12:23.833Z"
   },
   {
    "duration": 2662,
    "start_time": "2024-10-10T19:22:55.551Z"
   },
   {
    "duration": 4,
    "start_time": "2024-10-10T19:22:58.215Z"
   },
   {
    "duration": 15,
    "start_time": "2024-10-10T19:22:58.221Z"
   },
   {
    "duration": 13,
    "start_time": "2024-10-10T19:22:58.238Z"
   },
   {
    "duration": 16,
    "start_time": "2024-10-10T19:22:58.254Z"
   },
   {
    "duration": 46,
    "start_time": "2024-10-10T19:22:58.272Z"
   },
   {
    "duration": 316,
    "start_time": "2024-10-10T19:22:58.320Z"
   },
   {
    "duration": 12,
    "start_time": "2024-10-10T19:22:58.638Z"
   },
   {
    "duration": 389,
    "start_time": "2024-10-10T19:22:58.651Z"
   },
   {
    "duration": 32,
    "start_time": "2024-10-10T19:22:59.042Z"
   },
   {
    "duration": 971,
    "start_time": "2024-10-10T19:22:59.077Z"
   },
   {
    "duration": 13,
    "start_time": "2024-10-10T19:23:00.051Z"
   },
   {
    "duration": 376,
    "start_time": "2024-10-10T19:23:00.065Z"
   },
   {
    "duration": 193,
    "start_time": "2024-10-10T19:23:00.444Z"
   },
   {
    "duration": 232,
    "start_time": "2024-10-10T19:23:00.640Z"
   },
   {
    "duration": 3,
    "start_time": "2024-10-10T19:23:00.874Z"
   },
   {
    "duration": 3,
    "start_time": "2024-10-10T19:23:00.878Z"
   },
   {
    "duration": 39,
    "start_time": "2024-10-10T19:23:00.883Z"
   },
   {
    "duration": 18,
    "start_time": "2024-10-10T19:23:00.924Z"
   },
   {
    "duration": 17,
    "start_time": "2024-10-10T19:23:00.944Z"
   },
   {
    "duration": 9,
    "start_time": "2024-10-10T19:23:00.962Z"
   },
   {
    "duration": 39,
    "start_time": "2024-10-10T19:23:00.973Z"
   },
   {
    "duration": 253,
    "start_time": "2024-10-10T19:27:51.813Z"
   },
   {
    "duration": 513,
    "start_time": "2024-10-10T19:28:42.533Z"
   },
   {
    "duration": 354,
    "start_time": "2024-10-10T19:33:06.443Z"
   },
   {
    "duration": 293,
    "start_time": "2024-10-10T19:34:05.032Z"
   },
   {
    "duration": 7,
    "start_time": "2024-10-10T19:34:54.160Z"
   },
   {
    "duration": 15,
    "start_time": "2024-10-10T19:39:10.940Z"
   },
   {
    "duration": 16,
    "start_time": "2024-10-10T19:41:49.008Z"
   },
   {
    "duration": 31,
    "start_time": "2024-10-10T19:43:41.957Z"
   },
   {
    "duration": 258,
    "start_time": "2024-10-10T19:43:54.734Z"
   },
   {
    "duration": 19,
    "start_time": "2024-10-10T19:47:16.747Z"
   },
   {
    "duration": 18,
    "start_time": "2024-10-10T19:48:49.195Z"
   },
   {
    "duration": 37,
    "start_time": "2024-10-10T19:59:30.386Z"
   },
   {
    "duration": 5,
    "start_time": "2024-10-10T19:59:30.426Z"
   },
   {
    "duration": 15,
    "start_time": "2024-10-10T19:59:30.433Z"
   },
   {
    "duration": 14,
    "start_time": "2024-10-10T19:59:30.449Z"
   },
   {
    "duration": 18,
    "start_time": "2024-10-10T19:59:30.466Z"
   },
   {
    "duration": 40,
    "start_time": "2024-10-10T19:59:30.486Z"
   },
   {
    "duration": 406,
    "start_time": "2024-10-10T19:59:30.528Z"
   },
   {
    "duration": 17,
    "start_time": "2024-10-10T19:59:30.937Z"
   },
   {
    "duration": 400,
    "start_time": "2024-10-10T19:59:30.956Z"
   },
   {
    "duration": 152,
    "start_time": "2024-10-10T20:08:04.724Z"
   },
   {
    "duration": 274,
    "start_time": "2024-10-10T20:08:18.295Z"
   },
   {
    "duration": 491,
    "start_time": "2024-10-10T20:10:56.458Z"
   },
   {
    "duration": 898,
    "start_time": "2024-10-10T20:13:40.037Z"
   },
   {
    "duration": 3,
    "start_time": "2024-10-10T20:13:40.938Z"
   },
   {
    "duration": 15,
    "start_time": "2024-10-10T20:13:40.943Z"
   },
   {
    "duration": 14,
    "start_time": "2024-10-10T20:13:40.960Z"
   },
   {
    "duration": 42,
    "start_time": "2024-10-10T20:13:40.977Z"
   },
   {
    "duration": 14,
    "start_time": "2024-10-10T20:13:41.021Z"
   },
   {
    "duration": 277,
    "start_time": "2024-10-10T20:13:41.037Z"
   },
   {
    "duration": 11,
    "start_time": "2024-10-10T20:13:41.317Z"
   },
   {
    "duration": 410,
    "start_time": "2024-10-10T20:13:41.330Z"
   },
   {
    "duration": 252,
    "start_time": "2024-10-10T20:13:41.742Z"
   },
   {
    "duration": 0,
    "start_time": "2024-10-10T20:13:41.997Z"
   },
   {
    "duration": 0,
    "start_time": "2024-10-10T20:13:41.998Z"
   },
   {
    "duration": 0,
    "start_time": "2024-10-10T20:13:42.011Z"
   },
   {
    "duration": 0,
    "start_time": "2024-10-10T20:13:42.013Z"
   },
   {
    "duration": 0,
    "start_time": "2024-10-10T20:13:42.013Z"
   },
   {
    "duration": 0,
    "start_time": "2024-10-10T20:13:42.016Z"
   },
   {
    "duration": 0,
    "start_time": "2024-10-10T20:13:42.017Z"
   },
   {
    "duration": 0,
    "start_time": "2024-10-10T20:13:42.018Z"
   },
   {
    "duration": 0,
    "start_time": "2024-10-10T20:13:42.019Z"
   },
   {
    "duration": 0,
    "start_time": "2024-10-10T20:13:42.020Z"
   },
   {
    "duration": 0,
    "start_time": "2024-10-10T20:13:42.021Z"
   },
   {
    "duration": 0,
    "start_time": "2024-10-10T20:13:42.022Z"
   },
   {
    "duration": 0,
    "start_time": "2024-10-10T20:13:42.023Z"
   },
   {
    "duration": 33,
    "start_time": "2024-10-10T20:16:05.738Z"
   },
   {
    "duration": 919,
    "start_time": "2024-10-10T20:16:12.715Z"
   },
   {
    "duration": 3,
    "start_time": "2024-10-10T20:16:13.637Z"
   },
   {
    "duration": 14,
    "start_time": "2024-10-10T20:16:13.642Z"
   },
   {
    "duration": 12,
    "start_time": "2024-10-10T20:16:13.658Z"
   },
   {
    "duration": 16,
    "start_time": "2024-10-10T20:16:13.673Z"
   },
   {
    "duration": 14,
    "start_time": "2024-10-10T20:16:13.712Z"
   },
   {
    "duration": 276,
    "start_time": "2024-10-10T20:16:13.728Z"
   },
   {
    "duration": 15,
    "start_time": "2024-10-10T20:16:14.006Z"
   },
   {
    "duration": 417,
    "start_time": "2024-10-10T20:16:14.023Z"
   },
   {
    "duration": 34,
    "start_time": "2024-10-10T20:16:14.442Z"
   },
   {
    "duration": 900,
    "start_time": "2024-10-10T20:16:14.478Z"
   },
   {
    "duration": 12,
    "start_time": "2024-10-10T20:16:15.380Z"
   },
   {
    "duration": 395,
    "start_time": "2024-10-10T20:16:15.394Z"
   },
   {
    "duration": 201,
    "start_time": "2024-10-10T20:16:15.793Z"
   },
   {
    "duration": 482,
    "start_time": "2024-10-10T20:16:15.996Z"
   },
   {
    "duration": 590,
    "start_time": "2024-10-10T20:16:16.480Z"
   },
   {
    "duration": 5,
    "start_time": "2024-10-10T20:16:17.072Z"
   },
   {
    "duration": 0,
    "start_time": "2024-10-10T20:16:17.079Z"
   },
   {
    "duration": 0,
    "start_time": "2024-10-10T20:16:17.080Z"
   },
   {
    "duration": 0,
    "start_time": "2024-10-10T20:16:17.082Z"
   },
   {
    "duration": 0,
    "start_time": "2024-10-10T20:16:17.083Z"
   },
   {
    "duration": 0,
    "start_time": "2024-10-10T20:16:17.084Z"
   },
   {
    "duration": 0,
    "start_time": "2024-10-10T20:16:17.085Z"
   },
   {
    "duration": 908,
    "start_time": "2024-10-10T20:17:09.537Z"
   },
   {
    "duration": 3,
    "start_time": "2024-10-10T20:17:10.447Z"
   },
   {
    "duration": 14,
    "start_time": "2024-10-10T20:17:10.452Z"
   },
   {
    "duration": 12,
    "start_time": "2024-10-10T20:17:10.468Z"
   },
   {
    "duration": 39,
    "start_time": "2024-10-10T20:17:10.482Z"
   },
   {
    "duration": 13,
    "start_time": "2024-10-10T20:17:10.523Z"
   },
   {
    "duration": 286,
    "start_time": "2024-10-10T20:17:10.538Z"
   },
   {
    "duration": 10,
    "start_time": "2024-10-10T20:17:10.827Z"
   },
   {
    "duration": 397,
    "start_time": "2024-10-10T20:17:10.839Z"
   },
   {
    "duration": 35,
    "start_time": "2024-10-10T20:17:11.238Z"
   },
   {
    "duration": 898,
    "start_time": "2024-10-10T20:17:11.276Z"
   },
   {
    "duration": 12,
    "start_time": "2024-10-10T20:17:12.176Z"
   },
   {
    "duration": 395,
    "start_time": "2024-10-10T20:17:12.190Z"
   },
   {
    "duration": 204,
    "start_time": "2024-10-10T20:17:12.588Z"
   },
   {
    "duration": 490,
    "start_time": "2024-10-10T20:17:12.794Z"
   },
   {
    "duration": 585,
    "start_time": "2024-10-10T20:17:13.286Z"
   },
   {
    "duration": 4,
    "start_time": "2024-10-10T20:17:13.873Z"
   },
   {
    "duration": 0,
    "start_time": "2024-10-10T20:17:13.879Z"
   },
   {
    "duration": 0,
    "start_time": "2024-10-10T20:17:13.880Z"
   },
   {
    "duration": 0,
    "start_time": "2024-10-10T20:17:13.881Z"
   },
   {
    "duration": 0,
    "start_time": "2024-10-10T20:17:13.882Z"
   },
   {
    "duration": 0,
    "start_time": "2024-10-10T20:17:13.884Z"
   },
   {
    "duration": 0,
    "start_time": "2024-10-10T20:17:13.912Z"
   },
   {
    "duration": 940,
    "start_time": "2024-10-10T20:18:25.825Z"
   },
   {
    "duration": 4,
    "start_time": "2024-10-10T20:18:26.767Z"
   },
   {
    "duration": 24,
    "start_time": "2024-10-10T20:18:26.776Z"
   },
   {
    "duration": 23,
    "start_time": "2024-10-10T20:18:26.803Z"
   },
   {
    "duration": 23,
    "start_time": "2024-10-10T20:18:26.830Z"
   },
   {
    "duration": 20,
    "start_time": "2024-10-10T20:18:26.855Z"
   },
   {
    "duration": 309,
    "start_time": "2024-10-10T20:18:26.877Z"
   },
   {
    "duration": 24,
    "start_time": "2024-10-10T20:18:27.188Z"
   },
   {
    "duration": 438,
    "start_time": "2024-10-10T20:18:27.214Z"
   },
   {
    "duration": 61,
    "start_time": "2024-10-10T20:18:27.659Z"
   },
   {
    "duration": 929,
    "start_time": "2024-10-10T20:18:27.722Z"
   },
   {
    "duration": 15,
    "start_time": "2024-10-10T20:18:28.654Z"
   },
   {
    "duration": 455,
    "start_time": "2024-10-10T20:18:28.671Z"
   },
   {
    "duration": 203,
    "start_time": "2024-10-10T20:18:29.128Z"
   },
   {
    "duration": 453,
    "start_time": "2024-10-10T20:18:29.334Z"
   },
   {
    "duration": 657,
    "start_time": "2024-10-10T20:18:29.811Z"
   },
   {
    "duration": 4,
    "start_time": "2024-10-10T20:18:30.471Z"
   },
   {
    "duration": 0,
    "start_time": "2024-10-10T20:18:30.477Z"
   },
   {
    "duration": 0,
    "start_time": "2024-10-10T20:18:30.478Z"
   },
   {
    "duration": 0,
    "start_time": "2024-10-10T20:18:30.480Z"
   },
   {
    "duration": 0,
    "start_time": "2024-10-10T20:18:30.481Z"
   },
   {
    "duration": 0,
    "start_time": "2024-10-10T20:18:30.482Z"
   },
   {
    "duration": 0,
    "start_time": "2024-10-10T20:18:30.483Z"
   },
   {
    "duration": 8,
    "start_time": "2024-10-10T20:20:23.633Z"
   },
   {
    "duration": 11,
    "start_time": "2024-10-10T20:21:29.681Z"
   },
   {
    "duration": 36,
    "start_time": "2024-10-10T20:22:17.269Z"
   },
   {
    "duration": 4,
    "start_time": "2024-10-10T20:22:17.307Z"
   },
   {
    "duration": 14,
    "start_time": "2024-10-10T20:22:17.313Z"
   },
   {
    "duration": 12,
    "start_time": "2024-10-10T20:22:17.329Z"
   },
   {
    "duration": 18,
    "start_time": "2024-10-10T20:22:17.343Z"
   },
   {
    "duration": 12,
    "start_time": "2024-10-10T20:22:17.362Z"
   },
   {
    "duration": 280,
    "start_time": "2024-10-10T20:22:17.376Z"
   },
   {
    "duration": 11,
    "start_time": "2024-10-10T20:22:17.658Z"
   },
   {
    "duration": 350,
    "start_time": "2024-10-10T20:22:17.671Z"
   },
   {
    "duration": 38,
    "start_time": "2024-10-10T20:22:18.027Z"
   },
   {
    "duration": 936,
    "start_time": "2024-10-10T20:22:18.067Z"
   },
   {
    "duration": 18,
    "start_time": "2024-10-10T20:22:19.005Z"
   },
   {
    "duration": 405,
    "start_time": "2024-10-10T20:22:19.024Z"
   },
   {
    "duration": 191,
    "start_time": "2024-10-10T20:22:19.431Z"
   },
   {
    "duration": 589,
    "start_time": "2024-10-10T20:22:19.624Z"
   },
   {
    "duration": 10,
    "start_time": "2024-10-10T20:22:20.215Z"
   },
   {
    "duration": 18,
    "start_time": "2024-10-10T20:22:57.356Z"
   },
   {
    "duration": 902,
    "start_time": "2024-10-10T20:24:07.264Z"
   },
   {
    "duration": 3,
    "start_time": "2024-10-10T20:24:08.169Z"
   },
   {
    "duration": 16,
    "start_time": "2024-10-10T20:24:08.174Z"
   },
   {
    "duration": 28,
    "start_time": "2024-10-10T20:24:08.193Z"
   },
   {
    "duration": 17,
    "start_time": "2024-10-10T20:24:08.222Z"
   },
   {
    "duration": 14,
    "start_time": "2024-10-10T20:24:08.240Z"
   },
   {
    "duration": 288,
    "start_time": "2024-10-10T20:24:08.256Z"
   },
   {
    "duration": 12,
    "start_time": "2024-10-10T20:24:08.546Z"
   },
   {
    "duration": 397,
    "start_time": "2024-10-10T20:24:08.559Z"
   },
   {
    "duration": 33,
    "start_time": "2024-10-10T20:24:08.960Z"
   },
   {
    "duration": 919,
    "start_time": "2024-10-10T20:24:08.994Z"
   },
   {
    "duration": 12,
    "start_time": "2024-10-10T20:24:09.915Z"
   },
   {
    "duration": 410,
    "start_time": "2024-10-10T20:24:09.929Z"
   },
   {
    "duration": 197,
    "start_time": "2024-10-10T20:24:10.341Z"
   },
   {
    "duration": 435,
    "start_time": "2024-10-10T20:24:10.540Z"
   },
   {
    "duration": 9,
    "start_time": "2024-10-10T20:24:10.977Z"
   },
   {
    "duration": 40,
    "start_time": "2024-10-10T20:24:10.988Z"
   },
   {
    "duration": 17,
    "start_time": "2024-10-10T20:24:11.030Z"
   },
   {
    "duration": 15,
    "start_time": "2024-10-10T20:24:11.048Z"
   },
   {
    "duration": 16,
    "start_time": "2024-10-10T20:24:11.064Z"
   },
   {
    "duration": 10,
    "start_time": "2024-10-10T20:24:11.111Z"
   },
   {
    "duration": 10,
    "start_time": "2024-10-10T20:24:11.123Z"
   },
   {
    "duration": 2607,
    "start_time": "2024-10-11T02:57:58.013Z"
   },
   {
    "duration": 4,
    "start_time": "2024-10-11T02:58:01.373Z"
   },
   {
    "duration": 14,
    "start_time": "2024-10-11T02:58:01.915Z"
   },
   {
    "duration": 15,
    "start_time": "2024-10-11T02:58:02.695Z"
   },
   {
    "duration": 17,
    "start_time": "2024-10-11T02:58:03.369Z"
   },
   {
    "duration": 14,
    "start_time": "2024-10-11T02:58:03.886Z"
   },
   {
    "duration": 266,
    "start_time": "2024-10-11T02:58:06.141Z"
   },
   {
    "duration": 10,
    "start_time": "2024-10-11T02:58:07.466Z"
   },
   {
    "duration": 343,
    "start_time": "2024-10-11T02:58:08.259Z"
   },
   {
    "duration": 32,
    "start_time": "2024-10-11T02:58:09.638Z"
   },
   {
    "duration": 908,
    "start_time": "2024-10-11T02:58:11.329Z"
   },
   {
    "duration": 12,
    "start_time": "2024-10-11T02:58:13.325Z"
   },
   {
    "duration": 385,
    "start_time": "2024-10-11T02:58:13.873Z"
   },
   {
    "duration": 182,
    "start_time": "2024-10-11T02:58:15.537Z"
   },
   {
    "duration": 480,
    "start_time": "2024-10-11T02:58:17.052Z"
   },
   {
    "duration": 9,
    "start_time": "2024-10-11T02:58:18.358Z"
   },
   {
    "duration": 18,
    "start_time": "2024-10-11T02:58:20.300Z"
   },
   {
    "duration": 16,
    "start_time": "2024-10-11T02:58:21.801Z"
   },
   {
    "duration": 16,
    "start_time": "2024-10-11T02:58:22.773Z"
   },
   {
    "duration": 17,
    "start_time": "2024-10-11T02:58:23.539Z"
   },
   {
    "duration": 10,
    "start_time": "2024-10-11T02:58:45.156Z"
   },
   {
    "duration": 10,
    "start_time": "2024-10-11T02:58:56.670Z"
   },
   {
    "duration": 179,
    "start_time": "2024-10-11T03:21:29.783Z"
   },
   {
    "duration": 24,
    "start_time": "2024-10-11T03:22:14.928Z"
   },
   {
    "duration": 208,
    "start_time": "2024-10-11T03:23:41.807Z"
   },
   {
    "duration": 16,
    "start_time": "2024-10-11T03:26:27.082Z"
   },
   {
    "duration": 2574,
    "start_time": "2024-10-11T22:04:17.991Z"
   },
   {
    "duration": 4,
    "start_time": "2024-10-11T22:04:20.567Z"
   },
   {
    "duration": 13,
    "start_time": "2024-10-11T22:04:20.572Z"
   },
   {
    "duration": 18,
    "start_time": "2024-10-11T22:04:20.588Z"
   },
   {
    "duration": 22,
    "start_time": "2024-10-11T22:04:20.609Z"
   },
   {
    "duration": 14,
    "start_time": "2024-10-11T22:04:20.633Z"
   },
   {
    "duration": 280,
    "start_time": "2024-10-11T22:04:20.649Z"
   },
   {
    "duration": 10,
    "start_time": "2024-10-11T22:04:20.931Z"
   },
   {
    "duration": 389,
    "start_time": "2024-10-11T22:04:20.942Z"
   },
   {
    "duration": 34,
    "start_time": "2024-10-11T22:04:21.333Z"
   },
   {
    "duration": 875,
    "start_time": "2024-10-11T22:04:21.368Z"
   },
   {
    "duration": 200,
    "start_time": "2024-10-11T22:04:22.245Z"
   },
   {
    "duration": 12,
    "start_time": "2024-10-11T22:04:22.446Z"
   },
   {
    "duration": 440,
    "start_time": "2024-10-11T22:04:22.462Z"
   },
   {
    "duration": 200,
    "start_time": "2024-10-11T22:04:22.904Z"
   },
   {
    "duration": 494,
    "start_time": "2024-10-11T22:04:23.106Z"
   },
   {
    "duration": 9,
    "start_time": "2024-10-11T22:04:23.602Z"
   },
   {
    "duration": 17,
    "start_time": "2024-10-11T22:04:23.614Z"
   },
   {
    "duration": 16,
    "start_time": "2024-10-11T22:04:23.633Z"
   },
   {
    "duration": 45,
    "start_time": "2024-10-11T22:04:23.650Z"
   },
   {
    "duration": 16,
    "start_time": "2024-10-11T22:04:23.697Z"
   },
   {
    "duration": 9,
    "start_time": "2024-10-11T22:04:23.714Z"
   },
   {
    "duration": 9,
    "start_time": "2024-10-11T22:04:23.724Z"
   },
   {
    "duration": 15,
    "start_time": "2024-10-11T22:04:55.573Z"
   }
  ],
  "kernelspec": {
   "display_name": "base",
   "language": "python",
   "name": "python3"
  },
  "language_info": {
   "codemirror_mode": {
    "name": "ipython",
    "version": 3
   },
   "file_extension": ".py",
   "mimetype": "text/x-python",
   "name": "python",
   "nbconvert_exporter": "python",
   "pygments_lexer": "ipython3",
   "version": "3.12.4"
  },
  "toc": {
   "base_numbering": 1,
   "nav_menu": {},
   "number_sections": true,
   "sideBar": true,
   "skip_h1_title": true,
   "title_cell": "Table of Contents",
   "title_sidebar": "Contents",
   "toc_cell": false,
   "toc_position": {},
   "toc_section_display": true,
   "toc_window_display": false
  }
 },
 "nbformat": 4,
 "nbformat_minor": 2
}
